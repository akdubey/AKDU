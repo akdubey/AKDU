{
  "cells": [
    {
      "cell_type": "markdown",
      "metadata": {
        "id": "view-in-github",
        "colab_type": "text"
      },
      "source": [
        "<a href=\"https://colab.research.google.com/github/akdubey/AKDU/blob/main/Lecture_5a_Numpy_I.ipynb\" target=\"_parent\"><img src=\"https://colab.research.google.com/assets/colab-badge.svg\" alt=\"Open In Colab\"/></a>"
      ]
    },
    {
      "cell_type": "markdown",
      "metadata": {
        "id": "AsmxkQwP65DD"
      },
      "source": [
        "# Topics to be covered\n",
        "\n",
        "* Creating Arrays\n",
        "* List Vs ndarray\n",
        "* ndarray Attributes\n",
        "* Indexing and Slicing"
      ]
    },
    {
      "cell_type": "markdown",
      "metadata": {
        "id": "nQ5_-2en65DE"
      },
      "source": [
        "# Introduction to Numpy ![image.png](attachment:image.png)"
      ]
    },
    {
      "cell_type": "markdown",
      "metadata": {
        "id": "cMxIZ5N_65DF"
      },
      "source": [
        "* NumPy is one of the most important foundational packages for numerical computing in Python.\n",
        "* It provides a high-performance multidimensional array object, and tools for working with these arrays.\n"
      ]
    },
    {
      "cell_type": "markdown",
      "metadata": {
        "id": "tA1YuSd265DG"
      },
      "source": [
        "# Import NumPy"
      ]
    },
    {
      "cell_type": "code",
      "execution_count": null,
      "metadata": {
        "colab": {
          "base_uri": "https://localhost:8080/"
        },
        "id": "dkQdc5pJ65DG",
        "outputId": "535b80c2-1020-4fd2-9fd1-57c9d42de7aa"
      },
      "outputs": [
        {
          "output_type": "stream",
          "name": "stdout",
          "text": [
            "[1 2 3 4]\n"
          ]
        }
      ],
      "source": [
        "import numpy\n",
        "\n",
        "Myarray = numpy.array([1,2,3,4])\n",
        "\n",
        "print(Myarray)"
      ]
    },
    {
      "cell_type": "markdown",
      "metadata": {
        "id": "KS9Tp2Ew65DJ"
      },
      "source": [
        "# NumPy as np\n",
        "\n",
        "* NumPy is usually imported under the np alias.\n",
        "\n",
        "> alias: In Python alias are an alternate name for referring to the same thing."
      ]
    },
    {
      "cell_type": "code",
      "execution_count": null,
      "metadata": {
        "colab": {
          "base_uri": "https://localhost:8080/"
        },
        "id": "71UdeUm965DK",
        "outputId": "68e26d2d-a394-4b71-e571-ca921b6ea85e"
      },
      "outputs": [
        {
          "output_type": "stream",
          "name": "stdout",
          "text": [
            "['black' 'blue' 'green']\n"
          ]
        }
      ],
      "source": [
        "import numpy as np\n",
        "\n",
        "Myarray = np.array(['black','blue','green'])\n",
        "\n",
        "print(Myarray)"
      ]
    },
    {
      "cell_type": "markdown",
      "metadata": {
        "id": "cgv8qIng65DL"
      },
      "source": [
        "# Checking NumPy Version"
      ]
    },
    {
      "cell_type": "code",
      "execution_count": null,
      "metadata": {
        "colab": {
          "base_uri": "https://localhost:8080/",
          "height": 36
        },
        "id": "HPBbr9Nr65DM",
        "outputId": "b7a5ba55-d6d2-410a-d1f0-4d3d747ddc9d"
      },
      "outputs": [
        {
          "output_type": "execute_result",
          "data": {
            "text/plain": [
              "'1.21.6'"
            ],
            "application/vnd.google.colaboratory.intrinsic+json": {
              "type": "string"
            }
          },
          "metadata": {},
          "execution_count": 3
        }
      ],
      "source": [
        "np.__version__"
      ]
    },
    {
      "cell_type": "markdown",
      "metadata": {
        "id": "xbfcKn8165DN"
      },
      "source": [
        "# Creating Arrays\n",
        "\n",
        "* The array object in NumPy is called ndarray.\n",
        "* We can create a NumPy ndarray object by using the array() function.\n",
        "\n",
        "# Dimensions in Arrays\n",
        "\n",
        "* A dimension in arrays is one level of array depth\n"
      ]
    },
    {
      "cell_type": "markdown",
      "metadata": {
        "id": "CyHhxe_t65DN"
      },
      "source": [
        "# 0-D Arrays"
      ]
    },
    {
      "cell_type": "code",
      "execution_count": null,
      "metadata": {
        "colab": {
          "base_uri": "https://localhost:8080/"
        },
        "id": "3TtIG0Jb65DO",
        "outputId": "4cc85320-c656-4d95-a34d-d3541d825f61"
      },
      "outputs": [
        {
          "output_type": "stream",
          "name": "stdout",
          "text": [
            "100\n",
            "<class 'numpy.ndarray'>\n"
          ]
        }
      ],
      "source": [
        "arr = np.array(100)\n",
        "print(arr)\n",
        "print(type(arr))"
      ]
    },
    {
      "cell_type": "markdown",
      "metadata": {
        "id": "RGdSrk9565DO"
      },
      "source": [
        "# Creating Single-dimensional ndarray\n"
      ]
    },
    {
      "cell_type": "code",
      "execution_count": null,
      "metadata": {
        "colab": {
          "base_uri": "https://localhost:8080/"
        },
        "id": "_PcWVDbM65DO",
        "outputId": "869c513b-c174-436f-bc39-20152e207eb0"
      },
      "outputs": [
        {
          "output_type": "stream",
          "name": "stdout",
          "text": [
            "[1 2 3 4 5]\n"
          ]
        }
      ],
      "source": [
        "oneD = np.array([1,2,3,4,5])\n",
        "print(oneD)"
      ]
    },
    {
      "cell_type": "code",
      "execution_count": null,
      "metadata": {
        "colab": {
          "base_uri": "https://localhost:8080/"
        },
        "id": "wfdrBzs165DP",
        "outputId": "5d36b87a-b72d-43f9-ac0d-3221e9dd6890"
      },
      "outputs": [
        {
          "output_type": "stream",
          "name": "stdout",
          "text": [
            "[12 23 34 45 56]\n"
          ]
        }
      ],
      "source": [
        "element = [12,23,34,45,56]\n",
        "oneD = np.array(element)\n",
        "print(oneD)"
      ]
    },
    {
      "cell_type": "markdown",
      "metadata": {
        "id": "i_F5C0gT65DP"
      },
      "source": [
        "# Creating Multi-dimensional  ndarray"
      ]
    },
    {
      "cell_type": "code",
      "execution_count": null,
      "metadata": {
        "colab": {
          "base_uri": "https://localhost:8080/"
        },
        "id": "jJXkM3kM65DQ",
        "outputId": "3d5aee06-5bfd-43a3-de4d-e1f9710c318a"
      },
      "outputs": [
        {
          "output_type": "stream",
          "name": "stdout",
          "text": [
            "[[1 2 3]\n",
            " [4 5 6]]\n"
          ]
        }
      ],
      "source": [
        "twoD = np.array([[1,2,3],[4,5,6]])\n",
        "print(twoD)"
      ]
    },
    {
      "cell_type": "code",
      "execution_count": null,
      "metadata": {
        "colab": {
          "base_uri": "https://localhost:8080/"
        },
        "id": "l02ASrwu65DQ",
        "outputId": "ce944972-3f88-4da0-8e72-b3976ce04418"
      },
      "outputs": [
        {
          "output_type": "stream",
          "name": "stdout",
          "text": [
            "[[1 2 3 4]\n",
            " [9 8 7 6]]\n"
          ]
        }
      ],
      "source": [
        "elem = [[1,2,3,4],[9,8,7,6]]\n",
        "twoD = np.array(elem)\n",
        "print(twoD)"
      ]
    },
    {
      "cell_type": "markdown",
      "metadata": {
        "id": "a97eB0le65DR"
      },
      "source": [
        "# Check Dimensions of ndarray"
      ]
    },
    {
      "cell_type": "code",
      "execution_count": null,
      "metadata": {
        "colab": {
          "base_uri": "https://localhost:8080/"
        },
        "id": "kt4YKiBD65DR",
        "outputId": "53007dcd-8d6a-49b0-902d-12ed1ca3bf2f"
      },
      "outputs": [
        {
          "output_type": "execute_result",
          "data": {
            "text/plain": [
              "2"
            ]
          },
          "metadata": {},
          "execution_count": 9
        }
      ],
      "source": [
        "twoD.ndim"
      ]
    },
    {
      "cell_type": "code",
      "execution_count": null,
      "metadata": {
        "colab": {
          "base_uri": "https://localhost:8080/"
        },
        "id": "EnmWbStI65DS",
        "outputId": "1f1bd919-1d58-4ba6-ce32-3ea7e3c07904"
      },
      "outputs": [
        {
          "output_type": "execute_result",
          "data": {
            "text/plain": [
              "1"
            ]
          },
          "metadata": {},
          "execution_count": 10
        }
      ],
      "source": [
        "oneD.ndim"
      ]
    },
    {
      "cell_type": "code",
      "execution_count": null,
      "metadata": {
        "colab": {
          "base_uri": "https://localhost:8080/"
        },
        "id": "F6xbTM4H65DS",
        "outputId": "9c936dd3-4db4-44e2-d722-9ab2b7170687"
      },
      "outputs": [
        {
          "output_type": "execute_result",
          "data": {
            "text/plain": [
              "3"
            ]
          },
          "metadata": {},
          "execution_count": 11
        }
      ],
      "source": [
        "threeD = np.array([[[1,2,3],[4,5,6]],[[1,1,1],[2,2,2]]])\n",
        "threeD.ndim"
      ]
    },
    {
      "cell_type": "markdown",
      "metadata": {
        "id": "8AEGjyV565DT"
      },
      "source": [
        "# Creating ndarray with Zeros"
      ]
    },
    {
      "cell_type": "code",
      "execution_count": null,
      "metadata": {
        "colab": {
          "base_uri": "https://localhost:8080/"
        },
        "id": "1O1W6zB-65DT",
        "outputId": "5dc0231d-9c58-4627-d455-3a73b05dbaa2"
      },
      "outputs": [
        {
          "output_type": "execute_result",
          "data": {
            "text/plain": [
              "array([0, 0, 0, 0, 0])"
            ]
          },
          "metadata": {},
          "execution_count": 12
        }
      ],
      "source": [
        "x=np.zeros(5,dtype=int)\n",
        "x"
      ]
    },
    {
      "cell_type": "code",
      "execution_count": null,
      "metadata": {
        "colab": {
          "base_uri": "https://localhost:8080/"
        },
        "id": "2slX7qga65DT",
        "outputId": "b967fc9a-23f3-40c0-9229-a56c9261baec"
      },
      "outputs": [
        {
          "output_type": "execute_result",
          "data": {
            "text/plain": [
              "array([[0., 0., 0.],\n",
              "       [0., 0., 0.]])"
            ]
          },
          "metadata": {},
          "execution_count": 13
        }
      ],
      "source": [
        "x= np.zeros((2,3),dtype=float)\n",
        "x"
      ]
    },
    {
      "cell_type": "markdown",
      "metadata": {
        "id": "ImRomBzI65DT"
      },
      "source": [
        "# Creating ndarray with Ones"
      ]
    },
    {
      "cell_type": "code",
      "execution_count": null,
      "metadata": {
        "colab": {
          "base_uri": "https://localhost:8080/"
        },
        "id": "WPKSd8SU65DT",
        "outputId": "d3e8e19e-1bdc-4040-bd6c-31a6ade32c18"
      },
      "outputs": [
        {
          "output_type": "execute_result",
          "data": {
            "text/plain": [
              "array([1, 1, 1, 1, 1])"
            ]
          },
          "metadata": {},
          "execution_count": 14
        }
      ],
      "source": [
        "x = np.ones(5,dtype=int)\n",
        "x"
      ]
    },
    {
      "cell_type": "code",
      "execution_count": null,
      "metadata": {
        "colab": {
          "base_uri": "https://localhost:8080/"
        },
        "id": "XgUALNef65DU",
        "outputId": "7dc280e6-5199-4acc-92b1-defafef1f6d4"
      },
      "outputs": [
        {
          "output_type": "execute_result",
          "data": {
            "text/plain": [
              "array([[1, 1, 1, 1, 1],\n",
              "       [1, 1, 1, 1, 1],\n",
              "       [1, 1, 1, 1, 1],\n",
              "       [1, 1, 1, 1, 1],\n",
              "       [1, 1, 1, 1, 1]])"
            ]
          },
          "metadata": {},
          "execution_count": 15
        }
      ],
      "source": [
        "x = np.ones((5,5),dtype=int)\n",
        "x"
      ]
    },
    {
      "cell_type": "markdown",
      "metadata": {
        "id": "FnyHIi3_65DU"
      },
      "source": [
        "# Why do we use python numpy if we already have python list?\n",
        "\n",
        "* We use python numpy array instead of a list because of the below three reasons:\n",
        "\n",
        "> - Less Memory\n",
        "> - Fast\n",
        "> - ConvenientTo understand it\n",
        "\n",
        "### lets see Example"
      ]
    },
    {
      "cell_type": "code",
      "execution_count": null,
      "metadata": {
        "colab": {
          "base_uri": "https://localhost:8080/"
        },
        "id": "8C2yEFhZ65DU",
        "outputId": "06a432fb-0816-4a3e-f1a0-1b16b47e51f0"
      },
      "outputs": [
        {
          "output_type": "stream",
          "name": "stdout",
          "text": [
            "252\n",
            "72\n"
          ]
        }
      ],
      "source": [
        "# Less Memory\n",
        "\n",
        "import numpy as np\n",
        " \n",
        "import sys\n",
        "\n",
        "l = [1,2,3,4,5,6,7,8,9]\n",
        "print(sys.getsizeof(1)*len(l))\n",
        "\n",
        "arr = np.array(l)\n",
        "print(arr.size*arr.itemsize)"
      ]
    },
    {
      "cell_type": "code",
      "execution_count": null,
      "metadata": {
        "colab": {
          "base_uri": "https://localhost:8080/"
        },
        "id": "JNzIPxDY65DV",
        "outputId": "a0ff14c6-81c7-4498-a9c3-a42cad78b0f9"
      },
      "outputs": [
        {
          "output_type": "stream",
          "name": "stdout",
          "text": [
            "14.071941375732422\n",
            "0.8289813995361328\n"
          ]
        }
      ],
      "source": [
        "# Fast \n",
        "\n",
        "import numpy as np\n",
        "import time\n",
        "\n",
        "l1 = range(1,100000)\n",
        "l2 = range(1,100000)\n",
        "A1 = np.array(l1)\n",
        "A2 = np.array(l2)\n",
        "start = time.time()\n",
        "result1 = [x+y for x,y in zip(l1,l2)]\n",
        "print((time.time()- start)*1000)\n",
        "\n",
        "start =time.time()\n",
        "result2 = A1+A2\n",
        "print((time.time()- start)*1000)"
      ]
    },
    {
      "cell_type": "markdown",
      "metadata": {
        "id": "pdzMHuQQ65DV"
      },
      "source": [
        "# NumPy - Array Attributes ( Array Description)\n",
        "\n",
        "> #### Each array has features like shape, size and number of dimensions."
      ]
    },
    {
      "cell_type": "markdown",
      "metadata": {
        "id": "rBaR1PUb65DV"
      },
      "source": [
        "# ndarray.shape\n",
        "\n",
        ">  #### It returns a tuple consisting of array dimensions"
      ]
    },
    {
      "cell_type": "code",
      "execution_count": null,
      "metadata": {
        "colab": {
          "base_uri": "https://localhost:8080/"
        },
        "id": "Qg_ayxuG65DV",
        "outputId": "ec4457c0-d817-46f8-baa2-aed060ef8db6"
      },
      "outputs": [
        {
          "output_type": "stream",
          "name": "stdout",
          "text": [
            "(2, 3)\n"
          ]
        }
      ],
      "source": [
        "a = np.array([[1,2,3],[4,5,6]]) \n",
        "print(a.shape)"
      ]
    },
    {
      "cell_type": "markdown",
      "metadata": {
        "id": "JFfIGk3o65DW"
      },
      "source": [
        "# numpy.itemsize\n",
        "\n",
        ">  #### Itemsize represents the number of bytes in each element of an array."
      ]
    },
    {
      "cell_type": "code",
      "execution_count": null,
      "metadata": {
        "colab": {
          "base_uri": "https://localhost:8080/"
        },
        "id": "svMpaXbS65DW",
        "outputId": "8ee5ded8-7319-4e4c-9d9c-37d975462057"
      },
      "outputs": [
        {
          "output_type": "stream",
          "name": "stdout",
          "text": [
            "1\n"
          ]
        }
      ],
      "source": [
        "x = np.array([1,2,3,4,5], dtype = np.int8) \n",
        "print(x.itemsize)"
      ]
    },
    {
      "cell_type": "code",
      "execution_count": null,
      "metadata": {
        "scrolled": true,
        "colab": {
          "base_uri": "https://localhost:8080/"
        },
        "id": "JI1RjFGM65DW",
        "outputId": "27f4c0f1-7b93-49b9-eb63-31924b5f9eba"
      },
      "outputs": [
        {
          "output_type": "stream",
          "name": "stdout",
          "text": [
            "2\n"
          ]
        }
      ],
      "source": [
        "x = np.array([1,2,3,4,5], dtype = np.float16) \n",
        "print(x.itemsize)"
      ]
    },
    {
      "cell_type": "markdown",
      "metadata": {
        "id": "VJdj9nnM65DW"
      },
      "source": [
        "# How to use Python Numpy to generate Random Numbers?"
      ]
    },
    {
      "cell_type": "markdown",
      "metadata": {
        "id": "PGOUnbT565DX"
      },
      "source": [
        "### The random module in Numpy package contains many functions for generation of random numbers"
      ]
    },
    {
      "cell_type": "markdown",
      "metadata": {
        "id": "R0R4k6Oc65DX"
      },
      "source": [
        "# 1 .  numpy.random.rand() − \n",
        "### Generate Random Float from 0 to 1 of a given size"
      ]
    },
    {
      "cell_type": "code",
      "execution_count": null,
      "metadata": {
        "colab": {
          "base_uri": "https://localhost:8080/"
        },
        "id": "5l_kFKaF65DX",
        "outputId": "9ce1f0ed-338e-4d84-b0b0-deef1344967a"
      },
      "outputs": [
        {
          "output_type": "execute_result",
          "data": {
            "text/plain": [
              "array([0.44613944, 0.0622741 , 0.06360678, 0.30892202, 0.87255698,\n",
              "       0.85627642, 0.51776345, 0.16890137, 0.81764819, 0.50134461])"
            ]
          },
          "metadata": {},
          "execution_count": 21
        }
      ],
      "source": [
        "# Generate 10 random float\n",
        "x = np.random.rand(10)\n",
        "x"
      ]
    },
    {
      "cell_type": "code",
      "execution_count": null,
      "metadata": {
        "colab": {
          "base_uri": "https://localhost:8080/"
        },
        "id": "6qjHkExZ65DX",
        "outputId": "e172f0b8-1575-4873-f958-3ad249e0d7bb"
      },
      "outputs": [
        {
          "output_type": "execute_result",
          "data": {
            "text/plain": [
              "array([[0.08362915, 0.08225417, 0.82110882, 0.20074562],\n",
              "       [0.86500865, 0.59652253, 0.20952739, 0.41845812],\n",
              "       [0.23185689, 0.19124872, 0.74258057, 0.98621631]])"
            ]
          },
          "metadata": {},
          "execution_count": 22
        }
      ],
      "source": [
        "# Generate (3X4) vector of random float\n",
        "x = np.random.rand(3,4)\n",
        "x"
      ]
    },
    {
      "cell_type": "markdown",
      "metadata": {
        "id": "RSakQm0M65DY"
      },
      "source": [
        "# 2. numpy.random.randint() − \n",
        "### Generate a random integer from given range ( start to end-1)"
      ]
    },
    {
      "cell_type": "code",
      "execution_count": null,
      "metadata": {
        "colab": {
          "base_uri": "https://localhost:8080/"
        },
        "id": "4jtVeVX565DY",
        "outputId": "cc1b90de-b0fc-41ab-d108-6f5a38f14a4d"
      },
      "outputs": [
        {
          "output_type": "execute_result",
          "data": {
            "text/plain": [
              "array([6, 5, 6, 5, 8, 7, 5, 5, 5, 6])"
            ]
          },
          "metadata": {},
          "execution_count": 23
        }
      ],
      "source": [
        "#Generate 10 random integer in between 5 to 10.\n",
        "x = np.random.randint(5,10,size=10)\n",
        "x"
      ]
    },
    {
      "cell_type": "code",
      "execution_count": null,
      "metadata": {
        "colab": {
          "base_uri": "https://localhost:8080/"
        },
        "id": "pDWTkDNU65DY",
        "outputId": "8e8b4b22-486a-4bab-e7ee-c50ef5cb74d7"
      },
      "outputs": [
        {
          "output_type": "execute_result",
          "data": {
            "text/plain": [
              "array([[5, 6],\n",
              "       [7, 6],\n",
              "       [8, 9]])"
            ]
          },
          "metadata": {},
          "execution_count": 24
        }
      ],
      "source": [
        "#Generate (3X2)vector of random integer in between 5 to 10.\n",
        "x = np.random.randint(5,10,size=(3,2))\n",
        "x"
      ]
    },
    {
      "cell_type": "markdown",
      "metadata": {
        "id": "7oIes64K65DY"
      },
      "source": [
        "# 3. The choice() method \n",
        "### Generate Random Number From Array\n",
        "### The choice() method allows you to generate a random value based on an array of values."
      ]
    },
    {
      "cell_type": "code",
      "execution_count": null,
      "metadata": {
        "colab": {
          "base_uri": "https://localhost:8080/"
        },
        "id": "jBxuyyTY65DY",
        "outputId": "0efe7498-98af-4406-fdd3-2379098d3657"
      },
      "outputs": [
        {
          "output_type": "execute_result",
          "data": {
            "text/plain": [
              "1"
            ]
          },
          "metadata": {},
          "execution_count": 25
        }
      ],
      "source": [
        "# Generate a randome number from a list of element [1,2,3,4,5,6,7,8]\n",
        "x = np.random.choice([1,2,3,4,5,6,7,8])\n",
        "x"
      ]
    },
    {
      "cell_type": "code",
      "execution_count": null,
      "metadata": {
        "colab": {
          "base_uri": "https://localhost:8080/"
        },
        "id": "Oqx6qSHq65DZ",
        "outputId": "53422656-c469-4499-f025-5c4cdc928fc7"
      },
      "outputs": [
        {
          "output_type": "execute_result",
          "data": {
            "text/plain": [
              "array([7, 8])"
            ]
          },
          "metadata": {},
          "execution_count": 26
        }
      ],
      "source": [
        "# The choice() method also allows you to return an array of values.\n",
        "# Add a size parameter to specify the shape of the array.\n",
        "\n",
        "x = np.random.choice([1,2,3,4,5,6,7,8],size=2)\n",
        "x"
      ]
    },
    {
      "cell_type": "code",
      "execution_count": null,
      "metadata": {
        "colab": {
          "base_uri": "https://localhost:8080/"
        },
        "id": "jsYmNvI465DZ",
        "outputId": "a535620d-930a-461e-abfb-aa399443c048"
      },
      "outputs": [
        {
          "output_type": "execute_result",
          "data": {
            "text/plain": [
              "array([[8, 6, 8],\n",
              "       [2, 8, 1]])"
            ]
          },
          "metadata": {},
          "execution_count": 27
        }
      ],
      "source": [
        "x = np.random.choice([1,2,3,4,5,6,7,8],size=(2,3))\n",
        "x"
      ]
    },
    {
      "cell_type": "markdown",
      "metadata": {
        "id": "eq8MG8lH65DZ"
      },
      "source": [
        "# Accessing elements from an array\n",
        "\n",
        "> #### Indexing in Numpy is quite similar to Python’s list standard indexing. \n"
      ]
    },
    {
      "cell_type": "code",
      "execution_count": null,
      "metadata": {
        "colab": {
          "base_uri": "https://localhost:8080/"
        },
        "id": "ZoImLNnz65DZ",
        "outputId": "26dacf08-9d46-4d94-ef32-ddc30b3d5714"
      },
      "outputs": [
        {
          "output_type": "execute_result",
          "data": {
            "text/plain": [
              "45"
            ]
          },
          "metadata": {},
          "execution_count": 28
        }
      ],
      "source": [
        "# In 1-D we can access the nth element by stating the index in square brackets\n",
        "x = np.array([10,23,45,67,89]) \n",
        "x[2]"
      ]
    },
    {
      "cell_type": "code",
      "execution_count": null,
      "metadata": {
        "colab": {
          "base_uri": "https://localhost:8080/"
        },
        "id": "MjLP9Epi65Da",
        "outputId": "06818b37-49da-4f46-f856-e26d28137b5d"
      },
      "outputs": [
        {
          "output_type": "execute_result",
          "data": {
            "text/plain": [
              "34"
            ]
          },
          "metadata": {},
          "execution_count": 29
        }
      ],
      "source": [
        "# Method-1\n",
        "# In multi dimensional arrays, you can specify a comma separated tuple of indices to access the desired elements.\n",
        "y = np.array([[12,23,34],[2,4,67]])\n",
        "y[0,2]"
      ]
    },
    {
      "cell_type": "code",
      "execution_count": null,
      "metadata": {
        "colab": {
          "base_uri": "https://localhost:8080/"
        },
        "id": "gg6NWtII65Da",
        "outputId": "540b4988-4d94-4872-cfab-60ac01207430"
      },
      "outputs": [
        {
          "output_type": "execute_result",
          "data": {
            "text/plain": [
              "34"
            ]
          },
          "metadata": {},
          "execution_count": 30
        }
      ],
      "source": [
        "# Method-2\n",
        "y = np.array([[12,23,34],[2,4,67]])\n",
        "y[0][2]"
      ]
    },
    {
      "cell_type": "markdown",
      "metadata": {
        "id": "jZ0rtMjE65Da"
      },
      "source": [
        "# Indexing & Slicing\n",
        "\n",
        "> #### Contents of ndarray object can be accessed and modified by indexing or slicin"
      ]
    },
    {
      "cell_type": "markdown",
      "metadata": {
        "id": "RpcUXOCP65Da"
      },
      "source": [
        "# basic slicing"
      ]
    },
    {
      "cell_type": "code",
      "execution_count": null,
      "metadata": {
        "colab": {
          "base_uri": "https://localhost:8080/"
        },
        "id": "dYphj1Ri65Da",
        "outputId": "443c25e0-c750-4f8b-a99f-a6e83a21903f"
      },
      "outputs": [
        {
          "output_type": "execute_result",
          "data": {
            "text/plain": [
              "array([23, 45, 67])"
            ]
          },
          "metadata": {},
          "execution_count": 31
        }
      ],
      "source": [
        "x = np.array([10,23,45,67,89]) \n",
        "x[1:4]"
      ]
    },
    {
      "cell_type": "code",
      "execution_count": null,
      "metadata": {
        "colab": {
          "base_uri": "https://localhost:8080/"
        },
        "id": "9pZTeYEY65Db",
        "outputId": "fa677e1c-694f-4198-d832-9e0a784527c9"
      },
      "outputs": [
        {
          "output_type": "execute_result",
          "data": {
            "text/plain": [
              "array([[ 2,  4, 67],\n",
              "       [ 1,  1,  1],\n",
              "       [ 2,  2,  2]])"
            ]
          },
          "metadata": {},
          "execution_count": 32
        }
      ],
      "source": [
        "y = np.array([[12,23,34],[2,4,67],[1,1,1],[2,2,2]])\n",
        "y[1:]"
      ]
    },
    {
      "cell_type": "code",
      "execution_count": null,
      "metadata": {
        "colab": {
          "base_uri": "https://localhost:8080/"
        },
        "id": "HHKmuO_265Db",
        "outputId": "ce4c40cb-5493-4412-dbc3-1f95bafb5b62"
      },
      "outputs": [
        {
          "output_type": "execute_result",
          "data": {
            "text/plain": [
              "array([[2, 2, 2]])"
            ]
          },
          "metadata": {},
          "execution_count": 33
        }
      ],
      "source": [
        "y[-1:]"
      ]
    },
    {
      "cell_type": "code",
      "execution_count": null,
      "metadata": {
        "colab": {
          "base_uri": "https://localhost:8080/"
        },
        "id": "_nHWXWe865Db",
        "outputId": "35d3b074-6b49-4b70-98dc-2dd439257122"
      },
      "outputs": [
        {
          "output_type": "execute_result",
          "data": {
            "text/plain": [
              "array([[ 2,  4, 67],\n",
              "       [ 1,  1,  1]])"
            ]
          },
          "metadata": {},
          "execution_count": 34
        }
      ],
      "source": [
        "y[-3:-1]"
      ]
    },
    {
      "cell_type": "code",
      "execution_count": null,
      "metadata": {
        "colab": {
          "base_uri": "https://localhost:8080/"
        },
        "id": "U6ICqbh265Db",
        "outputId": "3e49a43c-1730-49ad-93a8-07b3092af3ba"
      },
      "outputs": [
        {
          "output_type": "execute_result",
          "data": {
            "text/plain": [
              "array([[12, 23, 34],\n",
              "       [ 2,  4, 67]])"
            ]
          },
          "metadata": {},
          "execution_count": 35
        }
      ],
      "source": [
        "y[0:2]"
      ]
    },
    {
      "cell_type": "code",
      "execution_count": null,
      "metadata": {
        "colab": {
          "base_uri": "https://localhost:8080/"
        },
        "id": "Tstacjvj65Db",
        "outputId": "7ff21b9b-3c7e-40e2-96b3-2d8e4e54f071"
      },
      "outputs": [
        {
          "output_type": "execute_result",
          "data": {
            "text/plain": [
              "array([[23, 34],\n",
              "       [ 4, 67],\n",
              "       [ 1,  1],\n",
              "       [ 2,  2]])"
            ]
          },
          "metadata": {},
          "execution_count": 36
        }
      ],
      "source": [
        "# All item from column 1 onward\n",
        "y[:,1:]"
      ]
    },
    {
      "cell_type": "code",
      "execution_count": null,
      "metadata": {
        "colab": {
          "base_uri": "https://localhost:8080/"
        },
        "id": "W5aBggep65Dc",
        "outputId": "699a08d0-e650-479e-f36a-dcd790fabc04"
      },
      "outputs": [
        {
          "output_type": "execute_result",
          "data": {
            "text/plain": [
              "array([[23, 34],\n",
              "       [ 4, 67]])"
            ]
          },
          "metadata": {},
          "execution_count": 37
        }
      ],
      "source": [
        "y[0:2,1:]"
      ]
    },
    {
      "cell_type": "markdown",
      "metadata": {
        "id": "rRChDCSo65Dc"
      },
      "source": [
        "# Boolean Array Indexing\n",
        "\n",
        "> #### This type of advanced indexing is used when the resultant object is meant to be the result of Boolean operations, such as comparison operators."
      ]
    },
    {
      "cell_type": "code",
      "execution_count": null,
      "metadata": {
        "colab": {
          "base_uri": "https://localhost:8080/"
        },
        "id": "E4eP_D6R65Dc",
        "outputId": "cebab925-6b27-4891-9247-89102cd7ee29"
      },
      "outputs": [
        {
          "output_type": "execute_result",
          "data": {
            "text/plain": [
              "array([10, 45])"
            ]
          },
          "metadata": {},
          "execution_count": 38
        }
      ],
      "source": [
        "x = np.array([10,23,45,67,89]) \n",
        "x[x%5==0]"
      ]
    },
    {
      "cell_type": "code",
      "execution_count": null,
      "metadata": {
        "colab": {
          "base_uri": "https://localhost:8080/"
        },
        "id": "V-t_Y4Lw65Dc",
        "outputId": "a2d6cd1f-fa0d-402d-c106-20f158b80625"
      },
      "outputs": [
        {
          "output_type": "execute_result",
          "data": {
            "text/plain": [
              "array([12, 34,  2,  4,  2,  2,  2])"
            ]
          },
          "metadata": {},
          "execution_count": 39
        }
      ],
      "source": [
        "y = np.array([[12,23,34],[2,4,67],[1,1,1],[2,2,2]])\n",
        "y[y%2==0]"
      ]
    },
    {
      "cell_type": "markdown",
      "metadata": {
        "id": "itxI5iXs65Dc"
      },
      "source": [
        "# Fancy Indexing"
      ]
    },
    {
      "cell_type": "markdown",
      "metadata": {
        "id": "tW_y6PNl65Dc"
      },
      "source": [
        "#### Fancy indexing is like the simple indexing we’ve already seen, but we pass arrays of indices in place of single scalars."
      ]
    },
    {
      "cell_type": "code",
      "execution_count": null,
      "metadata": {
        "colab": {
          "base_uri": "https://localhost:8080/"
        },
        "id": "SbuBqLmR65Dd",
        "outputId": "8b897dfa-143d-48d0-c834-e7d3fd06de5c"
      },
      "outputs": [
        {
          "output_type": "execute_result",
          "data": {
            "text/plain": [
              "array([[93, 93, 40,  5, 13, 18],\n",
              "       [12, 99,  1,  8, 54, 26],\n",
              "       [96, 76, 33, 88, 79, 54],\n",
              "       [66, 11, 51, 22, 49, 91],\n",
              "       [ 1,  9, 91, 63,  2, 39],\n",
              "       [76, 86, 44, 72, 18, 55],\n",
              "       [14, 23, 85, 60, 51, 81],\n",
              "       [31, 67, 19, 24, 26, 36],\n",
              "       [ 6, 70, 30, 23, 44, 51],\n",
              "       [99, 65,  5, 38, 23, 56]])"
            ]
          },
          "metadata": {},
          "execution_count": 40
        }
      ],
      "source": [
        "x = np.random.randint(100,size=(10,6))\n",
        "x"
      ]
    },
    {
      "cell_type": "code",
      "execution_count": null,
      "metadata": {
        "colab": {
          "base_uri": "https://localhost:8080/"
        },
        "id": "93_ihW6K65Dd",
        "outputId": "166b99a7-d400-4c4f-f94a-d20e6b3f1ffa"
      },
      "outputs": [
        {
          "output_type": "execute_result",
          "data": {
            "text/plain": [
              "array([[93,  5, 18],\n",
              "       [99,  8, 26],\n",
              "       [76, 88, 54],\n",
              "       [11, 22, 91],\n",
              "       [ 9, 63, 39],\n",
              "       [86, 72, 55],\n",
              "       [23, 60, 81],\n",
              "       [67, 24, 36],\n",
              "       [70, 23, 51],\n",
              "       [65, 38, 56]])"
            ]
          },
          "metadata": {},
          "execution_count": 41
        }
      ],
      "source": [
        "# print second,forth and sixth column\n",
        "x[:,[1,3,5]]"
      ]
    },
    {
      "cell_type": "code",
      "execution_count": null,
      "metadata": {
        "colab": {
          "base_uri": "https://localhost:8080/"
        },
        "id": "ldPGDsHO65Dd",
        "outputId": "91b6badc-b744-4d7b-96cc-85fe0baba083"
      },
      "outputs": [
        {
          "output_type": "execute_result",
          "data": {
            "text/plain": [
              "array([[12, 99,  1,  8, 54, 26],\n",
              "       [96, 76, 33, 88, 79, 54],\n",
              "       [66, 11, 51, 22, 49, 91],\n",
              "       [ 1,  9, 91, 63,  2, 39],\n",
              "       [76, 86, 44, 72, 18, 55],\n",
              "       [14, 23, 85, 60, 51, 81]])"
            ]
          },
          "metadata": {},
          "execution_count": 42
        }
      ],
      "source": [
        "#print from row= 2 to 6\n",
        "x[1:7,]"
      ]
    },
    {
      "cell_type": "code",
      "execution_count": null,
      "metadata": {
        "colab": {
          "base_uri": "https://localhost:8080/"
        },
        "id": "p_x896Fc65Dd",
        "outputId": "4962d698-50af-4277-b4d0-c991e56f0961"
      },
      "outputs": [
        {
          "output_type": "execute_result",
          "data": {
            "text/plain": [
              "array([[ 8, 26],\n",
              "       [88, 54],\n",
              "       [22, 91],\n",
              "       [63, 39],\n",
              "       [72, 55],\n",
              "       [60, 81]])"
            ]
          },
          "metadata": {},
          "execution_count": 43
        }
      ],
      "source": [
        "# print from row= 2 to 6 and only column 4 and 6\n",
        "x[1:7,[3,5]]"
      ]
    },
    {
      "cell_type": "code",
      "execution_count": null,
      "metadata": {
        "colab": {
          "base_uri": "https://localhost:8080/"
        },
        "id": "S-QWA7It65Dd",
        "outputId": "83edd56e-b1da-47b8-ec2b-1ef6b65fc4fa"
      },
      "outputs": [
        {
          "output_type": "stream",
          "name": "stdout",
          "text": [
            "[[93 93 40  5 13 18]\n",
            " [12 99  1  8 54 26]\n",
            " [96 76 33 88 79 54]\n",
            " [66 11 51 22 49 91]\n",
            " [ 1  9 91 63  2 39]\n",
            " [76 86 44 72 18 55]\n",
            " [14 23 85 60 51 81]\n",
            " [31 67 19 24 26 36]\n",
            " [ 6 70 30 23 44 51]\n",
            " [99 65  5 38 23 56]]\n"
          ]
        },
        {
          "output_type": "execute_result",
          "data": {
            "text/plain": [
              "array([[96, 76, 33, 88, 79, 54],\n",
              "       [66, 11, 51, 22, 49, 91],\n",
              "       [ 1,  9, 91, 63,  2, 39]])"
            ]
          },
          "metadata": {},
          "execution_count": 44
        }
      ],
      "source": [
        "# More about Indexing\n",
        "print(x)\n",
        "x[2:5]"
      ]
    },
    {
      "cell_type": "code",
      "execution_count": null,
      "metadata": {
        "colab": {
          "base_uri": "https://localhost:8080/"
        },
        "id": "PjXlQBds65Dd",
        "outputId": "0f02a23c-69bc-4ef4-cbb1-1890c8eb6794"
      },
      "outputs": [
        {
          "output_type": "execute_result",
          "data": {
            "text/plain": [
              "array([96, 76, 33, 88, 79, 54])"
            ]
          },
          "metadata": {},
          "execution_count": 45
        }
      ],
      "source": [
        "x[2:5][0] # It gives first row"
      ]
    },
    {
      "cell_type": "code",
      "execution_count": null,
      "metadata": {
        "colab": {
          "base_uri": "https://localhost:8080/"
        },
        "id": "5ruOlwAT65De",
        "outputId": "4d8331db-8cbb-45d0-f7ac-d38ed54d6b3b"
      },
      "outputs": [
        {
          "output_type": "execute_result",
          "data": {
            "text/plain": [
              "array([[88, 79, 54],\n",
              "       [22, 49, 91],\n",
              "       [63,  2, 39]])"
            ]
          },
          "metadata": {},
          "execution_count": 46
        }
      ],
      "source": [
        "x[2:5][:,3:] # it gives col 3 to end"
      ]
    },
    {
      "cell_type": "code",
      "execution_count": null,
      "metadata": {
        "id": "zXY6J1vn65De"
      },
      "outputs": [],
      "source": [
        ""
      ]
    }
  ],
  "metadata": {
    "kernelspec": {
      "display_name": "Python 3",
      "language": "python",
      "name": "python3"
    },
    "language_info": {
      "codemirror_mode": {
        "name": "ipython",
        "version": 3
      },
      "file_extension": ".py",
      "mimetype": "text/x-python",
      "name": "python",
      "nbconvert_exporter": "python",
      "pygments_lexer": "ipython3",
      "version": "3.8.5"
    },
    "colab": {
      "name": "Lecture 5a Numpy -I.ipynb",
      "provenance": [],
      "include_colab_link": true
    }
  },
  "nbformat": 4,
  "nbformat_minor": 0
}