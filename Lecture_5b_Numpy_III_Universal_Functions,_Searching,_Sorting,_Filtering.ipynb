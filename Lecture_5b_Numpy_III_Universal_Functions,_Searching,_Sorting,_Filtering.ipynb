{
  "cells": [
    {
      "cell_type": "markdown",
      "metadata": {
        "id": "view-in-github",
        "colab_type": "text"
      },
      "source": [
        "<a href=\"https://colab.research.google.com/github/akdubey/AKDU/blob/main/Lecture_5b_Numpy_III_Universal_Functions%2C_Searching%2C_Sorting%2C_Filtering.ipynb\" target=\"_parent\"><img src=\"https://colab.research.google.com/assets/colab-badge.svg\" alt=\"Open In Colab\"/></a>"
      ]
    },
    {
      "cell_type": "markdown",
      "metadata": {
        "id": "DpTgG4QS8kuW"
      },
      "source": [
        "# Topics to be covered\n",
        "\n",
        "* Universal Functions\n",
        "* Searching\n",
        "* Sorting\n",
        "* Filtering\n"
      ]
    },
    {
      "cell_type": "markdown",
      "metadata": {
        "id": "To96iYAk8kuZ"
      },
      "source": [
        "# Importing Numpy Package"
      ]
    },
    {
      "cell_type": "code",
      "execution_count": 1,
      "metadata": {
        "id": "3BQTtVtQ8kua"
      },
      "outputs": [],
      "source": [
        "import numpy as np"
      ]
    },
    {
      "cell_type": "markdown",
      "metadata": {
        "id": "Gm7MnsTZ8kud"
      },
      "source": [
        "# Computation on NumPy arrays\n",
        " * #### Computation on NumPy arrays can be very fast, or it can be very slow.\n",
        " \n",
        " * #### The key to making it fast is to use vectorized operations, generally implemented through NumPy’s universal functions (ufuncs)."
      ]
    },
    {
      "cell_type": "markdown",
      "metadata": {
        "id": "2ycakIGt8kuf"
      },
      "source": [
        "# What is Vectorization?\n",
        "\n",
        "Converting iterative statements into a vector based operation is called vectorization.\n",
        "\n",
        "It is faster as modern CPUs are optimized for such operations."
      ]
    },
    {
      "cell_type": "markdown",
      "metadata": {
        "id": "yqXzIVXO8kuh"
      },
      "source": [
        "# Array arithmetic"
      ]
    },
    {
      "cell_type": "markdown",
      "metadata": {
        "id": "OS4MxbiU8kui"
      },
      "source": [
        "# Absolute value"
      ]
    },
    {
      "cell_type": "code",
      "execution_count": 2,
      "metadata": {
        "colab": {
          "base_uri": "https://localhost:8080/"
        },
        "id": "9SFo4ywb8kuk",
        "outputId": "09fb8332-74bf-4828-c80c-d81c65677274"
      },
      "outputs": [
        {
          "output_type": "execute_result",
          "data": {
            "text/plain": [
              "array([2, 1, 0, 1, 2])"
            ]
          },
          "metadata": {},
          "execution_count": 2
        }
      ],
      "source": [
        "x = np.array([-2,-1,0,1,2])\n",
        "np.absolute(x)"
      ]
    },
    {
      "cell_type": "markdown",
      "metadata": {
        "id": "RmUyJru-8kum"
      },
      "source": [
        "# Exponents and logarithms"
      ]
    },
    {
      "cell_type": "code",
      "execution_count": 3,
      "metadata": {
        "colab": {
          "base_uri": "https://localhost:8080/"
        },
        "id": "YYyP9PBg8kun",
        "outputId": "28e39ce8-e590-471b-d297-c8b7d3e29e1c"
      },
      "outputs": [
        {
          "output_type": "execute_result",
          "data": {
            "text/plain": [
              "array([ 2.71828183,  7.3890561 , 20.08553692])"
            ]
          },
          "metadata": {},
          "execution_count": 3
        }
      ],
      "source": [
        "# e^x\n",
        "x = [1,2,3]\n",
        "np.exp(x)"
      ]
    },
    {
      "cell_type": "code",
      "execution_count": 4,
      "metadata": {
        "colab": {
          "base_uri": "https://localhost:8080/"
        },
        "id": "HBGz7bAM8kuo",
        "outputId": "6f70d19e-525b-4c01-8d13-80f3799f9713"
      },
      "outputs": [
        {
          "output_type": "execute_result",
          "data": {
            "text/plain": [
              "array([2., 4., 8.])"
            ]
          },
          "metadata": {},
          "execution_count": 4
        }
      ],
      "source": [
        "#2^x\n",
        "x=[1,2,3]\n",
        "np.exp2(x)"
      ]
    },
    {
      "cell_type": "code",
      "execution_count": 5,
      "metadata": {
        "colab": {
          "base_uri": "https://localhost:8080/"
        },
        "id": "7A57E4Qi8kup",
        "outputId": "b3fd7be2-33c8-4595-c923-7059850a447d"
      },
      "outputs": [
        {
          "output_type": "execute_result",
          "data": {
            "text/plain": [
              "array([0.        , 0.69314718, 1.09861229])"
            ]
          },
          "metadata": {},
          "execution_count": 5
        }
      ],
      "source": [
        "# ln(x)\n",
        "x=[1,2,3]\n",
        "np.log(x)"
      ]
    },
    {
      "cell_type": "code",
      "execution_count": 6,
      "metadata": {
        "colab": {
          "base_uri": "https://localhost:8080/"
        },
        "id": "bpJtkVfI8kuq",
        "outputId": "a296b66c-b3fe-45fc-c67c-195d53ff2a4b"
      },
      "outputs": [
        {
          "output_type": "execute_result",
          "data": {
            "text/plain": [
              "array([0.       , 1.       , 1.5849625])"
            ]
          },
          "metadata": {},
          "execution_count": 6
        }
      ],
      "source": [
        "np.log2(x)"
      ]
    },
    {
      "cell_type": "code",
      "execution_count": 7,
      "metadata": {
        "colab": {
          "base_uri": "https://localhost:8080/"
        },
        "id": "D_Zpwxrf8kur",
        "outputId": "c9259069-5440-433d-eb8f-ba982adef585"
      },
      "outputs": [
        {
          "output_type": "execute_result",
          "data": {
            "text/plain": [
              "array([0.        , 0.30103   , 0.47712125])"
            ]
          },
          "metadata": {},
          "execution_count": 7
        }
      ],
      "source": [
        "np.log10(x)"
      ]
    },
    {
      "cell_type": "markdown",
      "metadata": {
        "id": "fkl2jTib8kur"
      },
      "source": [
        "# Advanced Ufunc Features"
      ]
    },
    {
      "cell_type": "markdown",
      "metadata": {
        "id": "5yGV9_-t8kus"
      },
      "source": [
        "# 1. Specifying output\n",
        "\n",
        "For large calculations, it is sometimes useful to be able to specify the array where the result of the calculation will be stored."
      ]
    },
    {
      "cell_type": "code",
      "execution_count": 8,
      "metadata": {
        "colab": {
          "base_uri": "https://localhost:8080/"
        },
        "id": "8EndFkee8kut",
        "outputId": "35ae0d01-2621-4bdc-efb6-6e0390ada5c1"
      },
      "outputs": [
        {
          "output_type": "execute_result",
          "data": {
            "text/plain": [
              "array([ 0., 10., 20., 30., 40.])"
            ]
          },
          "metadata": {},
          "execution_count": 8
        }
      ],
      "source": [
        "# Example\n",
        "x = np.arange(5)\n",
        "y = np.empty(5)\n",
        "np.multiply(x, 10, out=y)"
      ]
    },
    {
      "cell_type": "markdown",
      "metadata": {
        "id": "esWYMjLV8kuu"
      },
      "source": [
        "#### if we write y = x*10 then , It create a temporary array to hold the results of x*10 , followed by a second operation copying those values into the y array"
      ]
    },
    {
      "cell_type": "markdown",
      "metadata": {
        "id": "PJpdvlKc8kuu"
      },
      "source": [
        "# 2. Aggregations (Reduce method)\n",
        "\n",
        "* #### if you like to reduce an array with a particular operation, we can use the reduce method of any ufunc. \n",
        "\n",
        "* #### A reduce repeatedly applies a given operation to the elements of an array until only a single result remains."
      ]
    },
    {
      "cell_type": "code",
      "execution_count": 9,
      "metadata": {
        "colab": {
          "base_uri": "https://localhost:8080/"
        },
        "id": "EjDoRnbX8kuv",
        "outputId": "1f4ac6c5-7dcd-4b40-91a4-bdb3d9a86f91"
      },
      "outputs": [
        {
          "output_type": "execute_result",
          "data": {
            "text/plain": [
              "55"
            ]
          },
          "metadata": {},
          "execution_count": 9
        }
      ],
      "source": [
        "# alling reduce on the add ufunc returns the sum of all elements in the\n",
        "#array\n",
        "x = np.arange(1,11)\n",
        "np.add.reduce(x)"
      ]
    },
    {
      "cell_type": "code",
      "execution_count": 10,
      "metadata": {
        "colab": {
          "base_uri": "https://localhost:8080/"
        },
        "id": "qNwH35IJ8kuy",
        "outputId": "59e8828d-4d5a-4494-d0a9-5d9f44142c1c"
      },
      "outputs": [
        {
          "output_type": "execute_result",
          "data": {
            "text/plain": [
              "array([ 1,  3,  6, 10, 15, 21, 28, 36, 45, 55])"
            ]
          },
          "metadata": {},
          "execution_count": 10
        }
      ],
      "source": [
        "# If you like to store all intermidiate results of the computation the we can\n",
        "# use accumlate().\n",
        "\n",
        "np.add.accumulate(x)"
      ]
    },
    {
      "cell_type": "markdown",
      "metadata": {
        "id": "fMLutIPu8ku0"
      },
      "source": [
        "# Note - there are dedicated NumPy functions to compute the results \n",
        "\n",
        "* np.sum\n",
        "* np.prod\n",
        "* np.cumsum\n",
        "* np.cumprod\n"
      ]
    },
    {
      "cell_type": "markdown",
      "metadata": {
        "id": "CRz8FrmZ8ku1"
      },
      "source": [
        "# Aggregation functions available in NumPy\n",
        "\n",
        "* #### Often when you are faced with a large amount of data, a first step is to compute summary statistics for the data in question.\n",
        "\n",
        "* #### numpy provides following Aggregation function"
      ]
    },
    {
      "cell_type": "code",
      "execution_count": 11,
      "metadata": {
        "colab": {
          "base_uri": "https://localhost:8080/"
        },
        "id": "6Mzy6-zx8ku1",
        "outputId": "dc7f287b-8603-45b4-8bb9-d6020459edc7"
      },
      "outputs": [
        {
          "output_type": "stream",
          "name": "stdout",
          "text": [
            "[[  1   2   3   4   5   6   7   8   9  10]\n",
            " [ 11  12  13  14  15  16  17  18  19  20]\n",
            " [ 21  22  23  24  25  26  27  28  29  30]\n",
            " [ 31  32  33  34  35  36  37  38  39  40]\n",
            " [ 41  42  43  44  45  46  47  48  49  50]\n",
            " [ 51  52  53  54  55  56  57  58  59  60]\n",
            " [ 61  62  63  64  65  66  67  68  69  70]\n",
            " [ 71  72  73  74  75  76  77  78  79  80]\n",
            " [ 81  82  83  84  85  86  87  88  89  90]\n",
            " [ 91  92  93  94  95  96  97  98  99 100]]\n"
          ]
        },
        {
          "output_type": "execute_result",
          "data": {
            "text/plain": [
              "array([[ 2],\n",
              "       [12],\n",
              "       [22],\n",
              "       [32],\n",
              "       [42],\n",
              "       [52],\n",
              "       [62],\n",
              "       [72],\n",
              "       [82],\n",
              "       [92]])"
            ]
          },
          "metadata": {},
          "execution_count": 11
        }
      ],
      "source": [
        "x = np.arange(1,101).reshape(10,10)\n",
        "print(x)\n",
        "x[:,[1]]"
      ]
    },
    {
      "cell_type": "code",
      "execution_count": 12,
      "metadata": {
        "colab": {
          "base_uri": "https://localhost:8080/"
        },
        "id": "-CYqzjXr8ku2",
        "outputId": "edc0aeeb-f8db-4500-a91a-2670db4bfca4"
      },
      "outputs": [
        {
          "output_type": "stream",
          "name": "stdout",
          "text": [
            " Sum of Elements  470\n",
            " Product of Elements  1242688846823424\n",
            " Mean of Elements  47.0\n",
            " Standard deviation  28.722813232690143\n",
            " Minimum Value  2\n",
            " Maximum Value  92\n",
            " Meadian  47.0\n",
            "ANy elemet are True :  True\n"
          ]
        }
      ],
      "source": [
        "print(\" Sum of Elements \",np.sum(x[:,[1]]))\n",
        "print(\" Product of Elements \",np.prod(x[:,[1]]))\n",
        "print(\" Mean of Elements \",np.mean(x[:,[1]]))\n",
        "#Standard deviation is a number used to tell how measurements for a group \n",
        "# are spread out from the average (mean), or expected value\n",
        "print(\" Standard deviation \",np.std(x[:,[1]])) \n",
        "print(\" Minimum Value \",np.min(x[:,[1]]))\n",
        "print(\" Maximum Value \",np.max(x[:,[1]])) \n",
        "print(\" Meadian \",np.median(x[:,[1]]))\n",
        "print(\"ANy elemet are True : \",np.any(x[:,[1]]))"
      ]
    },
    {
      "cell_type": "code",
      "execution_count": 13,
      "metadata": {
        "colab": {
          "base_uri": "https://localhost:8080/"
        },
        "id": "u7oEHwuP8ku3",
        "outputId": "e7d3a724-df47-4047-c1f4-74b8725054c2"
      },
      "outputs": [
        {
          "output_type": "execute_result",
          "data": {
            "text/plain": [
              "5.0"
            ]
          },
          "metadata": {},
          "execution_count": 13
        }
      ],
      "source": [
        "# Working with nan\n",
        "x = np.array([1,2,3,4,5,np.nan,6,7,8,9])\n",
        "np.nanmean(x)"
      ]
    },
    {
      "cell_type": "code",
      "execution_count": 14,
      "metadata": {
        "colab": {
          "base_uri": "https://localhost:8080/"
        },
        "id": "cV1YoAHu8ku3",
        "outputId": "3991e2de-2b53-43e1-893f-7f79d9ae104d"
      },
      "outputs": [
        {
          "output_type": "execute_result",
          "data": {
            "text/plain": [
              "3.0"
            ]
          },
          "metadata": {},
          "execution_count": 14
        }
      ],
      "source": [
        "x = np.array([1,2,3,'',4,5])\n",
        "def m(x):\n",
        "    if x == '':\n",
        "        return np.nan\n",
        "    else:\n",
        "        return float(x)\n",
        "y = np.frompyfunc(m,1,1)\n",
        "x = y(x).astype(float)\n",
        "np.nanmean(x)"
      ]
    },
    {
      "cell_type": "code",
      "execution_count": 14,
      "metadata": {
        "id": "1xEpUp2e8ku4"
      },
      "outputs": [],
      "source": [
        ""
      ]
    },
    {
      "cell_type": "markdown",
      "metadata": {
        "id": "4w_Oc3Jz8ku4"
      },
      "source": [
        "# How To Create Your Own ufunc\n",
        "\n",
        "#### To create you own ufunc, you have to define a function, like you do with normal functions in Python, then you add it to your NumPy ufunc library with the frompyfunc() method.\n",
        "\n",
        "> The frompyfunc() method takes the following arguments:\n",
        "* function - the name of the function.\n",
        "* inputs - the number of input arguments (arrays).\n",
        "* outputs - the number of output arrays."
      ]
    },
    {
      "cell_type": "code",
      "execution_count": 15,
      "metadata": {
        "id": "Fev6HEcH8ku5"
      },
      "outputs": [],
      "source": [
        "# Create a ufunc which return cube of a given number\n",
        "\n",
        "def myufunc(x):\n",
        "    return x**3"
      ]
    },
    {
      "cell_type": "code",
      "execution_count": 16,
      "metadata": {
        "colab": {
          "base_uri": "https://localhost:8080/"
        },
        "id": "OMXpvQNg8ku6",
        "outputId": "a00d336f-baac-4530-e86e-ac154bcbb5ed"
      },
      "outputs": [
        {
          "output_type": "execute_result",
          "data": {
            "text/plain": [
              "array([1, 8, 27, 64, 125, 216, 343, 512, 729, 1000], dtype=object)"
            ]
          },
          "metadata": {},
          "execution_count": 16
        }
      ],
      "source": [
        "x = np.arange(1,11)\n",
        "cube = np.frompyfunc(myufunc,1,1)\n",
        "cube(x)"
      ]
    },
    {
      "cell_type": "code",
      "execution_count": 17,
      "metadata": {
        "colab": {
          "base_uri": "https://localhost:8080/"
        },
        "id": "5jm5sXBt8ku7",
        "outputId": "496c1549-98ff-47bb-ec8c-a73a793f0011"
      },
      "outputs": [
        {
          "output_type": "execute_result",
          "data": {
            "text/plain": [
              "numpy.ufunc"
            ]
          },
          "metadata": {},
          "execution_count": 17
        }
      ],
      "source": [
        "# Check if a Function is a ufunc\n",
        "type(cube)"
      ]
    },
    {
      "cell_type": "code",
      "execution_count": 18,
      "metadata": {
        "colab": {
          "base_uri": "https://localhost:8080/"
        },
        "id": "urLQzGX38ku7",
        "outputId": "a0b4d3cc-d027-4942-cbdc-44e51b91415e"
      },
      "outputs": [
        {
          "output_type": "execute_result",
          "data": {
            "text/plain": [
              "numpy.ufunc"
            ]
          },
          "metadata": {},
          "execution_count": 18
        }
      ],
      "source": [
        "# inbuild add ufunc\n",
        "type(np.add)"
      ]
    },
    {
      "cell_type": "markdown",
      "metadata": {
        "id": "t2tlNqeT8ku8"
      },
      "source": [
        "# Searching Arrays\n",
        "\n",
        "You can search an array for a certain value, and return the indexes that get a match.\n",
        "\n",
        "To search an array, use the where() method."
      ]
    },
    {
      "cell_type": "code",
      "execution_count": 19,
      "metadata": {
        "colab": {
          "base_uri": "https://localhost:8080/"
        },
        "id": "sw_jDtP68ku9",
        "outputId": "6a900912-ff18-403e-9038-5930831cdfe0"
      },
      "outputs": [
        {
          "output_type": "stream",
          "name": "stdout",
          "text": [
            "[8 4 1 3 3 3 7 3 4 6]\n"
          ]
        }
      ],
      "source": [
        "x = np.random.randint(1,10,size=10)\n",
        "print(x)"
      ]
    },
    {
      "cell_type": "code",
      "execution_count": 20,
      "metadata": {
        "colab": {
          "base_uri": "https://localhost:8080/"
        },
        "id": "vUu3--Vr8ku-",
        "outputId": "75e21e04-7746-40ee-9657-fd0783b813b7"
      },
      "outputs": [
        {
          "output_type": "execute_result",
          "data": {
            "text/plain": [
              "(array([1, 8]),)"
            ]
          },
          "metadata": {},
          "execution_count": 20
        }
      ],
      "source": [
        "np.where(x == 4)"
      ]
    },
    {
      "cell_type": "code",
      "execution_count": 21,
      "metadata": {
        "colab": {
          "base_uri": "https://localhost:8080/"
        },
        "id": "fReRFPKp8ku-",
        "outputId": "ae367e53-f293-4fbe-de43-0351dd5030c3"
      },
      "outputs": [
        {
          "output_type": "execute_result",
          "data": {
            "text/plain": [
              "(array([0, 6, 9]),)"
            ]
          },
          "metadata": {},
          "execution_count": 21
        }
      ],
      "source": [
        "np.where(x>4)"
      ]
    },
    {
      "cell_type": "markdown",
      "metadata": {
        "id": "t6I3TxbZ8ku-"
      },
      "source": [
        "# Fast Sorting in NumPy: np.sort and np.argsort\n",
        "\n",
        "By default np.sort uses an O(N log N)"
      ]
    },
    {
      "cell_type": "code",
      "execution_count": 22,
      "metadata": {
        "colab": {
          "base_uri": "https://localhost:8080/"
        },
        "id": "AUkTIWTP8ku_",
        "outputId": "48ac01ba-b638-42a9-fae0-7f058db8118c"
      },
      "outputs": [
        {
          "output_type": "execute_result",
          "data": {
            "text/plain": [
              "array([ 1,  2,  2,  3, 34, 45, 54, 89])"
            ]
          },
          "metadata": {},
          "execution_count": 22
        }
      ],
      "source": [
        "# np.sort return sorted array\n",
        "x = np.array([34,2,45,3,2,1,89,54])\n",
        "np.sort(x)"
      ]
    },
    {
      "cell_type": "code",
      "execution_count": 23,
      "metadata": {
        "colab": {
          "base_uri": "https://localhost:8080/"
        },
        "id": "nbSUnsxt8kvA",
        "outputId": "5e126edd-a8ce-4260-b336-dcc54f647f3c"
      },
      "outputs": [
        {
          "output_type": "execute_result",
          "data": {
            "text/plain": [
              "array([ 1,  2,  2,  3, 34, 45, 54, 89])"
            ]
          },
          "metadata": {},
          "execution_count": 23
        }
      ],
      "source": [
        "# If you prefer to sort the array in-place\n",
        "x.sort()\n",
        "x"
      ]
    },
    {
      "cell_type": "markdown",
      "metadata": {
        "id": "SsUuhSz08kvA"
      },
      "source": [
        "# Sorting along rows or columns\n",
        "\n",
        "A useful feature of NumPy’s sorting algorithms is the ability to sort along specific rows or columns of a multidimensional array using the axis argument"
      ]
    },
    {
      "cell_type": "code",
      "execution_count": 24,
      "metadata": {
        "colab": {
          "base_uri": "https://localhost:8080/"
        },
        "id": "3uIcmf_J8kvB",
        "outputId": "b162fb9b-fc8c-4f71-bd1f-52ed781c99ac"
      },
      "outputs": [
        {
          "output_type": "execute_result",
          "data": {
            "text/plain": [
              "array([[18, 96, 24, 24],\n",
              "       [49, 75, 83, 83],\n",
              "       [13, 56, 80, 52],\n",
              "       [29, 91, 70, 56],\n",
              "       [25, 36, 80, 15],\n",
              "       [82, 63, 66, 65],\n",
              "       [59, 10, 73, 74],\n",
              "       [97, 77, 64, 35],\n",
              "       [36, 94, 74, 99],\n",
              "       [55, 29, 16, 56]])"
            ]
          },
          "metadata": {},
          "execution_count": 24
        }
      ],
      "source": [
        "data = np.random.randint(10,100,(10,4))\n",
        "data"
      ]
    },
    {
      "cell_type": "code",
      "execution_count": 25,
      "metadata": {
        "colab": {
          "base_uri": "https://localhost:8080/"
        },
        "id": "8NHSD6xN8kvB",
        "outputId": "76589439-e756-4bac-ca1b-9deb501a36d1"
      },
      "outputs": [
        {
          "output_type": "execute_result",
          "data": {
            "text/plain": [
              "array([[13, 10, 16, 15],\n",
              "       [18, 29, 24, 24],\n",
              "       [25, 36, 64, 35],\n",
              "       [29, 56, 66, 52],\n",
              "       [36, 63, 70, 56],\n",
              "       [49, 75, 73, 56],\n",
              "       [55, 77, 74, 65],\n",
              "       [59, 91, 80, 74],\n",
              "       [82, 94, 80, 83],\n",
              "       [97, 96, 83, 99]])"
            ]
          },
          "metadata": {},
          "execution_count": 25
        }
      ],
      "source": [
        "# Sort each column of data\n",
        "np.sort(data,axis = 0)"
      ]
    },
    {
      "cell_type": "code",
      "execution_count": 26,
      "metadata": {
        "colab": {
          "base_uri": "https://localhost:8080/"
        },
        "id": "KzM0NWOn8kvC",
        "outputId": "634935bb-c476-4963-8791-1ad335a05873"
      },
      "outputs": [
        {
          "output_type": "execute_result",
          "data": {
            "text/plain": [
              "array([[18, 24, 24, 96],\n",
              "       [49, 75, 83, 83],\n",
              "       [13, 52, 56, 80],\n",
              "       [29, 56, 70, 91],\n",
              "       [15, 25, 36, 80],\n",
              "       [63, 65, 66, 82],\n",
              "       [10, 59, 73, 74],\n",
              "       [35, 64, 77, 97],\n",
              "       [36, 74, 94, 99],\n",
              "       [16, 29, 55, 56]])"
            ]
          },
          "metadata": {},
          "execution_count": 26
        }
      ],
      "source": [
        "# Sort each row of data\n",
        "np.sort(data,axis = 1)"
      ]
    },
    {
      "cell_type": "code",
      "execution_count": 27,
      "metadata": {
        "colab": {
          "base_uri": "https://localhost:8080/"
        },
        "id": "bgsHwUlW8kvD",
        "outputId": "28e0db16-d889-42d5-f9d3-94b10e154898"
      },
      "outputs": [
        {
          "output_type": "execute_result",
          "data": {
            "text/plain": [
              "array([[10],\n",
              "       [29],\n",
              "       [36],\n",
              "       [56],\n",
              "       [63],\n",
              "       [75],\n",
              "       [77],\n",
              "       [91],\n",
              "       [94],\n",
              "       [96]])"
            ]
          },
          "metadata": {},
          "execution_count": 27
        }
      ],
      "source": [
        "# Sort Single Column\n",
        "np.sort(data[:,[1]],axis=0)"
      ]
    },
    {
      "cell_type": "markdown",
      "metadata": {
        "id": "oyWhVX2H8kvD"
      },
      "source": [
        "# Filtering Arrays\n",
        "\n",
        "Getting some elements out of an existing array and creating a new array out of them is called filtering.\n",
        "\n",
        "In NumPy, you filter an array using a boolean index list."
      ]
    },
    {
      "cell_type": "code",
      "execution_count": 28,
      "metadata": {
        "colab": {
          "base_uri": "https://localhost:8080/"
        },
        "id": "PMpY1w998kvD",
        "outputId": "d33c111a-6484-4a00-f997-d887fadb8229"
      },
      "outputs": [
        {
          "output_type": "execute_result",
          "data": {
            "text/plain": [
              "array([1, 3, 5])"
            ]
          },
          "metadata": {},
          "execution_count": 28
        }
      ],
      "source": [
        "x = np.array([1,2,3,5,6])\n",
        "f = [True,False,True,True,False]\n",
        "x[f]"
      ]
    },
    {
      "cell_type": "code",
      "execution_count": 29,
      "metadata": {
        "colab": {
          "base_uri": "https://localhost:8080/"
        },
        "id": "W2Tl9I4_8kvE",
        "outputId": "4e6785ab-ae63-47a5-e313-353e056fa177"
      },
      "outputs": [
        {
          "output_type": "execute_result",
          "data": {
            "text/plain": [
              "array([1, 3, 5])"
            ]
          },
          "metadata": {},
          "execution_count": 29
        }
      ],
      "source": [
        "x = np.array([1,2,3,5,6])\n",
        "f = x%2==1\n",
        "x[f]"
      ]
    },
    {
      "cell_type": "code",
      "execution_count": 30,
      "metadata": {
        "colab": {
          "base_uri": "https://localhost:8080/"
        },
        "id": "iAN17qyT8kvE",
        "outputId": "279df3a6-4243-44b4-edc8-e70d932a44a3"
      },
      "outputs": [
        {
          "output_type": "execute_result",
          "data": {
            "text/plain": [
              "array([1, 3, 5])"
            ]
          },
          "metadata": {},
          "execution_count": 30
        }
      ],
      "source": [
        "x = np.array([1,2,3,5,6])\n",
        "x[x%2==1]"
      ]
    },
    {
      "cell_type": "code",
      "execution_count": 30,
      "metadata": {
        "id": "rnF7oudJ8kvF"
      },
      "outputs": [],
      "source": [
        ""
      ]
    }
  ],
  "metadata": {
    "kernelspec": {
      "display_name": "Python 3",
      "language": "python",
      "name": "python3"
    },
    "language_info": {
      "codemirror_mode": {
        "name": "ipython",
        "version": 3
      },
      "file_extension": ".py",
      "mimetype": "text/x-python",
      "name": "python",
      "nbconvert_exporter": "python",
      "pygments_lexer": "ipython3",
      "version": "3.7.1"
    },
    "colab": {
      "name": "Lecture 5b Numpy -III Universal Functions, Searching, Sorting, Filtering.ipynb",
      "provenance": [],
      "collapsed_sections": [
        "fkl2jTib8kur",
        "esWYMjLV8kuu",
        "fMLutIPu8ku0"
      ],
      "include_colab_link": true
    }
  },
  "nbformat": 4,
  "nbformat_minor": 0
}