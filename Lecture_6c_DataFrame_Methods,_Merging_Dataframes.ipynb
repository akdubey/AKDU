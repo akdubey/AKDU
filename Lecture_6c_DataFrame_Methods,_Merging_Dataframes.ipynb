{
  "cells": [
    {
      "cell_type": "markdown",
      "metadata": {
        "id": "view-in-github",
        "colab_type": "text"
      },
      "source": [
        "<a href=\"https://colab.research.google.com/github/akdubey/AKDU/blob/main/Lecture_6c_DataFrame_Methods%2C_Merging_Dataframes.ipynb\" target=\"_parent\"><img src=\"https://colab.research.google.com/assets/colab-badge.svg\" alt=\"Open In Colab\"/></a>"
      ]
    },
    {
      "cell_type": "markdown",
      "metadata": {
        "id": "yRQBweeDE-rk"
      },
      "source": [
        "# Topics to be covered\n",
        "\n",
        "* DataFrame Methods\n",
        "* Merging Dataframes"
      ]
    },
    {
      "cell_type": "code",
      "execution_count": 2,
      "metadata": {
        "id": "9cXz5_8FE-rl"
      },
      "outputs": [],
      "source": [
        "import pandas as pd"
      ]
    },
    {
      "cell_type": "code",
      "execution_count": 3,
      "metadata": {
        "id": "xsrNxa2aE-rm"
      },
      "outputs": [],
      "source": [
        "# data = pd.read_csv('Salary_Data1.csv')"
      ]
    },
    {
      "cell_type": "code",
      "source": [
        "#The OS module in Python provides functions for creating and removing a directory (folder), fetching its contents, changing and identifying the current directory, etc. You first need to import the os module to interact with the underlying operating system\n",
        "import os"
      ],
      "metadata": {
        "id": "xmuNtj0NFO3k"
      },
      "execution_count": 4,
      "outputs": []
    },
    {
      "cell_type": "code",
      "source": [
        "# Mount Your Drive \n",
        "from google.colab import drive\n",
        "drive.mount('/content/drive')"
      ],
      "metadata": {
        "colab": {
          "base_uri": "https://localhost:8080/"
        },
        "id": "N1WfzttkFXcF",
        "outputId": "ee4f2c44-473c-415b-e78b-0ad23c850312"
      },
      "execution_count": 5,
      "outputs": [
        {
          "output_type": "stream",
          "name": "stdout",
          "text": [
            "Mounted at /content/drive\n"
          ]
        }
      ]
    },
    {
      "cell_type": "code",
      "source": [
        "data = '/content/drive/My Drive/Training/Salary_Data.csv' "
      ],
      "metadata": {
        "id": "L1tKof79Frek"
      },
      "execution_count": 13,
      "outputs": []
    },
    {
      "cell_type": "markdown",
      "metadata": {
        "id": "BkpFGI14E-rm"
      },
      "source": [
        "# Data Frame Attributes"
      ]
    },
    {
      "cell_type": "code",
      "source": [
        "# syntax of writing an attribute\n",
        "data.attribute"
      ],
      "metadata": {
        "id": "y3QCS6qMQU5s"
      },
      "execution_count": null,
      "outputs": []
    },
    {
      "cell_type": "code",
      "source": [
        "# INDEX\n",
        "# There are two types of index in a DataFrame one is the row index and the other is the column index. The index attribute is used to display the row labels of a data frame object. \n",
        "\n",
        "data.index"
      ],
      "metadata": {
        "id": "sB-sislfQVM8"
      },
      "execution_count": null,
      "outputs": []
    },
    {
      "cell_type": "code",
      "source": [
        "# COLUMN\n",
        "# Used to fetch the label values for columns present in a particular data frame\n",
        "\n",
        "data.columns "
      ],
      "metadata": {
        "id": "90hpe_qRQVVc"
      },
      "execution_count": null,
      "outputs": []
    },
    {
      "cell_type": "code",
      "source": [
        "# AXES\n",
        "# Used when we want to fetch the values of all row labels and all column labels at a time\n",
        "\n",
        "data.axes"
      ],
      "metadata": {
        "id": "9HxYyPVjQVoM"
      },
      "execution_count": null,
      "outputs": []
    },
    {
      "cell_type": "code",
      "source": [
        "# dtypes\n",
        "# Purpose of this attribute is to display the data type for each column of a particular dataframe\n",
        "\n",
        "data.dtypes"
      ],
      "metadata": {
        "id": "CdfxnydwROxS"
      },
      "execution_count": null,
      "outputs": []
    },
    {
      "cell_type": "code",
      "source": [
        "# size\n",
        "# Used to display the total number of elements or items present in a data frame\n",
        "\n",
        "data.size"
      ],
      "metadata": {
        "id": "oHl1ixY9RZAh"
      },
      "execution_count": null,
      "outputs": []
    },
    {
      "cell_type": "code",
      "source": [
        "# shape\n",
        "# Used to display the total number of rows and columns of a particular data frame. For example, if we have 3 rows and 2 columns in a DataFrame then the shape will be (3,2)\n",
        "\n",
        "data.shape"
      ],
      "metadata": {
        "id": "TM9lg9RaRh2s"
      },
      "execution_count": null,
      "outputs": []
    },
    {
      "cell_type": "code",
      "source": [
        "# ndim\n",
        "# ndim means the number of dimensions and this attribute is used to display the number of dimensions of a particular data frame, and a DataFrame is of 2 Dimensional objects\n",
        "\n",
        "data.ndim"
      ],
      "metadata": {
        "id": "fq5SCsgZRt1O"
      },
      "execution_count": null,
      "outputs": []
    },
    {
      "cell_type": "code",
      "source": [
        "#empty\n",
        "# Used to check whether the data frame is empty or not. This attribute returns true if the data frame is empty and false if the DataFrame is not empty\n",
        "\n",
        "data.empty"
      ],
      "metadata": {
        "id": "f0DgAXpGR0UH"
      },
      "execution_count": null,
      "outputs": []
    },
    {
      "cell_type": "code",
      "source": [
        "# T (Transpose)\n",
        "# Used to change the rows into columns and columns into rows\n",
        "\n",
        "data.T"
      ],
      "metadata": {
        "id": "PO-ZLqiPR8Oj"
      },
      "execution_count": null,
      "outputs": []
    },
    {
      "cell_type": "code",
      "source": [
        "#values\n",
        "# Used to represent the values/data of dataframe in NumPy array form\n",
        "\n",
        "data.value"
      ],
      "metadata": {
        "id": "-aw8kXuHSFxc"
      },
      "execution_count": null,
      "outputs": []
    },
    {
      "cell_type": "code",
      "source": [
        "# .info method \n",
        "# summarizes the types and columns of a data frame\n",
        "# When you have larger data sets, this information is useful\n",
        "data.info()"
      ],
      "metadata": {
        "id": "i5xccG6HSWnA"
      },
      "execution_count": null,
      "outputs": []
    },
    {
      "cell_type": "markdown",
      "metadata": {
        "id": "S3fx6vkNE-rq"
      },
      "source": [
        "# Serialization\n",
        "\n",
        "Data frames can serialize to many forms. \n",
        "\n",
        "The most important functionality is probably converting to and from a CSV file\n",
        "* pd.read_csv\n",
        "* pd.to_csv\n",
        "* .to_dict etc....."
      ]
    },
    {
      "cell_type": "code",
      "source": [
        "data['annual_data']=data['Salary']*12\n",
        "data"
      ],
      "metadata": {
        "id": "p-Tecr07SexX"
      },
      "execution_count": null,
      "outputs": []
    },
    {
      "cell_type": "code",
      "source": [
        "data.to_csv('Salary_update.csv')"
      ],
      "metadata": {
        "id": "bunDzU7dShMT"
      },
      "execution_count": null,
      "outputs": []
    },
    {
      "cell_type": "code",
      "source": [
        "data.to_dict()"
      ],
      "metadata": {
        "id": "AdxPAulfShYb"
      },
      "execution_count": null,
      "outputs": []
    },
    {
      "cell_type": "markdown",
      "metadata": {
        "id": "vYk1ABPlE-rr"
      },
      "source": [
        "# DataFrame.set_index()"
      ]
    },
    {
      "cell_type": "code",
      "execution_count": null,
      "metadata": {
        "id": "6c7dJB0kE-rr"
      },
      "outputs": [],
      "source": [
        "d = data.set_index('Occupation')\n",
        "d"
      ]
    },
    {
      "cell_type": "code",
      "execution_count": null,
      "metadata": {
        "id": "R_CgF75LE-rs"
      },
      "outputs": [],
      "source": [
        "d = data.set_index(['Occupation','Name'])\n",
        "d"
      ]
    },
    {
      "cell_type": "code",
      "execution_count": null,
      "metadata": {
        "id": "9bILdXKoE-rs"
      },
      "outputs": [],
      "source": [
        "d.loc['Business']"
      ]
    },
    {
      "cell_type": "code",
      "execution_count": null,
      "metadata": {
        "id": "6553QA6hE-rt"
      },
      "outputs": [],
      "source": [
        "d.loc[('Business','Tom')]"
      ]
    },
    {
      "cell_type": "markdown",
      "metadata": {
        "id": "6YjcTAUpE-rt"
      },
      "source": [
        "# .head, .tail"
      ]
    },
    {
      "cell_type": "code",
      "execution_count": null,
      "metadata": {
        "id": "vULH2TFpE-rt"
      },
      "outputs": [],
      "source": [
        "data.head(3)"
      ]
    },
    {
      "cell_type": "code",
      "execution_count": null,
      "metadata": {
        "id": "QAuA5I-oE-rt"
      },
      "outputs": [],
      "source": [
        "data.tail(2)"
      ]
    },
    {
      "cell_type": "markdown",
      "metadata": {
        "id": "Xy53EKNrE-ru"
      },
      "source": [
        "# Sorting\n",
        "\n",
        "Sometimes, we need to sort a data frame by index, or the values in the\n",
        "columns."
      ]
    },
    {
      "cell_type": "code",
      "execution_count": null,
      "metadata": {
        "id": "MXVvVr6wE-ru"
      },
      "outputs": [],
      "source": [
        "data.sort_values('Name')"
      ]
    },
    {
      "cell_type": "code",
      "execution_count": null,
      "metadata": {
        "id": "-t66LDcXE-ru"
      },
      "outputs": [],
      "source": [
        "\n",
        "d1 = data.set_index('Name')\n",
        "d1"
      ]
    },
    {
      "cell_type": "code",
      "execution_count": null,
      "metadata": {
        "id": "iERS29k4E-ru"
      },
      "outputs": [],
      "source": [
        "# sort by index ascending order\n",
        "d1.sort_index()"
      ]
    },
    {
      "cell_type": "code",
      "execution_count": null,
      "metadata": {
        "id": "PZ4gIo8fE-rv"
      },
      "outputs": [],
      "source": [
        "# sort by index descending order\n",
        "d1.sort_index(ascending=False)"
      ]
    },
    {
      "cell_type": "markdown",
      "metadata": {
        "id": "GgfShO9EE-rv"
      },
      "source": [
        "# Data Frame Statistics"
      ]
    },
    {
      "cell_type": "code",
      "execution_count": null,
      "metadata": {
        "id": "Jqbbu2k_E-rv"
      },
      "outputs": [],
      "source": [
        "data.describe()"
      ]
    },
    {
      "cell_type": "code",
      "execution_count": null,
      "metadata": {
        "id": "VOfkUBiIE-rv"
      },
      "outputs": [],
      "source": [
        "data.count()"
      ]
    },
    {
      "cell_type": "code",
      "execution_count": null,
      "metadata": {
        "id": "Tfjt6enIE-rv"
      },
      "outputs": [],
      "source": [
        "# Example \n",
        "\n",
        "newdata = pd.read_csv('Salary_Data_null.csv')\n",
        "newdata.count()"
      ]
    },
    {
      "cell_type": "markdown",
      "metadata": {
        "id": "14DMS-0YE-rv"
      },
      "source": [
        "# Correlation and Covariance\n",
        "\n",
        "The data frame offers similar functionality, but it will do a pairwise correlation with all of the numeric columns.\n",
        "\n",
        "Covariance measures the strength and the direction of the relationship between the elements of two samples, and the sample correlation is derived from the covariance.\n",
        "\n",
        "Covariance is a measure of a correlation while correlation is a scaled version of covariance.\n",
        "\n",
        " Note -  We will discuss in detail in Statistics."
      ]
    },
    {
      "cell_type": "code",
      "execution_count": null,
      "metadata": {
        "id": "fIW365FJE-rw"
      },
      "outputs": [],
      "source": [
        "# Lets load weight and height dataset\n",
        "\n",
        "data = pd.read_csv('age_weight.csv')\n",
        "data.head(3)"
      ]
    },
    {
      "cell_type": "code",
      "execution_count": null,
      "metadata": {
        "id": "SjMQyL0dE-rw"
      },
      "outputs": [],
      "source": [
        "# correlation\n",
        "data.corr()"
      ]
    },
    {
      "cell_type": "code",
      "execution_count": null,
      "metadata": {
        "id": "eEIRaMsxE-rw"
      },
      "outputs": [],
      "source": [
        "# pair-wise covariance (non-normalized correlation)\n",
        "data.cov()"
      ]
    },
    {
      "cell_type": "markdown",
      "metadata": {
        "id": "9tkhoZTXE-rw"
      },
      "source": [
        "# Merging/Joining"
      ]
    },
    {
      "cell_type": "markdown",
      "metadata": {
        "id": "YMlZnKakE-rx"
      },
      "source": [
        "* A Data frame is a two-dimensional data structure, i.e., data is aligned in a tabular fashion in rows and columns. \n",
        "* We can join, merge, and concat dataframe using different methods.\n",
        "* In Dataframe df.merge(),df.join(), and df.concat() methods help in joining, merging and concating different dataframe."
      ]
    },
    {
      "cell_type": "markdown",
      "metadata": {
        "id": "WlJpP6raE-rx"
      },
      "source": [
        "# Merging DataFrame\n",
        "\n",
        "* Pandas have options for high-performance in-memory merging and joining. \n",
        "* Joins can only be done on two DataFrames at a time\n",
        "* There are four basic ways to handle the join (inner, left, right, and outer).\n",
        "\n",
        "\n"
      ]
    },
    {
      "cell_type": "markdown",
      "metadata": {
        "id": "407nm7LUE-rx"
      },
      "source": [
        "![image.png](attachment:image.png)"
      ]
    },
    {
      "cell_type": "code",
      "execution_count": null,
      "metadata": {
        "id": "ZsVVtyQ4E-rx"
      },
      "outputs": [],
      "source": [
        "pd.merge?"
      ]
    },
    {
      "cell_type": "code",
      "execution_count": null,
      "metadata": {
        "id": "J5tcTX1eE-rx"
      },
      "outputs": [],
      "source": [
        "df1 = pd.DataFrame({'key': ['K0', 'K1', 'K2', 'K3'],\n",
        "                    'A': ['A0', 'A1', 'A2', 'A3'],\n",
        "                    'B': ['B0', 'B1', 'B2', 'B3']})\n",
        "df1"
      ]
    },
    {
      "cell_type": "code",
      "execution_count": null,
      "metadata": {
        "id": "9vFuC5nZE-ry"
      },
      "outputs": [],
      "source": [
        "df2 = pd.DataFrame({'key': ['K0', 'K1', 'K2', 'K3'],\n",
        "                    'C': ['C0', 'C1', 'C2', 'C3'],\n",
        "                    'D': ['D0', 'D1', 'D2', 'D3']})\n",
        "df2"
      ]
    },
    {
      "cell_type": "code",
      "execution_count": null,
      "metadata": {
        "id": "imwdh8vjE-ry"
      },
      "outputs": [],
      "source": [
        "# Merge over the one unique key ( inner join)\n",
        "\n",
        "result = pd.merge(df1,df2,on='key')\n",
        "print(df1,df2,result,sep='\\n\\n')"
      ]
    },
    {
      "cell_type": "code",
      "execution_count": null,
      "metadata": {
        "id": "06OrmSAjE-ry"
      },
      "outputs": [],
      "source": [
        "# Merge over the one unique key ( inner join)\n",
        "\n",
        "result = pd.merge(df2,df1,on='key')\n",
        "print(df1,df2,result,sep='\\n\\n')"
      ]
    },
    {
      "cell_type": "code",
      "execution_count": null,
      "metadata": {
        "id": "aF5m3rDeE-ry"
      },
      "outputs": [],
      "source": [
        "df3 = pd.DataFrame({'key1': ['K0', 'K1', 'K2', 'K3'],\n",
        "                    'key2': ['K0', 'K1', 'K0', 'K1'],\n",
        "                    'A': ['A0', 'A1', 'A2', 'A3'],\n",
        "                    'B': ['B0', 'B1', 'B2', 'B3']})\n",
        "df3"
      ]
    },
    {
      "cell_type": "code",
      "execution_count": null,
      "metadata": {
        "id": "-sRcYrbDE-ry"
      },
      "outputs": [],
      "source": [
        "df4 = pd.DataFrame({'key1': ['K0', 'K1', 'K2', 'K3'],\n",
        "                    'key2': ['K0', 'K0', 'K0', 'K0'],\n",
        "                    'C': ['C0', 'C1', 'C2', 'C3'],\n",
        "                    'D': ['D0', 'D1', 'D2', 'D3']})\n",
        "df4"
      ]
    },
    {
      "cell_type": "code",
      "execution_count": null,
      "metadata": {
        "id": "mkmigyvkE-rz"
      },
      "outputs": [],
      "source": [
        "# inner join over multiple key\n",
        "result = pd.merge(df3,df4,on=['key1','key2'])\n",
        "result"
      ]
    },
    {
      "cell_type": "markdown",
      "metadata": {
        "id": "-9xyqwJKE-rz"
      },
      "source": [
        "# Left outer join"
      ]
    },
    {
      "cell_type": "code",
      "execution_count": null,
      "metadata": {
        "id": "7XSbbPv_E-rz"
      },
      "outputs": [],
      "source": [
        "result = pd.merge(df1,df2,on='key',how='left')\n",
        "print(df1,df2,result,sep='\\n\\n')"
      ]
    },
    {
      "cell_type": "code",
      "execution_count": null,
      "metadata": {
        "id": "32Th_UXmE-rz"
      },
      "outputs": [],
      "source": [
        "result = pd.merge(df3,df4,on=['key1','key2'],how='left')\n",
        "print(df3,df4,result,sep='\\n\\n')"
      ]
    },
    {
      "cell_type": "markdown",
      "metadata": {
        "id": "e1qbu9hRE-rz"
      },
      "source": [
        "# Note - \n",
        "#### If a key combination does not appear in either the left or right tables, the values in the joined table will be NA"
      ]
    },
    {
      "cell_type": "code",
      "execution_count": null,
      "metadata": {
        "id": "LPN_APTME-rz"
      },
      "outputs": [],
      "source": [
        ""
      ]
    }
  ],
  "metadata": {
    "kernelspec": {
      "display_name": "Python 3",
      "language": "python",
      "name": "python3"
    },
    "language_info": {
      "codemirror_mode": {
        "name": "ipython",
        "version": 3
      },
      "file_extension": ".py",
      "mimetype": "text/x-python",
      "name": "python",
      "nbconvert_exporter": "python",
      "pygments_lexer": "ipython3",
      "version": "3.7.1"
    },
    "colab": {
      "name": "Lecture 6c DataFrame Methods, Merging Dataframes.ipynb",
      "provenance": [],
      "collapsed_sections": [
        "vYk1ABPlE-rr",
        "6YjcTAUpE-rt",
        "Xy53EKNrE-ru",
        "GgfShO9EE-rv",
        "14DMS-0YE-rv",
        "9tkhoZTXE-rw",
        "WlJpP6raE-rx",
        "-9xyqwJKE-rz",
        "e1qbu9hRE-rz"
      ],
      "include_colab_link": true
    }
  },
  "nbformat": 4,
  "nbformat_minor": 0
}