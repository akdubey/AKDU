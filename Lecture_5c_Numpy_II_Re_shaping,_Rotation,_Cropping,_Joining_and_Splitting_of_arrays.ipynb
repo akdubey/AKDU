{
  "cells": [
    {
      "cell_type": "markdown",
      "metadata": {
        "id": "view-in-github",
        "colab_type": "text"
      },
      "source": [
        "<a href=\"https://colab.research.google.com/github/akdubey/AKDU/blob/main/Lecture_5c_Numpy_II_Re_shaping%2C_Rotation%2C_Cropping%2C_Joining_and_Splitting_of_arrays.ipynb\" target=\"_parent\"><img src=\"https://colab.research.google.com/assets/colab-badge.svg\" alt=\"Open In Colab\"/></a>"
      ]
    },
    {
      "cell_type": "markdown",
      "metadata": {
        "id": "dsA3-ysy9auj"
      },
      "source": [
        "# Topics to be covered\n",
        "\n",
        "* Re-shaping of array\n",
        "* Transposing Arrays\n",
        "* Rotation of array\n",
        "* Joining of arrays\n",
        "* Splitting of arrays\n",
        "* Data Types for ndarrays\n",
        "* Arithmetic with NumPy Arrays\n"
      ]
    },
    {
      "cell_type": "markdown",
      "metadata": {
        "id": "HedIbubM9aul"
      },
      "source": [
        "# Importing Numpy Package"
      ]
    },
    {
      "cell_type": "code",
      "execution_count": 1,
      "metadata": {
        "id": "iHChM21L9aum"
      },
      "outputs": [],
      "source": [
        "import numpy as np"
      ]
    },
    {
      "cell_type": "markdown",
      "metadata": {
        "id": "VeOkKGCR9aup"
      },
      "source": [
        "# Reshaping of Arrays\n",
        "\n",
        "> * Reshaping means changing the shape of an array.\n",
        "* For example, if you want to put the numbers 1 through 9 in a 3×3 grid"
      ]
    },
    {
      "cell_type": "code",
      "execution_count": 2,
      "metadata": {
        "colab": {
          "base_uri": "https://localhost:8080/"
        },
        "id": "RMSo3oOX9auq",
        "outputId": "974c94c3-a058-4c27-ad52-9287ee7375f5"
      },
      "outputs": [
        {
          "output_type": "execute_result",
          "data": {
            "text/plain": [
              "array([[1, 2, 3],\n",
              "       [4, 5, 6],\n",
              "       [7, 8, 9]])"
            ]
          },
          "metadata": {},
          "execution_count": 2
        }
      ],
      "source": [
        "# Reshape the numbers 1 through 9 in a 3×3 grid (Enter valid dimension)\n",
        "# e.g. for 9 elements dimension should be 3X3 or 1X9 or 9X1 \n",
        "n = np.arange(1,10)\n",
        "n.reshape((3,3))\n"
      ]
    },
    {
      "cell_type": "markdown",
      "metadata": {
        "id": "aHq_F5-Q9aut"
      },
      "source": [
        "# Check it Returns a Copy or View?"
      ]
    },
    {
      "cell_type": "code",
      "execution_count": 3,
      "metadata": {
        "colab": {
          "base_uri": "https://localhost:8080/"
        },
        "id": "oEibkr5r9auv",
        "outputId": "c1535c7d-3daf-4da1-9882-4d581a1aecf5"
      },
      "outputs": [
        {
          "output_type": "execute_result",
          "data": {
            "text/plain": [
              "array([1, 2, 3, 4, 5, 6, 7, 8, 9])"
            ]
          },
          "metadata": {},
          "execution_count": 3
        }
      ],
      "source": [
        "#Check if the returned array is a copy or a view:\n",
        "n = np.arange(1,10)\n",
        "n.reshape((3,3)).base   \n"
      ]
    },
    {
      "cell_type": "markdown",
      "metadata": {
        "id": "d4k_feht9aux"
      },
      "source": [
        "### The example above returns the original array, so it is a view."
      ]
    },
    {
      "cell_type": "markdown",
      "metadata": {
        "id": "LMtehGM69auy"
      },
      "source": [
        "# Flattening the arrays\n",
        "\n",
        "> Converting a multidimensional array into a 1D array."
      ]
    },
    {
      "cell_type": "code",
      "execution_count": 4,
      "metadata": {
        "colab": {
          "base_uri": "https://localhost:8080/"
        },
        "id": "WxYvG3Zp9auz",
        "outputId": "f01f4072-5532-4c40-9398-284cb9c8287a"
      },
      "outputs": [
        {
          "output_type": "stream",
          "name": "stdout",
          "text": [
            "[[7 8 7]\n",
            " [9 6 9]]\n"
          ]
        },
        {
          "output_type": "execute_result",
          "data": {
            "text/plain": [
              "array([7, 8, 7, 9, 6, 9])"
            ]
          },
          "metadata": {},
          "execution_count": 4
        }
      ],
      "source": [
        "x = np.random.randint(10,size=(2,3))\n",
        "print(x)\n",
        "x.reshape(-1)"
      ]
    },
    {
      "cell_type": "markdown",
      "metadata": {
        "id": "3zhdYl_y9au1"
      },
      "source": [
        "# Transposing Arrays\n",
        "Transposing is a special form of reshaping that similarly returns a view on the underlying data without copying anything"
      ]
    },
    {
      "cell_type": "code",
      "execution_count": 5,
      "metadata": {
        "colab": {
          "base_uri": "https://localhost:8080/"
        },
        "id": "VxydJtix9au1",
        "outputId": "a56d0d45-e1a6-4a74-ee28-7943e3573e30"
      },
      "outputs": [
        {
          "output_type": "stream",
          "name": "stdout",
          "text": [
            "[[1 2 3]\n",
            " [4 5 6]\n",
            " [7 8 9]]\n"
          ]
        },
        {
          "output_type": "execute_result",
          "data": {
            "text/plain": [
              "array([[1, 4, 7],\n",
              "       [2, 5, 8],\n",
              "       [3, 6, 9]])"
            ]
          },
          "metadata": {},
          "execution_count": 5
        }
      ],
      "source": [
        "x = np.arange(1,10).reshape(3,3)\n",
        "print(x)\n",
        "x.T"
      ]
    },
    {
      "cell_type": "markdown",
      "metadata": {
        "id": "UZYTwxx69au2"
      },
      "source": [
        "# Rotation of Array\n",
        "\n",
        "#### The rot90() function is used to rotate an array by 90 degrees in the plane specified by axes\n",
        "\n",
        "#### Syntax - \n",
        "        numpy.rot90(m, k=1, axes=(0, 1))\n",
        "        * m\tArray of two or more dimensions.\n",
        "        * k\tNumber of times the array is rotated by 90 degrees\n",
        "        * axes\tThe array is rotated in the plane defined by the axes."
      ]
    },
    {
      "cell_type": "code",
      "execution_count": 6,
      "metadata": {
        "colab": {
          "base_uri": "https://localhost:8080/"
        },
        "id": "19nPD3B89au3",
        "outputId": "fe4996e8-ff03-407a-877b-55a1177048ad"
      },
      "outputs": [
        {
          "output_type": "execute_result",
          "data": {
            "text/plain": [
              "array([[1, 2],\n",
              "       [3, 4],\n",
              "       [5, 6]])"
            ]
          },
          "metadata": {},
          "execution_count": 6
        }
      ],
      "source": [
        "m = np.array([[1,2], [3,4], [5,6]])\n",
        "m"
      ]
    },
    {
      "cell_type": "code",
      "execution_count": 7,
      "metadata": {
        "colab": {
          "base_uri": "https://localhost:8080/"
        },
        "id": "A31E0XDV9au4",
        "outputId": "d50d1f56-f207-4090-d47d-1719dda403aa"
      },
      "outputs": [
        {
          "output_type": "execute_result",
          "data": {
            "text/plain": [
              "array([[2, 4, 6],\n",
              "       [1, 3, 5]])"
            ]
          },
          "metadata": {},
          "execution_count": 7
        }
      ],
      "source": [
        "np.rot90(m)"
      ]
    },
    {
      "cell_type": "code",
      "execution_count": 8,
      "metadata": {
        "colab": {
          "base_uri": "https://localhost:8080/"
        },
        "id": "CLl8cs0A9au5",
        "outputId": "5fa7913c-66dc-4f9b-d693-1a8e654997c4"
      },
      "outputs": [
        {
          "output_type": "execute_result",
          "data": {
            "text/plain": [
              "array([[6, 5],\n",
              "       [4, 3],\n",
              "       [2, 1]])"
            ]
          },
          "metadata": {},
          "execution_count": 8
        }
      ],
      "source": [
        "np.rot90(m,2)"
      ]
    },
    {
      "cell_type": "markdown",
      "metadata": {
        "id": "YJBK4WNh9au6"
      },
      "source": [
        "# Joining of Array\n",
        "\n",
        "#### Joining means putting contents of two or more arrays in a single array.\n",
        "\n",
        "  > * np.concatenate\n",
        "* np.vstack\n",
        "* np.hstack\n",
        "\n",
        "   #### * We pass a sequence of arrays that we want to join to the concatenate() function, along with the axis. \n",
        "   #### * If axis is not explicitly passed, it is taken as 0.\n"
      ]
    },
    {
      "cell_type": "markdown",
      "metadata": {
        "id": "zc0hRWef9au7"
      },
      "source": [
        "# Axis in numpy array"
      ]
    },
    {
      "cell_type": "code",
      "execution_count": 9,
      "metadata": {
        "colab": {
          "base_uri": "https://localhost:8080/"
        },
        "id": "yjt1TCu49au7",
        "outputId": "3868d49d-09da-4bd8-e29d-cdf8cb19c826"
      },
      "outputs": [
        {
          "output_type": "execute_result",
          "data": {
            "text/plain": [
              "array([1, 2, 3, 4, 3, 2])"
            ]
          },
          "metadata": {},
          "execution_count": 9
        }
      ],
      "source": [
        "# np.concatenate\n",
        "x = np.array([1,2,3])\n",
        "y = np.array([4,3,2])\n",
        "np.concatenate([x,y])"
      ]
    },
    {
      "cell_type": "markdown",
      "metadata": {
        "id": "XcJ558ZI9au8"
      },
      "source": [
        "# Joining 2D arrays"
      ]
    },
    {
      "cell_type": "code",
      "execution_count": 10,
      "metadata": {
        "colab": {
          "base_uri": "https://localhost:8080/"
        },
        "id": "WJga3Efn9au9",
        "outputId": "26c4a48f-e1e7-4883-d8d9-45dab7b22db7"
      },
      "outputs": [
        {
          "output_type": "execute_result",
          "data": {
            "text/plain": [
              "array([[1, 1, 1],\n",
              "       [2, 2, 2],\n",
              "       [4, 4, 4],\n",
              "       [5, 5, 5]])"
            ]
          },
          "metadata": {},
          "execution_count": 10
        }
      ],
      "source": [
        "# If axis is not explicitly passed, it is taken as 0\n",
        "x = np.array([[1,1,1],[2,2,2]])\n",
        "y = np.array([[4,4,4],[5,5,5]])\n",
        "np.concatenate([x,y]) "
      ]
    },
    {
      "cell_type": "code",
      "execution_count": 11,
      "metadata": {
        "colab": {
          "base_uri": "https://localhost:8080/"
        },
        "id": "hg75CTbm9au-",
        "outputId": "5f6315f8-3ded-4511-8d70-8f9f6e11e4b6"
      },
      "outputs": [
        {
          "output_type": "execute_result",
          "data": {
            "text/plain": [
              "array([[1, 1, 1, 4, 4, 4],\n",
              "       [2, 2, 2, 5, 5, 5]])"
            ]
          },
          "metadata": {},
          "execution_count": 11
        }
      ],
      "source": [
        "# when axis =1\n",
        "x = np.array([[1,1,1],[2,2,2]])\n",
        "y = np.array([[4,4,4],[5,5,5]])\n",
        "np.concatenate([x,y],axis=1) "
      ]
    },
    {
      "cell_type": "markdown",
      "metadata": {
        "id": "17snVaAT9au-"
      },
      "source": [
        "# Some Error"
      ]
    },
    {
      "cell_type": "code",
      "execution_count": 12,
      "metadata": {
        "colab": {
          "base_uri": "https://localhost:8080/",
          "height": 235
        },
        "id": "qilVDYbB9au_",
        "outputId": "9bd81816-c911-43d0-c136-aecc4c48803d"
      },
      "outputs": [
        {
          "output_type": "error",
          "ename": "ValueError",
          "evalue": "ignored",
          "traceback": [
            "\u001b[0;31m---------------------------------------------------------------------------\u001b[0m",
            "\u001b[0;31mValueError\u001b[0m                                Traceback (most recent call last)",
            "\u001b[0;32m<ipython-input-12-1b8b8ff4a5df>\u001b[0m in \u001b[0;36m<module>\u001b[0;34m\u001b[0m\n\u001b[1;32m      2\u001b[0m \u001b[0mx\u001b[0m \u001b[0;34m=\u001b[0m \u001b[0mnp\u001b[0m\u001b[0;34m.\u001b[0m\u001b[0marray\u001b[0m\u001b[0;34m(\u001b[0m\u001b[0;34m[\u001b[0m\u001b[0;34m[\u001b[0m\u001b[0;36m1\u001b[0m\u001b[0;34m,\u001b[0m\u001b[0;36m1\u001b[0m\u001b[0;34m,\u001b[0m\u001b[0;36m1\u001b[0m\u001b[0;34m]\u001b[0m\u001b[0;34m,\u001b[0m\u001b[0;34m[\u001b[0m\u001b[0;36m2\u001b[0m\u001b[0;34m,\u001b[0m\u001b[0;36m2\u001b[0m\u001b[0;34m,\u001b[0m\u001b[0;36m2\u001b[0m\u001b[0;34m]\u001b[0m\u001b[0;34m,\u001b[0m\u001b[0;34m[\u001b[0m\u001b[0;36m3\u001b[0m\u001b[0;34m,\u001b[0m\u001b[0;36m3\u001b[0m\u001b[0;34m,\u001b[0m\u001b[0;36m3\u001b[0m\u001b[0;34m]\u001b[0m\u001b[0;34m]\u001b[0m\u001b[0;34m)\u001b[0m\u001b[0;34m\u001b[0m\u001b[0;34m\u001b[0m\u001b[0m\n\u001b[1;32m      3\u001b[0m \u001b[0my\u001b[0m \u001b[0;34m=\u001b[0m \u001b[0mnp\u001b[0m\u001b[0;34m.\u001b[0m\u001b[0marray\u001b[0m\u001b[0;34m(\u001b[0m\u001b[0;34m[\u001b[0m\u001b[0;34m[\u001b[0m\u001b[0;36m4\u001b[0m\u001b[0;34m,\u001b[0m\u001b[0;36m4\u001b[0m\u001b[0;34m,\u001b[0m\u001b[0;36m4\u001b[0m\u001b[0;34m]\u001b[0m\u001b[0;34m,\u001b[0m\u001b[0;34m[\u001b[0m\u001b[0;36m5\u001b[0m\u001b[0;34m,\u001b[0m\u001b[0;36m5\u001b[0m\u001b[0;34m,\u001b[0m\u001b[0;36m5\u001b[0m\u001b[0;34m]\u001b[0m\u001b[0;34m]\u001b[0m\u001b[0;34m)\u001b[0m\u001b[0;34m\u001b[0m\u001b[0;34m\u001b[0m\u001b[0m\n\u001b[0;32m----> 4\u001b[0;31m \u001b[0mnp\u001b[0m\u001b[0;34m.\u001b[0m\u001b[0mconcatenate\u001b[0m\u001b[0;34m(\u001b[0m\u001b[0;34m[\u001b[0m\u001b[0mx\u001b[0m\u001b[0;34m,\u001b[0m\u001b[0my\u001b[0m\u001b[0;34m]\u001b[0m\u001b[0;34m,\u001b[0m\u001b[0maxis\u001b[0m\u001b[0;34m=\u001b[0m\u001b[0;36m1\u001b[0m\u001b[0;34m)\u001b[0m\u001b[0;34m\u001b[0m\u001b[0;34m\u001b[0m\u001b[0m\n\u001b[0m",
            "\u001b[0;32m<__array_function__ internals>\u001b[0m in \u001b[0;36mconcatenate\u001b[0;34m(*args, **kwargs)\u001b[0m\n",
            "\u001b[0;31mValueError\u001b[0m: all the input array dimensions for the concatenation axis must match exactly, but along dimension 0, the array at index 0 has size 3 and the array at index 1 has size 2"
          ]
        }
      ],
      "source": [
        "# when we have different dimension (e.g. 3X3 and 2X3 ) then \n",
        "x = np.array([[1,1,1],[2,2,2],[3,3,3]])\n",
        "y = np.array([[4,4,4],[5,5,5]])\n",
        "np.concatenate([x,y],axis=1) "
      ]
    },
    {
      "cell_type": "code",
      "execution_count": 13,
      "metadata": {
        "colab": {
          "base_uri": "https://localhost:8080/",
          "height": 235
        },
        "id": "jwLcDIbz9au_",
        "outputId": "74b9cc6c-c388-4597-f1c1-0947c60892cc"
      },
      "outputs": [
        {
          "output_type": "error",
          "ename": "ValueError",
          "evalue": "ignored",
          "traceback": [
            "\u001b[0;31m---------------------------------------------------------------------------\u001b[0m",
            "\u001b[0;31mValueError\u001b[0m                                Traceback (most recent call last)",
            "\u001b[0;32m<ipython-input-13-f7a0bf7d213e>\u001b[0m in \u001b[0;36m<module>\u001b[0;34m\u001b[0m\n\u001b[1;32m      1\u001b[0m \u001b[0mx\u001b[0m \u001b[0;34m=\u001b[0m \u001b[0mnp\u001b[0m\u001b[0;34m.\u001b[0m\u001b[0marray\u001b[0m\u001b[0;34m(\u001b[0m\u001b[0;34m[\u001b[0m\u001b[0;34m[\u001b[0m\u001b[0;36m1\u001b[0m\u001b[0;34m,\u001b[0m\u001b[0;36m1\u001b[0m\u001b[0;34m,\u001b[0m\u001b[0;36m1\u001b[0m\u001b[0;34m,\u001b[0m\u001b[0;36m1\u001b[0m\u001b[0;34m]\u001b[0m\u001b[0;34m,\u001b[0m\u001b[0;34m[\u001b[0m\u001b[0;36m2\u001b[0m\u001b[0;34m,\u001b[0m\u001b[0;36m2\u001b[0m\u001b[0;34m,\u001b[0m\u001b[0;36m2\u001b[0m\u001b[0;34m,\u001b[0m\u001b[0;36m2\u001b[0m\u001b[0;34m]\u001b[0m\u001b[0;34m,\u001b[0m\u001b[0;34m[\u001b[0m\u001b[0;36m3\u001b[0m\u001b[0;34m,\u001b[0m\u001b[0;36m3\u001b[0m\u001b[0;34m,\u001b[0m\u001b[0;36m3\u001b[0m\u001b[0;34m,\u001b[0m\u001b[0;36m3\u001b[0m\u001b[0;34m]\u001b[0m\u001b[0;34m]\u001b[0m\u001b[0;34m)\u001b[0m\u001b[0;34m\u001b[0m\u001b[0;34m\u001b[0m\u001b[0m\n\u001b[1;32m      2\u001b[0m \u001b[0my\u001b[0m \u001b[0;34m=\u001b[0m \u001b[0mnp\u001b[0m\u001b[0;34m.\u001b[0m\u001b[0marray\u001b[0m\u001b[0;34m(\u001b[0m\u001b[0;34m[\u001b[0m\u001b[0;34m[\u001b[0m\u001b[0;36m4\u001b[0m\u001b[0;34m,\u001b[0m\u001b[0;36m4\u001b[0m\u001b[0;34m,\u001b[0m\u001b[0;36m4\u001b[0m\u001b[0;34m]\u001b[0m\u001b[0;34m,\u001b[0m\u001b[0;34m[\u001b[0m\u001b[0;36m5\u001b[0m\u001b[0;34m,\u001b[0m\u001b[0;36m5\u001b[0m\u001b[0;34m,\u001b[0m\u001b[0;36m5\u001b[0m\u001b[0;34m]\u001b[0m\u001b[0;34m]\u001b[0m\u001b[0;34m)\u001b[0m\u001b[0;34m\u001b[0m\u001b[0;34m\u001b[0m\u001b[0m\n\u001b[0;32m----> 3\u001b[0;31m \u001b[0mnp\u001b[0m\u001b[0;34m.\u001b[0m\u001b[0mconcatenate\u001b[0m\u001b[0;34m(\u001b[0m\u001b[0;34m[\u001b[0m\u001b[0mx\u001b[0m\u001b[0;34m,\u001b[0m\u001b[0my\u001b[0m\u001b[0;34m]\u001b[0m\u001b[0;34m,\u001b[0m\u001b[0maxis\u001b[0m\u001b[0;34m=\u001b[0m\u001b[0;36m0\u001b[0m\u001b[0;34m)\u001b[0m\u001b[0;34m\u001b[0m\u001b[0;34m\u001b[0m\u001b[0m\n\u001b[0m",
            "\u001b[0;32m<__array_function__ internals>\u001b[0m in \u001b[0;36mconcatenate\u001b[0;34m(*args, **kwargs)\u001b[0m\n",
            "\u001b[0;31mValueError\u001b[0m: all the input array dimensions for the concatenation axis must match exactly, but along dimension 1, the array at index 0 has size 4 and the array at index 1 has size 3"
          ]
        }
      ],
      "source": [
        "x = np.array([[1,1,1,1],[2,2,2,2],[3,3,3,3]])\n",
        "y = np.array([[4,4,4],[5,5,5]])\n",
        "np.concatenate([x,y],axis=0) "
      ]
    },
    {
      "cell_type": "markdown",
      "metadata": {
        "id": "I587PX9t9avA"
      },
      "source": [
        "# np.vstack\n",
        "\n",
        "#### allows us to concatenate two multi-dimensional arrays vertically "
      ]
    },
    {
      "cell_type": "code",
      "execution_count": 14,
      "metadata": {
        "colab": {
          "base_uri": "https://localhost:8080/"
        },
        "id": "aGhThRZ09avA",
        "outputId": "27a95891-fc56-466b-f1d7-2603743f79a5"
      },
      "outputs": [
        {
          "output_type": "execute_result",
          "data": {
            "text/plain": [
              "array([[1, 1, 1],\n",
              "       [2, 2, 2],\n",
              "       [3, 3, 3],\n",
              "       [4, 4, 4],\n",
              "       [5, 5, 5]])"
            ]
          },
          "metadata": {},
          "execution_count": 14
        }
      ],
      "source": [
        "x = np.array([[1,1,1],[2,2,2],[3,3,3]])\n",
        "y = np.array([[4,4,4],[5,5,5]])\n",
        "np.vstack([x,y])"
      ]
    },
    {
      "cell_type": "markdown",
      "metadata": {
        "id": "NlOjMXLa9avB"
      },
      "source": [
        "# np.hstack"
      ]
    },
    {
      "cell_type": "code",
      "execution_count": 15,
      "metadata": {
        "colab": {
          "base_uri": "https://localhost:8080/"
        },
        "id": "2c1yhsRn9avB",
        "outputId": "69a2251b-2f1c-4ecc-b5d4-371c36a8dd35"
      },
      "outputs": [
        {
          "output_type": "execute_result",
          "data": {
            "text/plain": [
              "array([[1, 1, 1, 4, 4, 4],\n",
              "       [2, 2, 2, 5, 5, 5]])"
            ]
          },
          "metadata": {},
          "execution_count": 15
        }
      ],
      "source": [
        "x = np.array([[1,1,1],[2,2,2]])\n",
        "y = np.array([[4,4,4],[5,5,5]])\n",
        "np.hstack([x,y])"
      ]
    },
    {
      "cell_type": "markdown",
      "metadata": {
        "id": "RTUh63S_9avB"
      },
      "source": [
        "# Splitting of arrays\n",
        "\n",
        "#### The opposite of concatenation is splitting, which is implemented by the functions\n",
        "> * np.split\n",
        "* np.hsplit\n",
        "* np.vsplit.\n"
      ]
    },
    {
      "cell_type": "markdown",
      "metadata": {
        "id": "VWuX2sRw9avC"
      },
      "source": [
        "# np.split\n",
        "\n",
        "The return value of the split() method is an array containing each of the split as an array.\n",
        "\n",
        "> numpy.split(ary, indices_or_sections, axis=0)\n",
        "\n",
        "Ref - https://docs.scipy.org/doc/numpy/reference/generated/numpy.split.html\n"
      ]
    },
    {
      "cell_type": "code",
      "execution_count": 17,
      "metadata": {
        "colab": {
          "base_uri": "https://localhost:8080/"
        },
        "id": "05a_39oE9avC",
        "outputId": "76d948b1-6a79-4bbf-f0df-486b30ea422a"
      },
      "outputs": [
        {
          "output_type": "execute_result",
          "data": {
            "text/plain": [
              "[array([1, 2, 3]), array([4, 5, 6]), array([7, 8, 9])]"
            ]
          },
          "metadata": {},
          "execution_count": 17
        }
      ],
      "source": [
        "x = np.arange(1,10)\n",
        "np.split(x,3)"
      ]
    },
    {
      "cell_type": "code",
      "execution_count": 18,
      "metadata": {
        "colab": {
          "base_uri": "https://localhost:8080/"
        },
        "id": "qQUBqZDa9avD",
        "outputId": "50db44c2-3a07-4362-f9bb-00514e0ab91d"
      },
      "outputs": [
        {
          "output_type": "execute_result",
          "data": {
            "text/plain": [
              "[array([1, 2, 3]), array([4, 5]), array([6, 7]), array([8, 9])]"
            ]
          },
          "metadata": {},
          "execution_count": 18
        }
      ],
      "source": [
        "# Split [0:3] , [3:5] ,[5:7] and [7:]\n",
        "x = np.arange(1,10)\n",
        "np.split(x,[3,5,7])"
      ]
    },
    {
      "cell_type": "markdown",
      "metadata": {
        "id": "2Ty04lzN9avE"
      },
      "source": [
        "# numpy.hsplit\n",
        "\n",
        "Split an array into multiple sub-arrays horizontally (column-wise).\n",
        "\n",
        "> numpy.hsplit(ary, indices_or_sections)\n",
        "\n",
        "Ref - https://docs.scipy.org/doc/numpy/reference/generated/numpy.hsplit.html#numpy.hsplit"
      ]
    },
    {
      "cell_type": "code",
      "execution_count": 19,
      "metadata": {
        "colab": {
          "base_uri": "https://localhost:8080/"
        },
        "id": "eTOoGU669avF",
        "outputId": "a2b03b17-c8dc-43d3-96da-19c0ec91cdc7"
      },
      "outputs": [
        {
          "output_type": "execute_result",
          "data": {
            "text/plain": [
              "[array([[1],\n",
              "        [4],\n",
              "        [7]]), array([[2],\n",
              "        [5],\n",
              "        [8]]), array([[3],\n",
              "        [6],\n",
              "        [9]])]"
            ]
          },
          "metadata": {},
          "execution_count": 19
        }
      ],
      "source": [
        "x = np.arange(1,10).reshape([3,3])\n",
        "np.hsplit(x,3)"
      ]
    },
    {
      "cell_type": "code",
      "execution_count": 20,
      "metadata": {
        "colab": {
          "base_uri": "https://localhost:8080/"
        },
        "id": "01ghlHG19avG",
        "outputId": "e08486a3-c22d-4937-d7fa-42b7f4381a3a"
      },
      "outputs": [
        {
          "output_type": "stream",
          "name": "stdout",
          "text": [
            "[[ 1  2  3  4  5]\n",
            " [ 6  7  8  9 10]]\n"
          ]
        },
        {
          "output_type": "execute_result",
          "data": {
            "text/plain": [
              "[array([[1, 2],\n",
              "        [6, 7]]), array([[ 3,  4,  5],\n",
              "        [ 8,  9, 10]]), array([], shape=(2, 0), dtype=int64)]"
            ]
          },
          "metadata": {},
          "execution_count": 20
        }
      ],
      "source": [
        "x = np.arange(1,11).reshape([2,5])\n",
        "print(x)\n",
        "np.hsplit(x,[2,5])"
      ]
    },
    {
      "cell_type": "markdown",
      "metadata": {
        "id": "o1QVcEWp9avH"
      },
      "source": [
        "# numpy.vsplit\n",
        "\n",
        "Split an array into multiple sub-arrays vertically ( row-wise)\n",
        "\n",
        "> numpy.vsplit(ary, indices_or_sections)\n",
        "\n",
        "https://docs.scipy.org/doc/numpy/reference/generated/numpy.vsplit.html#numpy.vsplit"
      ]
    },
    {
      "cell_type": "code",
      "execution_count": 21,
      "metadata": {
        "colab": {
          "base_uri": "https://localhost:8080/"
        },
        "id": "xWIcX6mw9avH",
        "outputId": "0f227c64-56a4-4353-b894-f45fdcbf3fbf"
      },
      "outputs": [
        {
          "output_type": "stream",
          "name": "stdout",
          "text": [
            "[[ 1  2]\n",
            " [ 3  4]\n",
            " [ 5  6]\n",
            " [ 7  8]\n",
            " [ 9 10]]\n"
          ]
        },
        {
          "output_type": "execute_result",
          "data": {
            "text/plain": [
              "[array([[1, 2],\n",
              "        [3, 4],\n",
              "        [5, 6]]), array([[ 7,  8],\n",
              "        [ 9, 10]])]"
            ]
          },
          "metadata": {},
          "execution_count": 21
        }
      ],
      "source": [
        "x = np.arange(1,11).reshape([5,2])\n",
        "print(x)\n",
        "np.vsplit(x,[3])"
      ]
    },
    {
      "cell_type": "markdown",
      "metadata": {
        "id": "Inb0DeUO9avI"
      },
      "source": [
        "# Data Types for ndarrays\n",
        "\n",
        "* Don’t worry about memorizing the NumPy dtypes. \n",
        "It’s often only necessary to care about the general kind of data you’re dealing with, whether floating point, complex,\n",
        "integer, boolean, string, or general Python object."
      ]
    },
    {
      "cell_type": "code",
      "execution_count": 22,
      "metadata": {
        "colab": {
          "base_uri": "https://localhost:8080/"
        },
        "id": "eR1iZh1g9avJ",
        "outputId": "def03437-419c-4ccb-b6f4-c3a8c410c771"
      },
      "outputs": [
        {
          "output_type": "execute_result",
          "data": {
            "text/plain": [
              "dtype('int64')"
            ]
          },
          "metadata": {},
          "execution_count": 22
        }
      ],
      "source": [
        "x = np.array([1,2,3,4])\n",
        "x.dtype"
      ]
    },
    {
      "cell_type": "code",
      "execution_count": 23,
      "metadata": {
        "colab": {
          "base_uri": "https://localhost:8080/"
        },
        "id": "h3W5hWQr9avJ",
        "outputId": "e813326b-3664-476b-cfa0-83e439edc2f5"
      },
      "outputs": [
        {
          "output_type": "execute_result",
          "data": {
            "text/plain": [
              "dtype('float64')"
            ]
          },
          "metadata": {},
          "execution_count": 23
        }
      ],
      "source": [
        "x =np.array([1.2,2.3,4.3])\n",
        "x.dtype"
      ]
    },
    {
      "cell_type": "code",
      "execution_count": 24,
      "metadata": {
        "colab": {
          "base_uri": "https://localhost:8080/"
        },
        "id": "zQwKCuTG9avK",
        "outputId": "a038cce7-c9b4-4fd8-b480-4bf96e343c96"
      },
      "outputs": [
        {
          "output_type": "execute_result",
          "data": {
            "text/plain": [
              "dtype('S4')"
            ]
          },
          "metadata": {},
          "execution_count": 24
        }
      ],
      "source": [
        "x = np.array(['1.2','23.3','4.5'],dtype=np.string_)\n",
        "x.dtype"
      ]
    },
    {
      "cell_type": "markdown",
      "metadata": {
        "id": "Yrq2hTLz9avK"
      },
      "source": [
        "# Casting"
      ]
    },
    {
      "cell_type": "code",
      "execution_count": 25,
      "metadata": {
        "colab": {
          "base_uri": "https://localhost:8080/"
        },
        "id": "t2WBCTyg9avK",
        "outputId": "07da3fda-aca4-4182-ddbb-b21a69d4a990"
      },
      "outputs": [
        {
          "output_type": "execute_result",
          "data": {
            "text/plain": [
              "array([1., 2., 3., 4.])"
            ]
          },
          "metadata": {},
          "execution_count": 25
        }
      ],
      "source": [
        "#In this example, integers were cast to floating point.\n",
        "x = np.array([1,2,3,4])\n",
        "y= x.astype(np.float64)\n",
        "y"
      ]
    },
    {
      "cell_type": "code",
      "execution_count": 26,
      "metadata": {
        "colab": {
          "base_uri": "https://localhost:8080/"
        },
        "id": "F9pTx4Jb9avL",
        "outputId": "cf7491ad-f795-4b08-e909-d510524652b1"
      },
      "outputs": [
        {
          "output_type": "execute_result",
          "data": {
            "text/plain": [
              "array([1, 2, 4], dtype=int32)"
            ]
          },
          "metadata": {},
          "execution_count": 26
        }
      ],
      "source": [
        "#casting floating-point numbers to be of integer dtype,\n",
        "#the decimal part will be truncated\n",
        "x =np.array([1.2,2.3,4.3])\n",
        "\n",
        "y = x.astype(np.int32)\n",
        "y"
      ]
    },
    {
      "cell_type": "code",
      "execution_count": 27,
      "metadata": {
        "colab": {
          "base_uri": "https://localhost:8080/"
        },
        "id": "oQVXcYXn9avL",
        "outputId": "745b3206-243c-4246-e450-f077db659182"
      },
      "outputs": [
        {
          "output_type": "stream",
          "name": "stderr",
          "text": [
            "/usr/local/lib/python3.7/dist-packages/ipykernel_launcher.py:5: DeprecationWarning: `np.float` is a deprecated alias for the builtin `float`. To silence this warning, use `float` by itself. Doing this will not modify any behavior and is safe. If you specifically wanted the numpy scalar type, use `np.float64` here.\n",
            "Deprecated in NumPy 1.20; for more details and guidance: https://numpy.org/devdocs/release/1.20.0-notes.html#deprecations\n",
            "  \"\"\"\n"
          ]
        },
        {
          "output_type": "execute_result",
          "data": {
            "text/plain": [
              "array([ 1.2, 23.3,  4.5])"
            ]
          },
          "metadata": {},
          "execution_count": 27
        }
      ],
      "source": [
        "# you can use astype to convert an array of strings representing numbers\n",
        "#to numeric form\n",
        "x = np.array(['1.2','23.3','4.5'],dtype=np.string_)\n",
        "\n",
        "y = x.astype(np.float)\n",
        "y"
      ]
    },
    {
      "cell_type": "markdown",
      "metadata": {
        "id": "P1J3AvMG9avM"
      },
      "source": [
        "# Arithmetic with NumPy Arrays\n",
        "\n",
        "> * Arrays are important because they enable you to express batch operations on data without writing any for loops.\n",
        "* NumPy users call this vectorization\n",
        "* Any arithmetic operations between equal-size arrays applies the operation element-wise."
      ]
    },
    {
      "cell_type": "code",
      "execution_count": 28,
      "metadata": {
        "colab": {
          "base_uri": "https://localhost:8080/"
        },
        "id": "ptIQTTwn9avM",
        "outputId": "90909432-38ab-46eb-f6d2-315908271ba4"
      },
      "outputs": [
        {
          "output_type": "execute_result",
          "data": {
            "text/plain": [
              "array([[ 2,  4,  6],\n",
              "       [12, 15, 18]])"
            ]
          },
          "metadata": {},
          "execution_count": 28
        }
      ],
      "source": [
        "# Multiplication\n",
        "x = np.array([[1,2,3],[4,5,6]])\n",
        "y = np.array([[2,2,2],[3,3,3]])\n",
        "x*y\n"
      ]
    },
    {
      "cell_type": "code",
      "execution_count": 29,
      "metadata": {
        "colab": {
          "base_uri": "https://localhost:8080/"
        },
        "id": "W6jbtI779avN",
        "outputId": "75d55783-4cc1-4d25-cb8c-3b93f394f30f"
      },
      "outputs": [
        {
          "output_type": "execute_result",
          "data": {
            "text/plain": [
              "array([[-1,  0,  1],\n",
              "       [ 1,  2,  3]])"
            ]
          },
          "metadata": {},
          "execution_count": 29
        }
      ],
      "source": [
        "# Subtraction\n",
        "x-y"
      ]
    },
    {
      "cell_type": "code",
      "execution_count": 30,
      "metadata": {
        "colab": {
          "base_uri": "https://localhost:8080/"
        },
        "id": "INzL5JJo9avN",
        "outputId": "0e28e5ca-b699-4cd7-8efb-05dc24b52148"
      },
      "outputs": [
        {
          "output_type": "execute_result",
          "data": {
            "text/plain": [
              "array([[1.        , 0.5       , 0.33333333],\n",
              "       [0.25      , 0.2       , 0.16666667]])"
            ]
          },
          "metadata": {},
          "execution_count": 30
        }
      ],
      "source": [
        "1/x"
      ]
    },
    {
      "cell_type": "code",
      "execution_count": 31,
      "metadata": {
        "colab": {
          "base_uri": "https://localhost:8080/"
        },
        "id": "j7GS0oK69avN",
        "outputId": "c2f76d7c-cd70-4585-9b40-8b3c883337af"
      },
      "outputs": [
        {
          "output_type": "execute_result",
          "data": {
            "text/plain": [
              "array([[ 2,  4,  6],\n",
              "       [ 8, 10, 12]])"
            ]
          },
          "metadata": {},
          "execution_count": 31
        }
      ],
      "source": [
        "x*2"
      ]
    },
    {
      "cell_type": "code",
      "execution_count": 32,
      "metadata": {
        "colab": {
          "base_uri": "https://localhost:8080/"
        },
        "id": "MMPnOvP89avO",
        "outputId": "c34ebc19-87f2-4751-ad3f-5a855b371797"
      },
      "outputs": [
        {
          "output_type": "execute_result",
          "data": {
            "text/plain": [
              "array([[ 1,  4,  9],\n",
              "       [16, 25, 36]])"
            ]
          },
          "metadata": {},
          "execution_count": 32
        }
      ],
      "source": [
        "x**2"
      ]
    },
    {
      "cell_type": "code",
      "execution_count": 33,
      "metadata": {
        "colab": {
          "base_uri": "https://localhost:8080/"
        },
        "id": "sm1hN8_P9avO",
        "outputId": "d2eb3e65-1cf3-4179-f2b3-7819cacb5cf0"
      },
      "outputs": [
        {
          "output_type": "execute_result",
          "data": {
            "text/plain": [
              "array([[False, False,  True],\n",
              "       [ True,  True,  True]])"
            ]
          },
          "metadata": {},
          "execution_count": 33
        }
      ],
      "source": [
        "# Comparisons between arrays of the same size yield boolean arrays\n",
        "x>y"
      ]
    },
    {
      "cell_type": "code",
      "execution_count": 33,
      "metadata": {
        "id": "HDahr3969avP"
      },
      "outputs": [],
      "source": [
        ""
      ]
    }
  ],
  "metadata": {
    "kernelspec": {
      "display_name": "Python 3",
      "language": "python",
      "name": "python3"
    },
    "language_info": {
      "codemirror_mode": {
        "name": "ipython",
        "version": 3
      },
      "file_extension": ".py",
      "mimetype": "text/x-python",
      "name": "python",
      "nbconvert_exporter": "python",
      "pygments_lexer": "ipython3",
      "version": "3.7.1"
    },
    "colab": {
      "name": "Lecture 5c Numpy-II  Re-shaping, Rotation, Cropping, Joining and Splitting of arrays.ipynb",
      "provenance": [],
      "collapsed_sections": [
        "YJBK4WNh9au6",
        "RTUh63S_9avB"
      ],
      "include_colab_link": true
    }
  },
  "nbformat": 4,
  "nbformat_minor": 0
}