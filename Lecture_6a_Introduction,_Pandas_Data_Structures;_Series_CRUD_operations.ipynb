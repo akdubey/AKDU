{
  "cells": [
    {
      "cell_type": "markdown",
      "metadata": {
        "id": "view-in-github",
        "colab_type": "text"
      },
      "source": [
        "<a href=\"https://colab.research.google.com/github/akdubey/AKDU/blob/main/Lecture_6a_Introduction%2C_Pandas_Data_Structures%3B_Series_CRUD_operations.ipynb\" target=\"_parent\"><img src=\"https://colab.research.google.com/assets/colab-badge.svg\" alt=\"Open In Colab\"/></a>"
      ]
    },
    {
      "cell_type": "markdown",
      "metadata": {
        "id": "F_l7x0rg-zjM"
      },
      "source": [
        "# Topics to be covered\n",
        "\n",
        "* Introduction\n",
        "* Pandas Data Structures\n",
        "* Series CRUD operations\n",
        "* Series Using List, Dictionary & Ndarray\n",
        "* Series Indexing\n",
        "* Series Methods"
      ]
    },
    {
      "cell_type": "markdown",
      "metadata": {
        "id": "z88JL4N_-zjS"
      },
      "source": [
        "<h3>“pandas is an open source, BSD-licensed library providing highperformance,\n",
        "easy-to-use data structures and data analysis tools for\n",
        "the Python programming language.”</h3>\n",
        "-pandas.pydata.org"
      ]
    },
    {
      "cell_type": "markdown",
      "metadata": {
        "id": "UB8qHfgq-zjW"
      },
      "source": [
        "# What's Pandas for?"
      ]
    },
    {
      "cell_type": "markdown",
      "metadata": {
        "id": "kGGSIgTX-zja"
      },
      "source": [
        "* #### This tool is essentially your data’s home. \n",
        "* #### Through pandas, we use Pandas for data cleaning, transforming, and analyzing it."
      ]
    },
    {
      "cell_type": "markdown",
      "metadata": {
        "id": "mkxzoE08-zjb"
      },
      "source": [
        "# With Pandas you do things like\n",
        "\n",
        "* #### Load or open file like Excel,process tabular data, load CSV or JSON files, and more.\n",
        "\n",
        "* #### Calculate statistics and answer questions about the data, like\n",
        "    * #### What's the average, median, max, or min of each column?\n",
        "    * #### Does column A correlate with column B?\n",
        "    * #### What does the distribution of data in column C look like?\n",
        "* #### Clean the data by doing things like removing missing values and filtering rows or columns by some criteria\n",
        "* #### Visualize the data with help from Matplotlib. Plot bars, lines, histograms, bubbles, and more.\n",
        "* #### Store the cleaned, transformed data back into a CSV, other file or database"
      ]
    },
    {
      "cell_type": "markdown",
      "metadata": {
        "id": "7XMCnPWh-zje"
      },
      "source": [
        "# Importing Pandas Package"
      ]
    },
    {
      "cell_type": "code",
      "execution_count": 1,
      "metadata": {
        "id": "F5Q6ZMRK-zji"
      },
      "outputs": [],
      "source": [
        "import pandas as pd"
      ]
    },
    {
      "cell_type": "markdown",
      "metadata": {
        "id": "jAZnazY8-zjo"
      },
      "source": [
        "# Check Version of Pandas"
      ]
    },
    {
      "cell_type": "code",
      "execution_count": 2,
      "metadata": {
        "colab": {
          "base_uri": "https://localhost:8080/",
          "height": 36
        },
        "id": "-OwxTQdW-zjr",
        "outputId": "2c5b4081-0de3-4760-ac7f-88a2f659cc80"
      },
      "outputs": [
        {
          "output_type": "execute_result",
          "data": {
            "text/plain": [
              "'1.3.5'"
            ],
            "application/vnd.google.colaboratory.intrinsic+json": {
              "type": "string"
            }
          },
          "metadata": {},
          "execution_count": 2
        }
      ],
      "source": [
        "pd.__version__"
      ]
    },
    {
      "cell_type": "markdown",
      "metadata": {
        "id": "9m-TZ29H-zju"
      },
      "source": [
        "# Introduction to pandas Data Structures\n",
        "\n",
        "#### ONE OF THE KEYS TO UNDERSTANDING PANDAS IS TO UNDERSTAND THE DATA model.\n",
        "\n",
        "#### At the core of pandas are three data structures:\n",
        "\n"
      ]
    },
    {
      "cell_type": "markdown",
      "metadata": {
        "id": "ne8QsNTM-zjw"
      },
      "source": [
        "#### The most widely used data structures are the Series and the DataFrame that deal with array data and tabular data respectively.\n",
        "\n",
        "# Series \n",
        "\n",
        "A Series is similar to a single column of data."
      ]
    },
    {
      "cell_type": "markdown",
      "metadata": {
        "id": "ZLV41zKt-zkT"
      },
      "source": [
        "# DataFrame\n",
        "\n",
        "A DataFrame is similar to a sheet with rows and columns.\n",
        "\n",
        "\n"
      ]
    },
    {
      "cell_type": "markdown",
      "metadata": {
        "id": "TrvXL6e2-zkV"
      },
      "source": [
        "# Panel\n",
        "A Panel is a group of sheets\n"
      ]
    },
    {
      "cell_type": "markdown",
      "metadata": {
        "id": "TizX_Ahe-zkW"
      },
      "source": [
        "# Pandas Series\n",
        "\n",
        "A SERIES IS USED TO MODEL ONE DIMENSIONAL DATA, SIMILAR TO A LIST IN\n",
        "Python.\n",
        "\n",
        "\n",
        "\n",
        "* #### The left most column is the index column which contains entries for the index. It is also known as axis. The value of index - 0,1,2,3.....\n",
        "* #### The rightmost column is the output contains the values of the series\n",
        "* #### Counts - is the name of column"
      ]
    },
    {
      "cell_type": "markdown",
      "metadata": {
        "id": "tj7DXe3k-zkZ"
      },
      "source": [
        "# Create a Series object"
      ]
    },
    {
      "cell_type": "code",
      "execution_count": 3,
      "metadata": {
        "id": "LqE5IqXB-zkb"
      },
      "outputs": [],
      "source": [
        "s = pd.Series([145,142,38,13],name='counts')"
      ]
    },
    {
      "cell_type": "code",
      "execution_count": 4,
      "metadata": {
        "colab": {
          "base_uri": "https://localhost:8080/"
        },
        "id": "kKnq3V4k-zkc",
        "outputId": "88d8d89e-61b8-4dcc-d189-48edd02a879b"
      },
      "outputs": [
        {
          "output_type": "execute_result",
          "data": {
            "text/plain": [
              "0    145\n",
              "1    142\n",
              "2     38\n",
              "3     13\n",
              "Name: counts, dtype: int64"
            ]
          },
          "metadata": {},
          "execution_count": 4
        }
      ],
      "source": [
        "s"
      ]
    },
    {
      "cell_type": "markdown",
      "metadata": {
        "id": "aCvI7o6z-zkd"
      },
      "source": [
        "#### General values of a Series can hold strings, floats, booleans, or arbitrary Python objects."
      ]
    },
    {
      "cell_type": "code",
      "execution_count": 5,
      "metadata": {
        "colab": {
          "base_uri": "https://localhost:8080/"
        },
        "id": "LPOY1Pkg-zke",
        "outputId": "3474d3aa-b669-4b18-d144-2f5f5f428af1"
      },
      "outputs": [
        {
          "output_type": "execute_result",
          "data": {
            "text/plain": [
              "RangeIndex(start=0, stop=4, step=1)"
            ]
          },
          "metadata": {},
          "execution_count": 5
        }
      ],
      "source": [
        "# You can inspect the index of a series, as it is an attribute of the object\n",
        "s.index"
      ]
    },
    {
      "cell_type": "code",
      "execution_count": 6,
      "metadata": {
        "colab": {
          "base_uri": "https://localhost:8080/"
        },
        "id": "gPCBklZE-zkh",
        "outputId": "b37955ed-63da-4880-ba43-e011493965f2"
      },
      "outputs": [
        {
          "output_type": "execute_result",
          "data": {
            "text/plain": [
              "John     145\n",
              "Bob      142\n",
              "Rohan     38\n",
              "Jolly     13\n",
              "Name: counts, dtype: int64"
            ]
          },
          "metadata": {},
          "execution_count": 6
        }
      ],
      "source": [
        "# String as index\n",
        "s = pd.Series([145,142,38,13],index=['John','Bob','Rohan','Jolly'],name='counts')\n",
        "s"
      ]
    },
    {
      "cell_type": "markdown",
      "metadata": {
        "id": "JiHziZ9a-zki"
      },
      "source": [
        "#### Note that the dtype that we see when we print a Series is the type of the values, not of the index"
      ]
    },
    {
      "cell_type": "code",
      "execution_count": 7,
      "metadata": {
        "colab": {
          "base_uri": "https://localhost:8080/"
        },
        "id": "alOSO-Wc-zkk",
        "outputId": "d9a2f98b-52b1-4fe3-cdb0-6e5f9dc11033"
      },
      "outputs": [
        {
          "output_type": "execute_result",
          "data": {
            "text/plain": [
              "Index(['John', 'Bob', 'Rohan', 'Jolly'], dtype='object')"
            ]
          },
          "metadata": {},
          "execution_count": 7
        }
      ],
      "source": [
        "# You can inspect the index of a series, as it is an object type\n",
        "s.index"
      ]
    },
    {
      "cell_type": "markdown",
      "metadata": {
        "id": "Bq2dR2eh-zkl"
      },
      "source": [
        "## Note - \n",
        "\n",
        "* If you have numeric data, you wouldn't want it to be stored as a Python object, but rather as an int64 or float64, which allow you to do vectorized numeric operations.\n",
        "\n",
        "* If you have time data and it says it has the object type, you probably have strings for the dates."
      ]
    },
    {
      "cell_type": "markdown",
      "metadata": {
        "id": "uRckJiJR-zkm"
      },
      "source": [
        "# The NaN value\n",
        "\n",
        "When pandas determines that a series holds numeric values, but it cannot find a number to represent an entry, it will use NaN.\n",
        "\n",
        "This value stands for Not A Number, and is usually ignored in arithmetic\n",
        "operations."
      ]
    },
    {
      "cell_type": "code",
      "execution_count": 8,
      "metadata": {
        "colab": {
          "base_uri": "https://localhost:8080/"
        },
        "id": "QYYu9C9O-zkm",
        "outputId": "7ad6bf96-a6d7-4465-fc8e-db4994f1172e"
      },
      "outputs": [
        {
          "output_type": "execute_result",
          "data": {
            "text/plain": [
              "0    2.0\n",
              "1    NaN\n",
              "2    3.0\n",
              "3    NaN\n",
              "dtype: float64"
            ]
          },
          "metadata": {},
          "execution_count": 8
        }
      ],
      "source": [
        "# Example \n",
        "\n",
        "nan_ex = pd.Series([2,None,3,None] )\n",
        "nan_ex"
      ]
    },
    {
      "cell_type": "markdown",
      "metadata": {
        "id": "ASBp044F-zkn"
      },
      "source": [
        "# Load Data from csv file into series"
      ]
    },
    {
      "cell_type": "code",
      "execution_count": 9,
      "metadata": {
        "colab": {
          "base_uri": "https://localhost:8080/",
          "height": 183
        },
        "id": "HdbSWGrX-zko",
        "outputId": "cb2e33ad-ddca-4498-87fa-d0e0dc89bc6e"
      },
      "outputs": [
        {
          "output_type": "error",
          "ename": "AttributeError",
          "evalue": "ignored",
          "traceback": [
            "\u001b[0;31m---------------------------------------------------------------------------\u001b[0m",
            "\u001b[0;31mAttributeError\u001b[0m                            Traceback (most recent call last)",
            "\u001b[0;32m<ipython-input-9-41f8b553b765>\u001b[0m in \u001b[0;36m<module>\u001b[0;34m\u001b[0m\n\u001b[0;32m----> 1\u001b[0;31m \u001b[0ms\u001b[0m \u001b[0;34m=\u001b[0m \u001b[0mpd\u001b[0m\u001b[0;34m.\u001b[0m\u001b[0mSeries\u001b[0m\u001b[0;34m.\u001b[0m\u001b[0mfrom_csv\u001b[0m\u001b[0;34m(\u001b[0m\u001b[0;34m'stores.csv'\u001b[0m\u001b[0;34m)\u001b[0m\u001b[0;34m\u001b[0m\u001b[0;34m\u001b[0m\u001b[0m\n\u001b[0m\u001b[1;32m      2\u001b[0m \u001b[0ms\u001b[0m\u001b[0;34m\u001b[0m\u001b[0;34m\u001b[0m\u001b[0m\n",
            "\u001b[0;31mAttributeError\u001b[0m: type object 'Series' has no attribute 'from_csv'"
          ]
        }
      ],
      "source": [
        "s = pd.Series.from_csv('stores.csv')\n",
        "s"
      ]
    },
    {
      "cell_type": "code",
      "execution_count": 10,
      "metadata": {
        "colab": {
          "base_uri": "https://localhost:8080/"
        },
        "id": "EY_K4_8H-zks",
        "outputId": "f0149d2a-9dfe-4e67-f732-b8ae6fa1d331"
      },
      "outputs": [
        {
          "output_type": "execute_result",
          "data": {
            "text/plain": [
              "pandas.core.series.Series"
            ]
          },
          "metadata": {},
          "execution_count": 10
        }
      ],
      "source": [
        "type(s)"
      ]
    },
    {
      "cell_type": "code",
      "execution_count": 11,
      "metadata": {
        "colab": {
          "base_uri": "https://localhost:8080/"
        },
        "id": "RaxMNpxG-zkt",
        "outputId": "e9190644-78b4-471e-c098-65233953661b"
      },
      "outputs": [
        {
          "output_type": "execute_result",
          "data": {
            "text/plain": [
              "Index(['John', 'Bob', 'Rohan', 'Jolly'], dtype='object')"
            ]
          },
          "metadata": {},
          "execution_count": 11
        }
      ],
      "source": [
        "s.index"
      ]
    },
    {
      "cell_type": "code",
      "execution_count": 11,
      "metadata": {
        "id": "RzUxzQu--zku"
      },
      "outputs": [],
      "source": [
        ""
      ]
    },
    {
      "cell_type": "markdown",
      "metadata": {
        "id": "2I11XnS4-zkv"
      },
      "source": [
        "# NOTE - \n",
        "One thing to note is that the type of this series is float64, not int64!\n",
        "\n",
        "This is because the only numeric column that supports NaN is the float\n",
        "column."
      ]
    },
    {
      "cell_type": "code",
      "execution_count": 12,
      "metadata": {
        "colab": {
          "base_uri": "https://localhost:8080/"
        },
        "id": "umYIYzmz-zkw",
        "outputId": "2cb5a706-f0f2-4634-c456-ac82848dbfb2"
      },
      "outputs": [
        {
          "output_type": "execute_result",
          "data": {
            "text/plain": [
              "2"
            ]
          },
          "metadata": {},
          "execution_count": 12
        }
      ],
      "source": [
        "# Count number of value in series \n",
        "# pandas ignores NaN\n",
        "\n",
        "nan_ex.count()"
      ]
    },
    {
      "cell_type": "markdown",
      "metadata": {
        "id": "ppZ21rng-zky"
      },
      "source": [
        "# Note - \n",
        "If you load data from a CSV file, an empty value will become NaN."
      ]
    },
    {
      "cell_type": "markdown",
      "metadata": {
        "id": "IE_ftcqW-zky"
      },
      "source": [
        "# Series CRUD\n",
        "\n",
        "THE PANDAS SERIES DATA STRUCTURE PROVIDES SUPPORT FOR THE BASIC CRUD\n",
        "operations—\n",
        "    * create\n",
        "    * read\n",
        "    * update\n",
        "    * delete.\n"
      ]
    },
    {
      "cell_type": "markdown",
      "metadata": {
        "id": "9KyDKSVp-zkz"
      },
      "source": [
        "### Creation"
      ]
    },
    {
      "cell_type": "code",
      "execution_count": 13,
      "metadata": {
        "colab": {
          "base_uri": "https://localhost:8080/"
        },
        "id": "yCGZdVIA-zkz",
        "outputId": "9a971d79-cb1c-436b-dfe4-a0e4cab558f6"
      },
      "outputs": [
        {
          "output_type": "execute_result",
          "data": {
            "text/plain": [
              "2002    33\n",
              "2002    34\n",
              "2003    40\n",
              "2010    41\n",
              "2001    36\n",
              "Name: data, dtype: int64"
            ]
          },
          "metadata": {},
          "execution_count": 13
        }
      ],
      "source": [
        "# Already done \n",
        "# Example of duplicate index\n",
        "data=[33,34,40,41,36]\n",
        "year = [2002,2002,2003,2010,2001]\n",
        "\n",
        "s =pd.Series(data,index=year,name='data')\n",
        "s"
      ]
    },
    {
      "cell_type": "code",
      "execution_count": 14,
      "metadata": {
        "colab": {
          "base_uri": "https://localhost:8080/"
        },
        "id": "ZSvDh2yW-zk0",
        "outputId": "259c9f9d-33a3-44bc-be73-8637e06e8ce9"
      },
      "outputs": [
        {
          "output_type": "execute_result",
          "data": {
            "text/plain": [
              "Int64Index([2002, 2002, 2003, 2010, 2001], dtype='int64')"
            ]
          },
          "metadata": {},
          "execution_count": 14
        }
      ],
      "source": [
        "s.index"
      ]
    },
    {
      "cell_type": "markdown",
      "metadata": {
        "id": "pxwEGR7Y-zk0"
      },
      "source": [
        "# Reading\n",
        "\n",
        "To read or select the data from a series, one can simply use an index\n",
        "operation in combination with the index entry"
      ]
    },
    {
      "cell_type": "code",
      "execution_count": 15,
      "metadata": {
        "colab": {
          "base_uri": "https://localhost:8080/"
        },
        "id": "Pa09CI2O-zk0",
        "outputId": "d9882760-c945-4ee0-8950-d96b3da4a68c"
      },
      "outputs": [
        {
          "output_type": "execute_result",
          "data": {
            "text/plain": [
              "41"
            ]
          },
          "metadata": {},
          "execution_count": 15
        }
      ],
      "source": [
        "# Normally this returns a scalar value\n",
        "s[2010]"
      ]
    },
    {
      "cell_type": "code",
      "execution_count": 16,
      "metadata": {
        "colab": {
          "base_uri": "https://localhost:8080/"
        },
        "id": "nTltyVC9-zk1",
        "outputId": "9dd3a034-dcf4-4ccb-9c97-7697f7afb382"
      },
      "outputs": [
        {
          "output_type": "execute_result",
          "data": {
            "text/plain": [
              "2002    33\n",
              "2002    34\n",
              "Name: data, dtype: int64"
            ]
          },
          "metadata": {},
          "execution_count": 16
        }
      ],
      "source": [
        "# In the case where index entries repeat, the result will be another Series object:\n",
        "s[2002]"
      ]
    },
    {
      "cell_type": "code",
      "execution_count": 17,
      "metadata": {
        "colab": {
          "base_uri": "https://localhost:8080/"
        },
        "id": "H22luJbO-zk1",
        "outputId": "7cc52d9a-acfb-4a60-8b8d-e95e24ca8e43"
      },
      "outputs": [
        {
          "output_type": "execute_result",
          "data": {
            "text/plain": [
              "pandas.core.series.Series"
            ]
          },
          "metadata": {},
          "execution_count": 17
        }
      ],
      "source": [
        "type(s[2002])"
      ]
    },
    {
      "cell_type": "markdown",
      "metadata": {
        "id": "oXdSNFIb-zk2"
      },
      "source": [
        "# Iterating over a series\n",
        "\n",
        "* iteration  occurs over the values of a series.\n",
        "* membership  is against the index items.\n"
      ]
    },
    {
      "cell_type": "code",
      "execution_count": 18,
      "metadata": {
        "colab": {
          "base_uri": "https://localhost:8080/"
        },
        "id": "MalL5Rl--zk2",
        "outputId": "92ec4729-4a02-4150-9da5-262976c2ddaf"
      },
      "outputs": [
        {
          "output_type": "stream",
          "name": "stdout",
          "text": [
            "33\n",
            "34\n",
            "40\n",
            "41\n",
            "36\n"
          ]
        }
      ],
      "source": [
        "for item in s:\n",
        "    print(item)"
      ]
    },
    {
      "cell_type": "markdown",
      "metadata": {
        "id": "1i6CadLe-zk2"
      },
      "source": [
        "# Membership \"in\" operator"
      ]
    },
    {
      "cell_type": "code",
      "execution_count": 19,
      "metadata": {
        "colab": {
          "base_uri": "https://localhost:8080/"
        },
        "id": "fO-I2ggU-zk3",
        "outputId": "57ea74e3-9b4e-49f0-a2c5-fa64f017933c"
      },
      "outputs": [
        {
          "output_type": "execute_result",
          "data": {
            "text/plain": [
              "False"
            ]
          },
          "metadata": {},
          "execution_count": 19
        }
      ],
      "source": [
        "# 33 in s gives false because membership is checking against index\n",
        "33 in s"
      ]
    },
    {
      "cell_type": "code",
      "execution_count": 20,
      "metadata": {
        "colab": {
          "base_uri": "https://localhost:8080/"
        },
        "id": "-s7We03r-zk4",
        "outputId": "36c1b491-1fb3-4ee1-8fd1-482772927d0b"
      },
      "outputs": [
        {
          "output_type": "execute_result",
          "data": {
            "text/plain": [
              "True"
            ]
          },
          "metadata": {},
          "execution_count": 20
        }
      ],
      "source": [
        "# here 2002 is index\n",
        "2002 in s"
      ]
    },
    {
      "cell_type": "code",
      "execution_count": 21,
      "metadata": {
        "colab": {
          "base_uri": "https://localhost:8080/"
        },
        "id": "_2a2DofN-zk4",
        "outputId": "73f14203-d5fc-404f-81e7-5a5d1db1898b"
      },
      "outputs": [
        {
          "output_type": "stream",
          "name": "stdout",
          "text": [
            "(2002, 33)\n",
            "(2002, 34)\n",
            "(2003, 40)\n",
            "(2010, 41)\n",
            "(2001, 36)\n"
          ]
        }
      ],
      "source": [
        "# iterate over the tuple both the index and value\n",
        "for item in s.iteritems():\n",
        "    print(item)"
      ]
    },
    {
      "cell_type": "markdown",
      "metadata": {
        "id": "Gu9wzOZi-zk5"
      },
      "source": [
        "# Updating\n",
        "\n",
        "To update a value for a given index label, the standard index assignment operation works and performs the update in-place"
      ]
    },
    {
      "cell_type": "code",
      "execution_count": 22,
      "metadata": {
        "colab": {
          "base_uri": "https://localhost:8080/"
        },
        "id": "N_3zZu3U-zk5",
        "outputId": "b71ee528-79b4-45e0-b327-9babd826fa3c"
      },
      "outputs": [
        {
          "output_type": "execute_result",
          "data": {
            "text/plain": [
              "2002    33\n",
              "2002    34\n",
              "2003    40\n",
              "2010    41\n",
              "2001    36\n",
              "Name: data, dtype: int64"
            ]
          },
          "metadata": {},
          "execution_count": 22
        }
      ],
      "source": [
        "s"
      ]
    },
    {
      "cell_type": "code",
      "execution_count": 23,
      "metadata": {
        "id": "yHHcSD8q-zk6"
      },
      "outputs": [],
      "source": [
        "# Update value at index 2003\n",
        "s[2003] = 1000"
      ]
    },
    {
      "cell_type": "code",
      "execution_count": 24,
      "metadata": {
        "colab": {
          "base_uri": "https://localhost:8080/"
        },
        "id": "EfiS252H-zk6",
        "outputId": "6ae50e24-cb57-4d82-a49d-e123eb9ae811"
      },
      "outputs": [
        {
          "output_type": "execute_result",
          "data": {
            "text/plain": [
              "2002      33\n",
              "2002      34\n",
              "2003    1000\n",
              "2010      41\n",
              "2001      36\n",
              "Name: data, dtype: int64"
            ]
          },
          "metadata": {},
          "execution_count": 24
        }
      ],
      "source": [
        "s"
      ]
    },
    {
      "cell_type": "code",
      "execution_count": 25,
      "metadata": {
        "id": "iNtVwJVK-zk7"
      },
      "outputs": [],
      "source": [
        "# adding new index and value\n",
        "s[2020] = 20"
      ]
    },
    {
      "cell_type": "code",
      "execution_count": 26,
      "metadata": {
        "colab": {
          "base_uri": "https://localhost:8080/"
        },
        "id": "JkwY7v22-zk7",
        "outputId": "f4e4564b-f535-4445-b9bf-2f21458106dd"
      },
      "outputs": [
        {
          "output_type": "execute_result",
          "data": {
            "text/plain": [
              "2002      33\n",
              "2002      34\n",
              "2003    1000\n",
              "2010      41\n",
              "2001      36\n",
              "2020      20\n",
              "Name: data, dtype: int64"
            ]
          },
          "metadata": {},
          "execution_count": 26
        }
      ],
      "source": [
        "s"
      ]
    },
    {
      "cell_type": "markdown",
      "metadata": {
        "id": "-pGgv5pg-zk8"
      },
      "source": [
        "#### Note -  what happens when we try to update an index that has duplicate entries."
      ]
    },
    {
      "cell_type": "code",
      "execution_count": 27,
      "metadata": {
        "id": "TpmLfKrG-zk8"
      },
      "outputs": [],
      "source": [
        "# update s[2002]\n",
        "s[2002]=100"
      ]
    },
    {
      "cell_type": "code",
      "execution_count": 28,
      "metadata": {
        "colab": {
          "base_uri": "https://localhost:8080/"
        },
        "id": "zbOhBRX4-zk9",
        "outputId": "8a196e3d-6f86-491f-93c3-589ddb5c27d2"
      },
      "outputs": [
        {
          "output_type": "execute_result",
          "data": {
            "text/plain": [
              "2002     100\n",
              "2002     100\n",
              "2003    1000\n",
              "2010      41\n",
              "2001      36\n",
              "2020      20\n",
              "Name: data, dtype: int64"
            ]
          },
          "metadata": {},
          "execution_count": 28
        }
      ],
      "source": [
        "s"
      ]
    },
    {
      "cell_type": "markdown",
      "metadata": {
        "id": "m1bEKCBK-zk9"
      },
      "source": [
        "# Deletion\n"
      ]
    },
    {
      "cell_type": "code",
      "execution_count": 29,
      "metadata": {
        "id": "AfmDPeqY-zk-"
      },
      "outputs": [],
      "source": [
        "del s[2002]"
      ]
    },
    {
      "cell_type": "code",
      "execution_count": 30,
      "metadata": {
        "colab": {
          "base_uri": "https://localhost:8080/"
        },
        "id": "ZqcCSgcr-zk-",
        "outputId": "9e68abfa-6aa0-4a8d-9e6e-8c4ba76c64a3"
      },
      "outputs": [
        {
          "output_type": "execute_result",
          "data": {
            "text/plain": [
              "2003    1000\n",
              "2010      41\n",
              "2001      36\n",
              "2020      20\n",
              "Name: data, dtype: int64"
            ]
          },
          "metadata": {},
          "execution_count": 30
        }
      ],
      "source": [
        "s"
      ]
    },
    {
      "cell_type": "markdown",
      "metadata": {
        "id": "aYPjphua-zk_"
      },
      "source": [
        "# Series Using List, Dictionary & Ndarray"
      ]
    },
    {
      "cell_type": "code",
      "execution_count": 31,
      "metadata": {
        "colab": {
          "base_uri": "https://localhost:8080/"
        },
        "id": "h1h1bs6E-zk_",
        "outputId": "4699d979-ca59-4857-9147-235914bbdf9b"
      },
      "outputs": [
        {
          "output_type": "execute_result",
          "data": {
            "text/plain": [
              "0    1.5\n",
              "1    2.5\n",
              "2    3.0\n",
              "3    4.5\n",
              "4    5.0\n",
              "5    6.0\n",
              "dtype: float64"
            ]
          },
          "metadata": {},
          "execution_count": 31
        }
      ],
      "source": [
        "# Using List\n",
        "ser1 = pd.Series([1.5, 2.5, 3, 4.5, 5.0, 6])\n",
        "ser1"
      ]
    },
    {
      "cell_type": "code",
      "execution_count": 32,
      "metadata": {
        "colab": {
          "base_uri": "https://localhost:8080/"
        },
        "id": "K8ssSSaH-zlA",
        "outputId": "5103266c-a6a0-42ab-ee9c-3c65825ed250"
      },
      "outputs": [
        {
          "output_type": "execute_result",
          "data": {
            "text/plain": [
              "India    New Delhi\n",
              "Japan        Tokyo\n",
              "UK          London\n",
              "dtype: object"
            ]
          },
          "metadata": {},
          "execution_count": 32
        }
      ],
      "source": [
        "# Creating Series using dictionary\n",
        "ser1 = pd.Series({\"India\": \"New Delhi\",\"Japan\": \"Tokyo\",\"UK\": \"London\"})\n",
        "ser1"
      ]
    },
    {
      "cell_type": "code",
      "execution_count": 33,
      "metadata": {
        "colab": {
          "base_uri": "https://localhost:8080/"
        },
        "id": "0akmh_af-zlA",
        "outputId": "9d09494f-300e-4009-f9c4-d473ef687834"
      },
      "outputs": [
        {
          "output_type": "execute_result",
          "data": {
            "text/plain": [
              "0    100.0\n",
              "1    120.5\n",
              "2    141.0\n",
              "3    161.5\n",
              "4    182.0\n",
              "5    202.5\n",
              "6    223.0\n",
              "7    243.5\n",
              "8    264.0\n",
              "9    284.5\n",
              "dtype: float64"
            ]
          },
          "metadata": {},
          "execution_count": 33
        }
      ],
      "source": [
        "# Using ndarray\n",
        "import numpy as np\n",
        "ser1 = pd.Series(np.arange(100,300,20.5))\n",
        "ser1"
      ]
    },
    {
      "cell_type": "markdown",
      "metadata": {
        "id": "pWGk_dg9-zlB"
      },
      "source": [
        "# Series Indexing\n",
        "\n",
        "Just like numpy arrays, a Series object can be both indexed and sliced along the axis. \n",
        "\n",
        "Indexing pulls out either a scalar or multiple values"
      ]
    },
    {
      "cell_type": "code",
      "execution_count": 34,
      "metadata": {
        "id": "xlDvhc9l-zlB"
      },
      "outputs": [],
      "source": [
        "data=[33,34,40,41,36]\n",
        "year = [2002,2002,2003,2010,2001]\n",
        "\n",
        "s =pd.Series(data,index=year,name='data')"
      ]
    },
    {
      "cell_type": "code",
      "execution_count": 35,
      "metadata": {
        "colab": {
          "base_uri": "https://localhost:8080/"
        },
        "id": "eQX0il8_-zlB",
        "outputId": "6523fffe-9f82-495e-e5ba-42a8e38fbd8f"
      },
      "outputs": [
        {
          "output_type": "execute_result",
          "data": {
            "text/plain": [
              "False"
            ]
          },
          "metadata": {},
          "execution_count": 35
        }
      ],
      "source": [
        "# to check index is unique or not\n",
        "s.index.is_unique"
      ]
    },
    {
      "cell_type": "code",
      "execution_count": 36,
      "metadata": {
        "colab": {
          "base_uri": "https://localhost:8080/"
        },
        "id": "0AS7NN3H-zlC",
        "outputId": "c2bc8ab6-fca0-43c0-8105-af628417ec2a"
      },
      "outputs": [
        {
          "output_type": "execute_result",
          "data": {
            "text/plain": [
              "2002    33\n",
              "2002    34\n",
              "2003    40\n",
              "2010    41\n",
              "2001    36\n",
              "Name: data, dtype: int64"
            ]
          },
          "metadata": {},
          "execution_count": 36
        }
      ],
      "source": [
        "s"
      ]
    },
    {
      "cell_type": "code",
      "execution_count": 37,
      "metadata": {
        "colab": {
          "base_uri": "https://localhost:8080/",
          "height": 467
        },
        "id": "ADv3lcqx-zlD",
        "outputId": "b12609c6-0206-43f0-aa4f-3518790946a2"
      },
      "outputs": [
        {
          "output_type": "error",
          "ename": "KeyError",
          "evalue": "ignored",
          "traceback": [
            "\u001b[0;31m---------------------------------------------------------------------------\u001b[0m",
            "\u001b[0;31mKeyError\u001b[0m                                  Traceback (most recent call last)",
            "\u001b[0;32m/usr/local/lib/python3.7/dist-packages/pandas/core/indexes/base.py\u001b[0m in \u001b[0;36mget_loc\u001b[0;34m(self, key, method, tolerance)\u001b[0m\n\u001b[1;32m   3360\u001b[0m             \u001b[0;32mtry\u001b[0m\u001b[0;34m:\u001b[0m\u001b[0;34m\u001b[0m\u001b[0;34m\u001b[0m\u001b[0m\n\u001b[0;32m-> 3361\u001b[0;31m                 \u001b[0;32mreturn\u001b[0m \u001b[0mself\u001b[0m\u001b[0;34m.\u001b[0m\u001b[0m_engine\u001b[0m\u001b[0;34m.\u001b[0m\u001b[0mget_loc\u001b[0m\u001b[0;34m(\u001b[0m\u001b[0mcasted_key\u001b[0m\u001b[0;34m)\u001b[0m\u001b[0;34m\u001b[0m\u001b[0;34m\u001b[0m\u001b[0m\n\u001b[0m\u001b[1;32m   3362\u001b[0m             \u001b[0;32mexcept\u001b[0m \u001b[0mKeyError\u001b[0m \u001b[0;32mas\u001b[0m \u001b[0merr\u001b[0m\u001b[0;34m:\u001b[0m\u001b[0;34m\u001b[0m\u001b[0;34m\u001b[0m\u001b[0m\n",
            "\u001b[0;32m/usr/local/lib/python3.7/dist-packages/pandas/_libs/index.pyx\u001b[0m in \u001b[0;36mpandas._libs.index.IndexEngine.get_loc\u001b[0;34m()\u001b[0m\n",
            "\u001b[0;32m/usr/local/lib/python3.7/dist-packages/pandas/_libs/index.pyx\u001b[0m in \u001b[0;36mpandas._libs.index.IndexEngine.get_loc\u001b[0;34m()\u001b[0m\n",
            "\u001b[0;32m/usr/local/lib/python3.7/dist-packages/pandas/_libs/index.pyx\u001b[0m in \u001b[0;36mpandas._libs.index.IndexEngine._get_loc_duplicates\u001b[0;34m()\u001b[0m\n",
            "\u001b[0;32mpandas/_libs/index_class_helper.pxi\u001b[0m in \u001b[0;36mpandas._libs.index.Int64Engine._maybe_get_bool_indexer\u001b[0;34m()\u001b[0m\n",
            "\u001b[0;32m/usr/local/lib/python3.7/dist-packages/pandas/_libs/index.pyx\u001b[0m in \u001b[0;36mpandas._libs.index.IndexEngine._unpack_bool_indexer\u001b[0;34m()\u001b[0m\n",
            "\u001b[0;31mKeyError\u001b[0m: 0",
            "\nThe above exception was the direct cause of the following exception:\n",
            "\u001b[0;31mKeyError\u001b[0m                                  Traceback (most recent call last)",
            "\u001b[0;32m<ipython-input-37-19e14ec38e98>\u001b[0m in \u001b[0;36m<module>\u001b[0;34m\u001b[0m\n\u001b[1;32m      1\u001b[0m \u001b[0;31m# index by position is not working normaly like in python collection\u001b[0m\u001b[0;34m\u001b[0m\u001b[0;34m\u001b[0m\u001b[0;34m\u001b[0m\u001b[0m\n\u001b[0;32m----> 2\u001b[0;31m \u001b[0ms\u001b[0m\u001b[0;34m[\u001b[0m\u001b[0;36m0\u001b[0m\u001b[0;34m]\u001b[0m\u001b[0;34m\u001b[0m\u001b[0;34m\u001b[0m\u001b[0m\n\u001b[0m",
            "\u001b[0;32m/usr/local/lib/python3.7/dist-packages/pandas/core/series.py\u001b[0m in \u001b[0;36m__getitem__\u001b[0;34m(self, key)\u001b[0m\n\u001b[1;32m    940\u001b[0m \u001b[0;34m\u001b[0m\u001b[0m\n\u001b[1;32m    941\u001b[0m         \u001b[0;32melif\u001b[0m \u001b[0mkey_is_scalar\u001b[0m\u001b[0;34m:\u001b[0m\u001b[0;34m\u001b[0m\u001b[0;34m\u001b[0m\u001b[0m\n\u001b[0;32m--> 942\u001b[0;31m             \u001b[0;32mreturn\u001b[0m \u001b[0mself\u001b[0m\u001b[0;34m.\u001b[0m\u001b[0m_get_value\u001b[0m\u001b[0;34m(\u001b[0m\u001b[0mkey\u001b[0m\u001b[0;34m)\u001b[0m\u001b[0;34m\u001b[0m\u001b[0;34m\u001b[0m\u001b[0m\n\u001b[0m\u001b[1;32m    943\u001b[0m \u001b[0;34m\u001b[0m\u001b[0m\n\u001b[1;32m    944\u001b[0m         \u001b[0;32mif\u001b[0m \u001b[0mis_hashable\u001b[0m\u001b[0;34m(\u001b[0m\u001b[0mkey\u001b[0m\u001b[0;34m)\u001b[0m\u001b[0;34m:\u001b[0m\u001b[0;34m\u001b[0m\u001b[0;34m\u001b[0m\u001b[0m\n",
            "\u001b[0;32m/usr/local/lib/python3.7/dist-packages/pandas/core/series.py\u001b[0m in \u001b[0;36m_get_value\u001b[0;34m(self, label, takeable)\u001b[0m\n\u001b[1;32m   1049\u001b[0m \u001b[0;34m\u001b[0m\u001b[0m\n\u001b[1;32m   1050\u001b[0m         \u001b[0;31m# Similar to Index.get_value, but we do not fall back to positional\u001b[0m\u001b[0;34m\u001b[0m\u001b[0;34m\u001b[0m\u001b[0;34m\u001b[0m\u001b[0m\n\u001b[0;32m-> 1051\u001b[0;31m         \u001b[0mloc\u001b[0m \u001b[0;34m=\u001b[0m \u001b[0mself\u001b[0m\u001b[0;34m.\u001b[0m\u001b[0mindex\u001b[0m\u001b[0;34m.\u001b[0m\u001b[0mget_loc\u001b[0m\u001b[0;34m(\u001b[0m\u001b[0mlabel\u001b[0m\u001b[0;34m)\u001b[0m\u001b[0;34m\u001b[0m\u001b[0;34m\u001b[0m\u001b[0m\n\u001b[0m\u001b[1;32m   1052\u001b[0m         \u001b[0;32mreturn\u001b[0m \u001b[0mself\u001b[0m\u001b[0;34m.\u001b[0m\u001b[0mindex\u001b[0m\u001b[0;34m.\u001b[0m\u001b[0m_get_values_for_loc\u001b[0m\u001b[0;34m(\u001b[0m\u001b[0mself\u001b[0m\u001b[0;34m,\u001b[0m \u001b[0mloc\u001b[0m\u001b[0;34m,\u001b[0m \u001b[0mlabel\u001b[0m\u001b[0;34m)\u001b[0m\u001b[0;34m\u001b[0m\u001b[0;34m\u001b[0m\u001b[0m\n\u001b[1;32m   1053\u001b[0m \u001b[0;34m\u001b[0m\u001b[0m\n",
            "\u001b[0;32m/usr/local/lib/python3.7/dist-packages/pandas/core/indexes/base.py\u001b[0m in \u001b[0;36mget_loc\u001b[0;34m(self, key, method, tolerance)\u001b[0m\n\u001b[1;32m   3361\u001b[0m                 \u001b[0;32mreturn\u001b[0m \u001b[0mself\u001b[0m\u001b[0;34m.\u001b[0m\u001b[0m_engine\u001b[0m\u001b[0;34m.\u001b[0m\u001b[0mget_loc\u001b[0m\u001b[0;34m(\u001b[0m\u001b[0mcasted_key\u001b[0m\u001b[0;34m)\u001b[0m\u001b[0;34m\u001b[0m\u001b[0;34m\u001b[0m\u001b[0m\n\u001b[1;32m   3362\u001b[0m             \u001b[0;32mexcept\u001b[0m \u001b[0mKeyError\u001b[0m \u001b[0;32mas\u001b[0m \u001b[0merr\u001b[0m\u001b[0;34m:\u001b[0m\u001b[0;34m\u001b[0m\u001b[0;34m\u001b[0m\u001b[0m\n\u001b[0;32m-> 3363\u001b[0;31m                 \u001b[0;32mraise\u001b[0m \u001b[0mKeyError\u001b[0m\u001b[0;34m(\u001b[0m\u001b[0mkey\u001b[0m\u001b[0;34m)\u001b[0m \u001b[0;32mfrom\u001b[0m \u001b[0merr\u001b[0m\u001b[0;34m\u001b[0m\u001b[0;34m\u001b[0m\u001b[0m\n\u001b[0m\u001b[1;32m   3364\u001b[0m \u001b[0;34m\u001b[0m\u001b[0m\n\u001b[1;32m   3365\u001b[0m         \u001b[0;32mif\u001b[0m \u001b[0mis_scalar\u001b[0m\u001b[0;34m(\u001b[0m\u001b[0mkey\u001b[0m\u001b[0;34m)\u001b[0m \u001b[0;32mand\u001b[0m \u001b[0misna\u001b[0m\u001b[0;34m(\u001b[0m\u001b[0mkey\u001b[0m\u001b[0;34m)\u001b[0m \u001b[0;32mand\u001b[0m \u001b[0;32mnot\u001b[0m \u001b[0mself\u001b[0m\u001b[0;34m.\u001b[0m\u001b[0mhasnans\u001b[0m\u001b[0;34m:\u001b[0m\u001b[0;34m\u001b[0m\u001b[0;34m\u001b[0m\u001b[0m\n",
            "\u001b[0;31mKeyError\u001b[0m: 0"
          ]
        }
      ],
      "source": [
        "# index by position is not working normaly like in python collection\n",
        "s[0]"
      ]
    },
    {
      "cell_type": "markdown",
      "metadata": {
        "id": "g0IzWcVX-zlE"
      },
      "source": [
        "# .iloc and .loc\n",
        "\n",
        "These two attributes allow label-based and position-based indexing respectively"
      ]
    },
    {
      "cell_type": "code",
      "execution_count": 38,
      "metadata": {
        "colab": {
          "base_uri": "https://localhost:8080/"
        },
        "id": "BfDeez2Y-zlE",
        "outputId": "0a211338-06ef-4d8b-971e-3b593feea102"
      },
      "outputs": [
        {
          "output_type": "execute_result",
          "data": {
            "text/plain": [
              "33"
            ]
          },
          "metadata": {},
          "execution_count": 38
        }
      ],
      "source": [
        "# example \n",
        "s.iloc[0]"
      ]
    },
    {
      "cell_type": "code",
      "execution_count": 39,
      "metadata": {
        "colab": {
          "base_uri": "https://localhost:8080/"
        },
        "id": "vTeSbyx8-zlF",
        "outputId": "c7177b41-78f1-4b41-f5d9-8d387f594522"
      },
      "outputs": [
        {
          "output_type": "execute_result",
          "data": {
            "text/plain": [
              "36"
            ]
          },
          "metadata": {},
          "execution_count": 39
        }
      ],
      "source": [
        "s.iloc[-1]"
      ]
    },
    {
      "cell_type": "markdown",
      "metadata": {
        "id": "QpplZgc9-zlG"
      },
      "source": [
        "#### When we perform an index operation on the .iloc attribute, it does lookup based on index position. pandas will raise an IndexError if there is no index at that location"
      ]
    },
    {
      "cell_type": "code",
      "execution_count": 40,
      "metadata": {
        "colab": {
          "base_uri": "https://localhost:8080/",
          "height": 311
        },
        "id": "28ShnTqt-zlG",
        "outputId": "26ebb39f-2706-4563-b26e-0af42feac2f9"
      },
      "outputs": [
        {
          "output_type": "error",
          "ename": "IndexError",
          "evalue": "ignored",
          "traceback": [
            "\u001b[0;31m---------------------------------------------------------------------------\u001b[0m",
            "\u001b[0;31mIndexError\u001b[0m                                Traceback (most recent call last)",
            "\u001b[0;32m<ipython-input-40-745ffdd4e301>\u001b[0m in \u001b[0;36m<module>\u001b[0;34m\u001b[0m\n\u001b[0;32m----> 1\u001b[0;31m \u001b[0ms\u001b[0m\u001b[0;34m.\u001b[0m\u001b[0miloc\u001b[0m\u001b[0;34m[\u001b[0m\u001b[0;36m9\u001b[0m\u001b[0;34m]\u001b[0m\u001b[0;34m\u001b[0m\u001b[0;34m\u001b[0m\u001b[0m\n\u001b[0m",
            "\u001b[0;32m/usr/local/lib/python3.7/dist-packages/pandas/core/indexing.py\u001b[0m in \u001b[0;36m__getitem__\u001b[0;34m(self, key)\u001b[0m\n\u001b[1;32m    929\u001b[0m \u001b[0;34m\u001b[0m\u001b[0m\n\u001b[1;32m    930\u001b[0m             \u001b[0mmaybe_callable\u001b[0m \u001b[0;34m=\u001b[0m \u001b[0mcom\u001b[0m\u001b[0;34m.\u001b[0m\u001b[0mapply_if_callable\u001b[0m\u001b[0;34m(\u001b[0m\u001b[0mkey\u001b[0m\u001b[0;34m,\u001b[0m \u001b[0mself\u001b[0m\u001b[0;34m.\u001b[0m\u001b[0mobj\u001b[0m\u001b[0;34m)\u001b[0m\u001b[0;34m\u001b[0m\u001b[0;34m\u001b[0m\u001b[0m\n\u001b[0;32m--> 931\u001b[0;31m             \u001b[0;32mreturn\u001b[0m \u001b[0mself\u001b[0m\u001b[0;34m.\u001b[0m\u001b[0m_getitem_axis\u001b[0m\u001b[0;34m(\u001b[0m\u001b[0mmaybe_callable\u001b[0m\u001b[0;34m,\u001b[0m \u001b[0maxis\u001b[0m\u001b[0;34m=\u001b[0m\u001b[0maxis\u001b[0m\u001b[0;34m)\u001b[0m\u001b[0;34m\u001b[0m\u001b[0;34m\u001b[0m\u001b[0m\n\u001b[0m\u001b[1;32m    932\u001b[0m \u001b[0;34m\u001b[0m\u001b[0m\n\u001b[1;32m    933\u001b[0m     \u001b[0;32mdef\u001b[0m \u001b[0m_is_scalar_access\u001b[0m\u001b[0;34m(\u001b[0m\u001b[0mself\u001b[0m\u001b[0;34m,\u001b[0m \u001b[0mkey\u001b[0m\u001b[0;34m:\u001b[0m \u001b[0mtuple\u001b[0m\u001b[0;34m)\u001b[0m\u001b[0;34m:\u001b[0m\u001b[0;34m\u001b[0m\u001b[0;34m\u001b[0m\u001b[0m\n",
            "\u001b[0;32m/usr/local/lib/python3.7/dist-packages/pandas/core/indexing.py\u001b[0m in \u001b[0;36m_getitem_axis\u001b[0;34m(self, key, axis)\u001b[0m\n\u001b[1;32m   1564\u001b[0m \u001b[0;34m\u001b[0m\u001b[0m\n\u001b[1;32m   1565\u001b[0m             \u001b[0;31m# validate the location\u001b[0m\u001b[0;34m\u001b[0m\u001b[0;34m\u001b[0m\u001b[0;34m\u001b[0m\u001b[0m\n\u001b[0;32m-> 1566\u001b[0;31m             \u001b[0mself\u001b[0m\u001b[0;34m.\u001b[0m\u001b[0m_validate_integer\u001b[0m\u001b[0;34m(\u001b[0m\u001b[0mkey\u001b[0m\u001b[0;34m,\u001b[0m \u001b[0maxis\u001b[0m\u001b[0;34m)\u001b[0m\u001b[0;34m\u001b[0m\u001b[0;34m\u001b[0m\u001b[0m\n\u001b[0m\u001b[1;32m   1567\u001b[0m \u001b[0;34m\u001b[0m\u001b[0m\n\u001b[1;32m   1568\u001b[0m             \u001b[0;32mreturn\u001b[0m \u001b[0mself\u001b[0m\u001b[0;34m.\u001b[0m\u001b[0mobj\u001b[0m\u001b[0;34m.\u001b[0m\u001b[0m_ixs\u001b[0m\u001b[0;34m(\u001b[0m\u001b[0mkey\u001b[0m\u001b[0;34m,\u001b[0m \u001b[0maxis\u001b[0m\u001b[0;34m=\u001b[0m\u001b[0maxis\u001b[0m\u001b[0;34m)\u001b[0m\u001b[0;34m\u001b[0m\u001b[0;34m\u001b[0m\u001b[0m\n",
            "\u001b[0;32m/usr/local/lib/python3.7/dist-packages/pandas/core/indexing.py\u001b[0m in \u001b[0;36m_validate_integer\u001b[0;34m(self, key, axis)\u001b[0m\n\u001b[1;32m   1498\u001b[0m         \u001b[0mlen_axis\u001b[0m \u001b[0;34m=\u001b[0m \u001b[0mlen\u001b[0m\u001b[0;34m(\u001b[0m\u001b[0mself\u001b[0m\u001b[0;34m.\u001b[0m\u001b[0mobj\u001b[0m\u001b[0;34m.\u001b[0m\u001b[0m_get_axis\u001b[0m\u001b[0;34m(\u001b[0m\u001b[0maxis\u001b[0m\u001b[0;34m)\u001b[0m\u001b[0;34m)\u001b[0m\u001b[0;34m\u001b[0m\u001b[0;34m\u001b[0m\u001b[0m\n\u001b[1;32m   1499\u001b[0m         \u001b[0;32mif\u001b[0m \u001b[0mkey\u001b[0m \u001b[0;34m>=\u001b[0m \u001b[0mlen_axis\u001b[0m \u001b[0;32mor\u001b[0m \u001b[0mkey\u001b[0m \u001b[0;34m<\u001b[0m \u001b[0;34m-\u001b[0m\u001b[0mlen_axis\u001b[0m\u001b[0;34m:\u001b[0m\u001b[0;34m\u001b[0m\u001b[0;34m\u001b[0m\u001b[0m\n\u001b[0;32m-> 1500\u001b[0;31m             \u001b[0;32mraise\u001b[0m \u001b[0mIndexError\u001b[0m\u001b[0;34m(\u001b[0m\u001b[0;34m\"single positional indexer is out-of-bounds\"\u001b[0m\u001b[0;34m)\u001b[0m\u001b[0;34m\u001b[0m\u001b[0;34m\u001b[0m\u001b[0m\n\u001b[0m\u001b[1;32m   1501\u001b[0m \u001b[0;34m\u001b[0m\u001b[0m\n\u001b[1;32m   1502\u001b[0m     \u001b[0;31m# -------------------------------------------------------------------\u001b[0m\u001b[0;34m\u001b[0m\u001b[0;34m\u001b[0m\u001b[0;34m\u001b[0m\u001b[0m\n",
            "\u001b[0;31mIndexError\u001b[0m: single positional indexer is out-of-bounds"
          ]
        }
      ],
      "source": [
        "s.iloc[9]"
      ]
    },
    {
      "cell_type": "code",
      "execution_count": 41,
      "metadata": {
        "colab": {
          "base_uri": "https://localhost:8080/"
        },
        "id": "dTL5q0b_-zlH",
        "outputId": "37be5fa9-0c1a-449f-b97f-6ea909dde2f0"
      },
      "outputs": [
        {
          "output_type": "stream",
          "name": "stdout",
          "text": [
            "2002    33\n",
            "2002    34\n",
            "2003    40\n",
            "2010    41\n",
            "2001    36\n",
            "Name: data, dtype: int64\n"
          ]
        },
        {
          "output_type": "execute_result",
          "data": {
            "text/plain": [
              "2003    40\n",
              "2001    36\n",
              "Name: data, dtype: int64"
            ]
          },
          "metadata": {},
          "execution_count": 41
        }
      ],
      "source": [
        "# Slicing multiple items  we pass list of index\n",
        "print(s)\n",
        "s.iloc[[2,4]]"
      ]
    },
    {
      "cell_type": "code",
      "execution_count": 42,
      "metadata": {
        "colab": {
          "base_uri": "https://localhost:8080/"
        },
        "id": "ongKT1-i-zlH",
        "outputId": "4a10031e-0571-459f-8a85-785f89ea206c"
      },
      "outputs": [
        {
          "output_type": "execute_result",
          "data": {
            "text/plain": [
              "2003    40\n",
              "2010    41\n",
              "2001    36\n",
              "Name: data, dtype: int64"
            ]
          },
          "metadata": {},
          "execution_count": 42
        }
      ],
      "source": [
        "# Pulling out multiple item in given range of index\n",
        "s.iloc[2:5]"
      ]
    },
    {
      "cell_type": "markdown",
      "metadata": {
        "id": "UZUBj0d1-zlI"
      },
      "source": [
        "## .loc is supposed to be based on the index labels and not the positions"
      ]
    },
    {
      "cell_type": "code",
      "execution_count": 43,
      "metadata": {
        "colab": {
          "base_uri": "https://localhost:8080/"
        },
        "id": "VSz8--la-zlI",
        "outputId": "00d9e740-a128-410a-e3e5-8a29b935394a"
      },
      "outputs": [
        {
          "output_type": "execute_result",
          "data": {
            "text/plain": [
              "36"
            ]
          },
          "metadata": {},
          "execution_count": 43
        }
      ],
      "source": [
        "# Example\n",
        "s.loc[2001]"
      ]
    },
    {
      "cell_type": "code",
      "execution_count": 44,
      "metadata": {
        "colab": {
          "base_uri": "https://localhost:8080/"
        },
        "id": "fIddPR-d-zlJ",
        "outputId": "88d9d3c9-8b6c-43e5-ca51-1c8638dfa3d1"
      },
      "outputs": [
        {
          "output_type": "execute_result",
          "data": {
            "text/plain": [
              "2002    33\n",
              "2002    34\n",
              "2003    40\n",
              "Name: data, dtype: int64"
            ]
          },
          "metadata": {},
          "execution_count": 44
        }
      ],
      "source": [
        "s.loc[[2002,2003]]"
      ]
    },
    {
      "cell_type": "markdown",
      "metadata": {
        "id": "UzAXPSNq-zlJ"
      },
      "source": [
        "#  .at and .iat\n",
        "\n",
        "The .at and .iat index accessors are analogous to .loc and .iloc. \n",
        "The difference being that they will return a numpy.ndarray when pulling out a\n",
        "duplicate value, whereas .loc and .iloc return a Series"
      ]
    },
    {
      "cell_type": "code",
      "execution_count": 45,
      "metadata": {
        "colab": {
          "base_uri": "https://localhost:8080/"
        },
        "id": "Aa-FhLT2-zlK",
        "outputId": "ceb60d5f-7d0d-4851-a21c-faf2deebb59d"
      },
      "outputs": [
        {
          "output_type": "execute_result",
          "data": {
            "text/plain": [
              "36"
            ]
          },
          "metadata": {},
          "execution_count": 45
        }
      ],
      "source": [
        "s.at[2001]"
      ]
    },
    {
      "cell_type": "code",
      "execution_count": 46,
      "metadata": {
        "colab": {
          "base_uri": "https://localhost:8080/"
        },
        "id": "ZMhRUan9-zlL",
        "outputId": "05ec2cd9-1979-43bc-ddf8-6f993b9e1759"
      },
      "outputs": [
        {
          "output_type": "execute_result",
          "data": {
            "text/plain": [
              "numpy.int64"
            ]
          },
          "metadata": {},
          "execution_count": 46
        }
      ],
      "source": [
        "type(s.at[2001])"
      ]
    },
    {
      "cell_type": "code",
      "execution_count": 47,
      "metadata": {
        "colab": {
          "base_uri": "https://localhost:8080/"
        },
        "id": "yUDpIAdC-zlL",
        "outputId": "47d6c930-97c7-4150-8b59-d78d37c0882b"
      },
      "outputs": [
        {
          "output_type": "execute_result",
          "data": {
            "text/plain": [
              "2002    33\n",
              "2002    34\n",
              "Name: data, dtype: int64"
            ]
          },
          "metadata": {},
          "execution_count": 47
        }
      ],
      "source": [
        "s.at[2002]"
      ]
    },
    {
      "cell_type": "code",
      "execution_count": 48,
      "metadata": {
        "colab": {
          "base_uri": "https://localhost:8080/"
        },
        "id": "OVaawvTq-zlM",
        "outputId": "c2e9009c-3aaf-47ec-d45b-a8d15b8392d6"
      },
      "outputs": [
        {
          "output_type": "execute_result",
          "data": {
            "text/plain": [
              "2003    40\n",
              "2010    41\n",
              "2001    36\n",
              "Name: data, dtype: int64"
            ]
          },
          "metadata": {},
          "execution_count": 48
        }
      ],
      "source": [
        "# More Example on indexing\n",
        "\n",
        "s.iloc[-3:]"
      ]
    },
    {
      "cell_type": "code",
      "execution_count": 49,
      "metadata": {
        "colab": {
          "base_uri": "https://localhost:8080/"
        },
        "id": "dWMKm9da-zlN",
        "outputId": "cf7071c5-2224-4b71-9e55-6bf75fcf1541"
      },
      "outputs": [
        {
          "output_type": "execute_result",
          "data": {
            "text/plain": [
              "2001    36\n",
              "2003    40\n",
              "2002    33\n",
              "Name: data, dtype: int64"
            ]
          },
          "metadata": {},
          "execution_count": 49
        }
      ],
      "source": [
        "s.iloc[::-2]"
      ]
    },
    {
      "cell_type": "code",
      "execution_count": 50,
      "metadata": {
        "colab": {
          "base_uri": "https://localhost:8080/"
        },
        "id": "2W6rExJP-zlN",
        "outputId": "67d46d86-e5ab-4cff-eae6-bb74e3d6c939"
      },
      "outputs": [
        {
          "output_type": "execute_result",
          "data": {
            "text/plain": [
              "2002    33\n",
              "2003    40\n",
              "2001    36\n",
              "Name: data, dtype: int64"
            ]
          },
          "metadata": {},
          "execution_count": 50
        }
      ],
      "source": [
        "s.iloc[::2]"
      ]
    },
    {
      "cell_type": "code",
      "execution_count": 51,
      "metadata": {
        "colab": {
          "base_uri": "https://localhost:8080/"
        },
        "id": "8o7vF4iM-zlO",
        "outputId": "bd3f30ce-5d37-4cc9-fa56-088aea35e830"
      },
      "outputs": [
        {
          "output_type": "execute_result",
          "data": {
            "text/plain": [
              "2001    36\n",
              "2010    41\n",
              "2003    40\n",
              "2002    34\n",
              "2002    33\n",
              "Name: data, dtype: int64"
            ]
          },
          "metadata": {},
          "execution_count": 51
        }
      ],
      "source": [
        "s.iloc[::-1]"
      ]
    },
    {
      "cell_type": "markdown",
      "metadata": {
        "id": "Go2MDfj8-zlP"
      },
      "source": [
        "# Boolean Arrays\n",
        "\n",
        "A slice using the result of a boolean operation is called a boolean array."
      ]
    },
    {
      "cell_type": "code",
      "execution_count": 53,
      "metadata": {
        "colab": {
          "base_uri": "https://localhost:8080/"
        },
        "id": "CcxoSrju-zlQ",
        "outputId": "d15bd18c-cd36-43d6-e301-b0940853bec0"
      },
      "outputs": [
        {
          "output_type": "execute_result",
          "data": {
            "text/plain": [
              "2002    False\n",
              "2002    False\n",
              "2003     True\n",
              "2010     True\n",
              "2001     True\n",
              "Name: data, dtype: bool"
            ]
          },
          "metadata": {},
          "execution_count": 53
        }
      ],
      "source": [
        "s>35"
      ]
    },
    {
      "cell_type": "code",
      "execution_count": 54,
      "metadata": {
        "colab": {
          "base_uri": "https://localhost:8080/"
        },
        "id": "JXxoHpYA-zlR",
        "outputId": "992cf74b-fb3f-4842-fc7e-b10f388ef96a"
      },
      "outputs": [
        {
          "output_type": "execute_result",
          "data": {
            "text/plain": [
              "2003    40\n",
              "2010    41\n",
              "2001    36\n",
              "Name: data, dtype: int64"
            ]
          },
          "metadata": {},
          "execution_count": 54
        }
      ],
      "source": [
        "s[s>35]"
      ]
    },
    {
      "cell_type": "markdown",
      "metadata": {
        "id": "tSMdoPbW-zlR"
      },
      "source": [
        "#### Taking a series and applying an operation to each value of the series is known as broadcasting. \n",
        "#### The > operation is broadcasted, or applied, to every entry in the series. And the result is a new series with the result of each of those operations"
      ]
    },
    {
      "cell_type": "markdown",
      "metadata": {
        "id": "mU7M4QS0-zlS"
      },
      "source": [
        "# Multiple boolean operations\n"
      ]
    },
    {
      "cell_type": "code",
      "execution_count": 55,
      "metadata": {
        "colab": {
          "base_uri": "https://localhost:8080/"
        },
        "id": "V4C3-4gw-zlS",
        "outputId": "86f7d094-0b3d-4173-99e7-73cb460cbf41"
      },
      "outputs": [
        {
          "output_type": "execute_result",
          "data": {
            "text/plain": [
              "2003    40\n",
              "2001    36\n",
              "Name: data, dtype: int64"
            ]
          },
          "metadata": {},
          "execution_count": 55
        }
      ],
      "source": [
        "# Example don't forget to write inside paranethesis when you write inline masks\n",
        "s[(s>35) & (s<41)]"
      ]
    },
    {
      "cell_type": "markdown",
      "metadata": {
        "id": "1kJt_Iwd-zlT"
      },
      "source": [
        "# Series Methods\n",
        "\n",
        "#### A series object has many attributes and methods that are useful for data analysis."
      ]
    },
    {
      "cell_type": "markdown",
      "metadata": {
        "id": "sXB7fqEG-zlT"
      },
      "source": [
        "# .iteritems method\n",
        "\n",
        "The .iteritems method returns a sequence of index, value tuples"
      ]
    },
    {
      "cell_type": "code",
      "execution_count": 56,
      "metadata": {
        "colab": {
          "base_uri": "https://localhost:8080/"
        },
        "id": "BVjFmL-V-zlT",
        "outputId": "07bb58d7-1254-4d1b-d232-e1328493ee88"
      },
      "outputs": [
        {
          "output_type": "execute_result",
          "data": {
            "text/plain": [
              "0    1\n",
              "1    3\n",
              "2    5\n",
              "3    7\n",
              "4    9\n",
              "dtype: int64"
            ]
          },
          "metadata": {},
          "execution_count": 56
        }
      ],
      "source": [
        "# Lets apply iteration over pandas Series\n",
        "import numpy as np\n",
        "s = pd.Series(np.arange(1,10,2))\n",
        "s"
      ]
    },
    {
      "cell_type": "code",
      "execution_count": 57,
      "metadata": {
        "colab": {
          "base_uri": "https://localhost:8080/"
        },
        "id": "A42wssTU-zlU",
        "outputId": "f438621d-5c00-4bfa-da20-91fdbbd91c0e"
      },
      "outputs": [
        {
          "output_type": "stream",
          "name": "stdout",
          "text": [
            "1\n",
            "3\n",
            "5\n",
            "7\n",
            "9\n"
          ]
        }
      ],
      "source": [
        "# Iteration over a series iterates over the values\n",
        "for value in s:\n",
        "    print(value)"
      ]
    },
    {
      "cell_type": "code",
      "execution_count": 58,
      "metadata": {
        "colab": {
          "base_uri": "https://localhost:8080/"
        },
        "id": "UQq6qJTS-zlV",
        "outputId": "ef8a13ed-8919-4605-c99f-3a4c609518a8"
      },
      "outputs": [
        {
          "output_type": "stream",
          "name": "stdout",
          "text": [
            "(0, 1)\n",
            "(1, 3)\n",
            "(2, 5)\n",
            "(3, 7)\n",
            "(4, 9)\n"
          ]
        }
      ],
      "source": [
        "# Iteration over the index and value pairs\n",
        "for item in s.iteritems():\n",
        "    print(item)"
      ]
    },
    {
      "cell_type": "code",
      "execution_count": 59,
      "metadata": {
        "colab": {
          "base_uri": "https://localhost:8080/"
        },
        "id": "Fr9od3oj-zlW",
        "outputId": "2ee64739-d4a7-4fdf-c69f-b960ebd8c122"
      },
      "outputs": [
        {
          "output_type": "stream",
          "name": "stdout",
          "text": [
            "0 1\n",
            "1 3\n",
            "2 5\n",
            "3 7\n",
            "4 9\n"
          ]
        }
      ],
      "source": [
        "# Iteration over the index and value pairs\n",
        "for idx,value in s.iteritems():\n",
        "    print(idx,value)"
      ]
    },
    {
      "cell_type": "markdown",
      "metadata": {
        "id": "wSRQHgf8-zlY"
      },
      "source": [
        "# .key method\n",
        "\n",
        "A .keys method is provided as a shortcut to the index as well:"
      ]
    },
    {
      "cell_type": "code",
      "execution_count": 60,
      "metadata": {
        "colab": {
          "base_uri": "https://localhost:8080/"
        },
        "id": "S9he3wSv-zlY",
        "outputId": "bec0b002-78f2-4786-e21b-8a2c61000d0d"
      },
      "outputs": [
        {
          "output_type": "stream",
          "name": "stdout",
          "text": [
            "0 => 1\n",
            "1 => 3\n",
            "2 => 5\n",
            "3 => 7\n",
            "4 => 9\n"
          ]
        }
      ],
      "source": [
        "#Example-1\n",
        "for idx in s.keys():\n",
        "    print(idx,\"=>\", s[idx])"
      ]
    },
    {
      "cell_type": "code",
      "execution_count": 61,
      "metadata": {
        "colab": {
          "base_uri": "https://localhost:8080/"
        },
        "id": "lDVhOwoX-zlZ",
        "outputId": "4d593053-ca21-4b9c-b544-82b2c0de95d8"
      },
      "outputs": [
        {
          "output_type": "stream",
          "name": "stdout",
          "text": [
            "Rahul => 22\n",
            "Bob => 34\n",
            "Joy => 45\n",
            "Tom => 56\n"
          ]
        }
      ],
      "source": [
        "#Example-1=2\n",
        "s1 = pd.Series([22,34,45,56],index=['Rahul','Bob','Joy','Tom'],name='Age')\n",
        "for idx in s1.keys():\n",
        "    print(idx,\"=>\", s1[idx])"
      ]
    },
    {
      "cell_type": "markdown",
      "metadata": {
        "id": "VjA9pbbV-zla"
      },
      "source": [
        "# Overloaded operations\n",
        "\n"
      ]
    },
    {
      "cell_type": "markdown",
      "metadata": {
        "id": "TcxHrDKp-zla"
      },
      "source": [
        "The table below lists overloaded operations for a Series object.\n"
      ]
    },
    {
      "cell_type": "code",
      "execution_count": 63,
      "metadata": {
        "id": "qgbhkZou-zlb"
      },
      "outputs": [],
      "source": [
        "s = pd.Series([10,20,30,40,50],index=['r1','r2','r3','r4','r5'])"
      ]
    },
    {
      "cell_type": "code",
      "execution_count": 64,
      "metadata": {
        "colab": {
          "base_uri": "https://localhost:8080/"
        },
        "id": "7NGe32EF-zlc",
        "outputId": "2a8631f4-8ae8-4e35-967b-16099bb8dbca"
      },
      "outputs": [
        {
          "output_type": "execute_result",
          "data": {
            "text/plain": [
              "r1    10\n",
              "r2    20\n",
              "r3    30\n",
              "r4    40\n",
              "r5    50\n",
              "dtype: int64"
            ]
          },
          "metadata": {},
          "execution_count": 64
        }
      ],
      "source": [
        "s"
      ]
    },
    {
      "cell_type": "code",
      "execution_count": 65,
      "metadata": {
        "colab": {
          "base_uri": "https://localhost:8080/"
        },
        "id": "nWMvefQ--zlc",
        "outputId": "647f3bac-35a1-4316-a83f-981b9d2fbf8c"
      },
      "outputs": [
        {
          "output_type": "execute_result",
          "data": {
            "text/plain": [
              "r1    12\n",
              "r2    22\n",
              "r3    32\n",
              "r4    42\n",
              "r5    52\n",
              "dtype: int64"
            ]
          },
          "metadata": {},
          "execution_count": 65
        }
      ],
      "source": [
        "s+2"
      ]
    },
    {
      "cell_type": "code",
      "execution_count": 66,
      "metadata": {
        "colab": {
          "base_uri": "https://localhost:8080/"
        },
        "id": "3U7fzSS3-zld",
        "outputId": "6c971c62-ed25-426b-f27d-7cc2a807a6f8"
      },
      "outputs": [
        {
          "output_type": "execute_result",
          "data": {
            "text/plain": [
              "r1    20\n",
              "r2    30\n",
              "r3    40\n",
              "r4    50\n",
              "r5    60\n",
              "dtype: int64"
            ]
          },
          "metadata": {},
          "execution_count": 66
        }
      ],
      "source": [
        "s+s['r1']"
      ]
    },
    {
      "cell_type": "markdown",
      "metadata": {
        "id": "edKmv_2o-zle"
      },
      "source": [
        "### Addition with two series objects adds only those items whose index occurs in both series, otherwise it inserts a NaN for index values found only in one of the series."
      ]
    },
    {
      "cell_type": "code",
      "execution_count": 67,
      "metadata": {
        "colab": {
          "base_uri": "https://localhost:8080/"
        },
        "id": "aKuAu8hQ-zle",
        "outputId": "5aa9ca77-8af8-46f7-b37a-692b28a2c26f"
      },
      "outputs": [
        {
          "output_type": "execute_result",
          "data": {
            "text/plain": [
              "0    13.0\n",
              "1    15.0\n",
              "2    17.0\n",
              "3    19.0\n",
              "4     NaN\n",
              "5     NaN\n",
              "dtype: float64"
            ]
          },
          "metadata": {},
          "execution_count": 67
        }
      ],
      "source": [
        "# Addition of two series\n",
        "\n",
        "s1 = pd.Series([12,13,14,15])\n",
        "s2 = pd.Series([1,2,3,4,5,6])\n",
        "s1+s2"
      ]
    },
    {
      "cell_type": "code",
      "execution_count": 68,
      "metadata": {
        "colab": {
          "base_uri": "https://localhost:8080/"
        },
        "id": "AJILb-yj-zlf",
        "outputId": "5382ef63-1eec-4262-c6db-6aa6036344b6"
      },
      "outputs": [
        {
          "output_type": "execute_result",
          "data": {
            "text/plain": [
              "0    11.0\n",
              "1    11.0\n",
              "2    11.0\n",
              "3    11.0\n",
              "4     NaN\n",
              "5     NaN\n",
              "dtype: float64"
            ]
          },
          "metadata": {},
          "execution_count": 68
        }
      ],
      "source": [
        "# subtraction\n",
        "s1-s2"
      ]
    },
    {
      "cell_type": "code",
      "execution_count": 69,
      "metadata": {
        "colab": {
          "base_uri": "https://localhost:8080/"
        },
        "id": "hhV4J0dw-zlg",
        "outputId": "0d56267c-4260-48b2-ffd0-76ac0c7618dc"
      },
      "outputs": [
        {
          "output_type": "execute_result",
          "data": {
            "text/plain": [
              "0    12.0\n",
              "1    26.0\n",
              "2    42.0\n",
              "3    60.0\n",
              "4     NaN\n",
              "5     NaN\n",
              "dtype: float64"
            ]
          },
          "metadata": {},
          "execution_count": 69
        }
      ],
      "source": [
        "# Mutiplication\n",
        "s1*s2"
      ]
    },
    {
      "cell_type": "code",
      "execution_count": 70,
      "metadata": {
        "colab": {
          "base_uri": "https://localhost:8080/"
        },
        "id": "3kX7ELuF-zlg",
        "outputId": "ce9ffa0b-66d4-4c6d-8d77-179381e7efe9"
      },
      "outputs": [
        {
          "output_type": "execute_result",
          "data": {
            "text/plain": [
              "0    12.000000\n",
              "1     6.500000\n",
              "2     4.666667\n",
              "3     3.750000\n",
              "4          NaN\n",
              "5          NaN\n",
              "dtype: float64"
            ]
          },
          "metadata": {},
          "execution_count": 70
        }
      ],
      "source": [
        "#division\n",
        "s1/s2"
      ]
    },
    {
      "cell_type": "code",
      "execution_count": 71,
      "metadata": {
        "colab": {
          "base_uri": "https://localhost:8080/"
        },
        "id": "8cEdwDlX-zlh",
        "outputId": "fd7d5632-69e3-4628-edd9-adaf357ca389"
      },
      "outputs": [
        {
          "output_type": "execute_result",
          "data": {
            "text/plain": [
              "0    12.0\n",
              "1     6.0\n",
              "2     4.0\n",
              "3     3.0\n",
              "4     NaN\n",
              "5     NaN\n",
              "dtype: float64"
            ]
          },
          "metadata": {},
          "execution_count": 71
        }
      ],
      "source": [
        "s1//s2"
      ]
    },
    {
      "cell_type": "code",
      "execution_count": 72,
      "metadata": {
        "colab": {
          "base_uri": "https://localhost:8080/"
        },
        "id": "0co7btYD-zlh",
        "outputId": "39de9c49-dc5c-49e1-df6b-478b1d6783fe"
      },
      "outputs": [
        {
          "output_type": "execute_result",
          "data": {
            "text/plain": [
              "0    6\n",
              "1    6\n",
              "2    7\n",
              "3    7\n",
              "dtype: int64"
            ]
          },
          "metadata": {},
          "execution_count": 72
        }
      ],
      "source": [
        "s1//2"
      ]
    },
    {
      "cell_type": "code",
      "execution_count": 73,
      "metadata": {
        "colab": {
          "base_uri": "https://localhost:8080/"
        },
        "id": "Pn4aGmT6-zli",
        "outputId": "3338f285-cb6c-456e-8ae0-5fb9e671fed4"
      },
      "outputs": [
        {
          "output_type": "execute_result",
          "data": {
            "text/plain": [
              "0    True\n",
              "1    True\n",
              "2    True\n",
              "3    True\n",
              "dtype: bool"
            ]
          },
          "metadata": {},
          "execution_count": 73
        }
      ],
      "source": [
        "s1==s1"
      ]
    },
    {
      "cell_type": "markdown",
      "metadata": {
        "id": "pP2cyIO_-zli"
      },
      "source": [
        "# Reset Index\n",
        "\n",
        "* The reset_index() function is used to generate a new DataFrame or Series with the index reset.\n",
        "\n",
        "* This is useful when the index needs to be treated as a column, or when the index is meaningless and needs to be reset to the default before another operation."
      ]
    },
    {
      "cell_type": "markdown",
      "metadata": {
        "id": "-4HDx0hR-zli"
      },
      "source": [
        "> Series.reset_index(self, level=None, drop=False, name=None, inplace=False)"
      ]
    },
    {
      "cell_type": "code",
      "execution_count": 74,
      "metadata": {
        "colab": {
          "base_uri": "https://localhost:8080/"
        },
        "id": "LDdo7jKM-zlj",
        "outputId": "3d76ea2c-6bfb-4789-e1dd-a57c75cc7061"
      },
      "outputs": [
        {
          "output_type": "execute_result",
          "data": {
            "text/plain": [
              "idx\n",
              "p    2\n",
              "q    3\n",
              "r    4\n",
              "s    5\n",
              "Name: f1, dtype: int64"
            ]
          },
          "metadata": {},
          "execution_count": 74
        }
      ],
      "source": [
        "# Create a series \n",
        "\n",
        "s = pd.Series([2, 3, 4, 5], name='f1', index=pd.Index(['p', 'q', 'r', 's'], name='idx'))\n",
        "s"
      ]
    },
    {
      "cell_type": "code",
      "execution_count": 75,
      "metadata": {
        "colab": {
          "base_uri": "https://localhost:8080/",
          "height": 175
        },
        "id": "DwN-ISng-zlk",
        "outputId": "0fb5b4d0-02f6-4c48-e0f5-3f15cb73b6ba"
      },
      "outputs": [
        {
          "output_type": "execute_result",
          "data": {
            "text/plain": [
              "  idx  f1\n",
              "0   p   2\n",
              "1   q   3\n",
              "2   r   4\n",
              "3   s   5"
            ],
            "text/html": [
              "\n",
              "  <div id=\"df-d78c2f3b-1869-4a21-b767-7687af48fb7f\">\n",
              "    <div class=\"colab-df-container\">\n",
              "      <div>\n",
              "<style scoped>\n",
              "    .dataframe tbody tr th:only-of-type {\n",
              "        vertical-align: middle;\n",
              "    }\n",
              "\n",
              "    .dataframe tbody tr th {\n",
              "        vertical-align: top;\n",
              "    }\n",
              "\n",
              "    .dataframe thead th {\n",
              "        text-align: right;\n",
              "    }\n",
              "</style>\n",
              "<table border=\"1\" class=\"dataframe\">\n",
              "  <thead>\n",
              "    <tr style=\"text-align: right;\">\n",
              "      <th></th>\n",
              "      <th>idx</th>\n",
              "      <th>f1</th>\n",
              "    </tr>\n",
              "  </thead>\n",
              "  <tbody>\n",
              "    <tr>\n",
              "      <th>0</th>\n",
              "      <td>p</td>\n",
              "      <td>2</td>\n",
              "    </tr>\n",
              "    <tr>\n",
              "      <th>1</th>\n",
              "      <td>q</td>\n",
              "      <td>3</td>\n",
              "    </tr>\n",
              "    <tr>\n",
              "      <th>2</th>\n",
              "      <td>r</td>\n",
              "      <td>4</td>\n",
              "    </tr>\n",
              "    <tr>\n",
              "      <th>3</th>\n",
              "      <td>s</td>\n",
              "      <td>5</td>\n",
              "    </tr>\n",
              "  </tbody>\n",
              "</table>\n",
              "</div>\n",
              "      <button class=\"colab-df-convert\" onclick=\"convertToInteractive('df-d78c2f3b-1869-4a21-b767-7687af48fb7f')\"\n",
              "              title=\"Convert this dataframe to an interactive table.\"\n",
              "              style=\"display:none;\">\n",
              "        \n",
              "  <svg xmlns=\"http://www.w3.org/2000/svg\" height=\"24px\"viewBox=\"0 0 24 24\"\n",
              "       width=\"24px\">\n",
              "    <path d=\"M0 0h24v24H0V0z\" fill=\"none\"/>\n",
              "    <path d=\"M18.56 5.44l.94 2.06.94-2.06 2.06-.94-2.06-.94-.94-2.06-.94 2.06-2.06.94zm-11 1L8.5 8.5l.94-2.06 2.06-.94-2.06-.94L8.5 2.5l-.94 2.06-2.06.94zm10 10l.94 2.06.94-2.06 2.06-.94-2.06-.94-.94-2.06-.94 2.06-2.06.94z\"/><path d=\"M17.41 7.96l-1.37-1.37c-.4-.4-.92-.59-1.43-.59-.52 0-1.04.2-1.43.59L10.3 9.45l-7.72 7.72c-.78.78-.78 2.05 0 2.83L4 21.41c.39.39.9.59 1.41.59.51 0 1.02-.2 1.41-.59l7.78-7.78 2.81-2.81c.8-.78.8-2.07 0-2.86zM5.41 20L4 18.59l7.72-7.72 1.47 1.35L5.41 20z\"/>\n",
              "  </svg>\n",
              "      </button>\n",
              "      \n",
              "  <style>\n",
              "    .colab-df-container {\n",
              "      display:flex;\n",
              "      flex-wrap:wrap;\n",
              "      gap: 12px;\n",
              "    }\n",
              "\n",
              "    .colab-df-convert {\n",
              "      background-color: #E8F0FE;\n",
              "      border: none;\n",
              "      border-radius: 50%;\n",
              "      cursor: pointer;\n",
              "      display: none;\n",
              "      fill: #1967D2;\n",
              "      height: 32px;\n",
              "      padding: 0 0 0 0;\n",
              "      width: 32px;\n",
              "    }\n",
              "\n",
              "    .colab-df-convert:hover {\n",
              "      background-color: #E2EBFA;\n",
              "      box-shadow: 0px 1px 2px rgba(60, 64, 67, 0.3), 0px 1px 3px 1px rgba(60, 64, 67, 0.15);\n",
              "      fill: #174EA6;\n",
              "    }\n",
              "\n",
              "    [theme=dark] .colab-df-convert {\n",
              "      background-color: #3B4455;\n",
              "      fill: #D2E3FC;\n",
              "    }\n",
              "\n",
              "    [theme=dark] .colab-df-convert:hover {\n",
              "      background-color: #434B5C;\n",
              "      box-shadow: 0px 1px 3px 1px rgba(0, 0, 0, 0.15);\n",
              "      filter: drop-shadow(0px 1px 2px rgba(0, 0, 0, 0.3));\n",
              "      fill: #FFFFFF;\n",
              "    }\n",
              "  </style>\n",
              "\n",
              "      <script>\n",
              "        const buttonEl =\n",
              "          document.querySelector('#df-d78c2f3b-1869-4a21-b767-7687af48fb7f button.colab-df-convert');\n",
              "        buttonEl.style.display =\n",
              "          google.colab.kernel.accessAllowed ? 'block' : 'none';\n",
              "\n",
              "        async function convertToInteractive(key) {\n",
              "          const element = document.querySelector('#df-d78c2f3b-1869-4a21-b767-7687af48fb7f');\n",
              "          const dataTable =\n",
              "            await google.colab.kernel.invokeFunction('convertToInteractive',\n",
              "                                                     [key], {});\n",
              "          if (!dataTable) return;\n",
              "\n",
              "          const docLinkHtml = 'Like what you see? Visit the ' +\n",
              "            '<a target=\"_blank\" href=https://colab.research.google.com/notebooks/data_table.ipynb>data table notebook</a>'\n",
              "            + ' to learn more about interactive tables.';\n",
              "          element.innerHTML = '';\n",
              "          dataTable['output_type'] = 'display_data';\n",
              "          await google.colab.output.renderOutput(dataTable, element);\n",
              "          const docLink = document.createElement('div');\n",
              "          docLink.innerHTML = docLinkHtml;\n",
              "          element.appendChild(docLink);\n",
              "        }\n",
              "      </script>\n",
              "    </div>\n",
              "  </div>\n",
              "  "
            ]
          },
          "metadata": {},
          "execution_count": 75
        }
      ],
      "source": [
        "# Generate a DataFrame with default index.\n",
        "s.reset_index()"
      ]
    },
    {
      "cell_type": "code",
      "execution_count": 76,
      "metadata": {
        "colab": {
          "base_uri": "https://localhost:8080/",
          "height": 175
        },
        "id": "9G8l6kCj-zlk",
        "outputId": "d1b79b5d-12cf-4b4e-a7b9-eee1c0ccac68"
      },
      "outputs": [
        {
          "output_type": "execute_result",
          "data": {
            "text/plain": [
              "  idx  values\n",
              "0   p       2\n",
              "1   q       3\n",
              "2   r       4\n",
              "3   s       5"
            ],
            "text/html": [
              "\n",
              "  <div id=\"df-045629f0-953e-47a9-904e-35b1fb9c4a07\">\n",
              "    <div class=\"colab-df-container\">\n",
              "      <div>\n",
              "<style scoped>\n",
              "    .dataframe tbody tr th:only-of-type {\n",
              "        vertical-align: middle;\n",
              "    }\n",
              "\n",
              "    .dataframe tbody tr th {\n",
              "        vertical-align: top;\n",
              "    }\n",
              "\n",
              "    .dataframe thead th {\n",
              "        text-align: right;\n",
              "    }\n",
              "</style>\n",
              "<table border=\"1\" class=\"dataframe\">\n",
              "  <thead>\n",
              "    <tr style=\"text-align: right;\">\n",
              "      <th></th>\n",
              "      <th>idx</th>\n",
              "      <th>values</th>\n",
              "    </tr>\n",
              "  </thead>\n",
              "  <tbody>\n",
              "    <tr>\n",
              "      <th>0</th>\n",
              "      <td>p</td>\n",
              "      <td>2</td>\n",
              "    </tr>\n",
              "    <tr>\n",
              "      <th>1</th>\n",
              "      <td>q</td>\n",
              "      <td>3</td>\n",
              "    </tr>\n",
              "    <tr>\n",
              "      <th>2</th>\n",
              "      <td>r</td>\n",
              "      <td>4</td>\n",
              "    </tr>\n",
              "    <tr>\n",
              "      <th>3</th>\n",
              "      <td>s</td>\n",
              "      <td>5</td>\n",
              "    </tr>\n",
              "  </tbody>\n",
              "</table>\n",
              "</div>\n",
              "      <button class=\"colab-df-convert\" onclick=\"convertToInteractive('df-045629f0-953e-47a9-904e-35b1fb9c4a07')\"\n",
              "              title=\"Convert this dataframe to an interactive table.\"\n",
              "              style=\"display:none;\">\n",
              "        \n",
              "  <svg xmlns=\"http://www.w3.org/2000/svg\" height=\"24px\"viewBox=\"0 0 24 24\"\n",
              "       width=\"24px\">\n",
              "    <path d=\"M0 0h24v24H0V0z\" fill=\"none\"/>\n",
              "    <path d=\"M18.56 5.44l.94 2.06.94-2.06 2.06-.94-2.06-.94-.94-2.06-.94 2.06-2.06.94zm-11 1L8.5 8.5l.94-2.06 2.06-.94-2.06-.94L8.5 2.5l-.94 2.06-2.06.94zm10 10l.94 2.06.94-2.06 2.06-.94-2.06-.94-.94-2.06-.94 2.06-2.06.94z\"/><path d=\"M17.41 7.96l-1.37-1.37c-.4-.4-.92-.59-1.43-.59-.52 0-1.04.2-1.43.59L10.3 9.45l-7.72 7.72c-.78.78-.78 2.05 0 2.83L4 21.41c.39.39.9.59 1.41.59.51 0 1.02-.2 1.41-.59l7.78-7.78 2.81-2.81c.8-.78.8-2.07 0-2.86zM5.41 20L4 18.59l7.72-7.72 1.47 1.35L5.41 20z\"/>\n",
              "  </svg>\n",
              "      </button>\n",
              "      \n",
              "  <style>\n",
              "    .colab-df-container {\n",
              "      display:flex;\n",
              "      flex-wrap:wrap;\n",
              "      gap: 12px;\n",
              "    }\n",
              "\n",
              "    .colab-df-convert {\n",
              "      background-color: #E8F0FE;\n",
              "      border: none;\n",
              "      border-radius: 50%;\n",
              "      cursor: pointer;\n",
              "      display: none;\n",
              "      fill: #1967D2;\n",
              "      height: 32px;\n",
              "      padding: 0 0 0 0;\n",
              "      width: 32px;\n",
              "    }\n",
              "\n",
              "    .colab-df-convert:hover {\n",
              "      background-color: #E2EBFA;\n",
              "      box-shadow: 0px 1px 2px rgba(60, 64, 67, 0.3), 0px 1px 3px 1px rgba(60, 64, 67, 0.15);\n",
              "      fill: #174EA6;\n",
              "    }\n",
              "\n",
              "    [theme=dark] .colab-df-convert {\n",
              "      background-color: #3B4455;\n",
              "      fill: #D2E3FC;\n",
              "    }\n",
              "\n",
              "    [theme=dark] .colab-df-convert:hover {\n",
              "      background-color: #434B5C;\n",
              "      box-shadow: 0px 1px 3px 1px rgba(0, 0, 0, 0.15);\n",
              "      filter: drop-shadow(0px 1px 2px rgba(0, 0, 0, 0.3));\n",
              "      fill: #FFFFFF;\n",
              "    }\n",
              "  </style>\n",
              "\n",
              "      <script>\n",
              "        const buttonEl =\n",
              "          document.querySelector('#df-045629f0-953e-47a9-904e-35b1fb9c4a07 button.colab-df-convert');\n",
              "        buttonEl.style.display =\n",
              "          google.colab.kernel.accessAllowed ? 'block' : 'none';\n",
              "\n",
              "        async function convertToInteractive(key) {\n",
              "          const element = document.querySelector('#df-045629f0-953e-47a9-904e-35b1fb9c4a07');\n",
              "          const dataTable =\n",
              "            await google.colab.kernel.invokeFunction('convertToInteractive',\n",
              "                                                     [key], {});\n",
              "          if (!dataTable) return;\n",
              "\n",
              "          const docLinkHtml = 'Like what you see? Visit the ' +\n",
              "            '<a target=\"_blank\" href=https://colab.research.google.com/notebooks/data_table.ipynb>data table notebook</a>'\n",
              "            + ' to learn more about interactive tables.';\n",
              "          element.innerHTML = '';\n",
              "          dataTable['output_type'] = 'display_data';\n",
              "          await google.colab.output.renderOutput(dataTable, element);\n",
              "          const docLink = document.createElement('div');\n",
              "          docLink.innerHTML = docLinkHtml;\n",
              "          element.appendChild(docLink);\n",
              "        }\n",
              "      </script>\n",
              "    </div>\n",
              "  </div>\n",
              "  "
            ]
          },
          "metadata": {},
          "execution_count": 76
        }
      ],
      "source": [
        "# To specify the name of the new column use name.\n",
        "s.reset_index(name=\"values\")"
      ]
    },
    {
      "cell_type": "code",
      "execution_count": 77,
      "metadata": {
        "colab": {
          "base_uri": "https://localhost:8080/"
        },
        "id": "UrsECQjY-zll",
        "outputId": "f5e44e2e-3b0a-4bd7-d018-c7081a35ccc8"
      },
      "outputs": [
        {
          "output_type": "execute_result",
          "data": {
            "text/plain": [
              "0    2\n",
              "1    3\n",
              "2    4\n",
              "3    5\n",
              "Name: f1, dtype: int64"
            ]
          },
          "metadata": {},
          "execution_count": 77
        }
      ],
      "source": [
        "# To generate a new Series with the default set drop to True.\n",
        "s.reset_index(drop=True)"
      ]
    },
    {
      "cell_type": "code",
      "execution_count": 78,
      "metadata": {
        "colab": {
          "base_uri": "https://localhost:8080/"
        },
        "id": "bGYIkjsL-zlm",
        "outputId": "1488eebc-5633-4c05-ddb4-08a5341c294f"
      },
      "outputs": [
        {
          "output_type": "execute_result",
          "data": {
            "text/plain": [
              "0    2\n",
              "1    3\n",
              "2    4\n",
              "3    5\n",
              "Name: f1, dtype: int64"
            ]
          },
          "metadata": {},
          "execution_count": 78
        }
      ],
      "source": [
        "# To update the Series in place, \n",
        "#without generating a new one set inplace to True.\n",
        "s.reset_index(inplace=True, drop=True)\n",
        "s"
      ]
    },
    {
      "cell_type": "markdown",
      "metadata": {
        "id": "kXHOI_l1-zlo"
      },
      "source": [
        "# Counts\n",
        "\n",
        "the .count method returns the number of non-null items."
      ]
    },
    {
      "cell_type": "code",
      "execution_count": 79,
      "metadata": {
        "colab": {
          "base_uri": "https://localhost:8080/"
        },
        "id": "nYk-VjdG-zlp",
        "outputId": "80feb364-66e4-4e14-9c03-d4b49cda86fe"
      },
      "outputs": [
        {
          "output_type": "execute_result",
          "data": {
            "text/plain": [
              "0    100.0\n",
              "1     23.4\n",
              "2    100.0\n",
              "3      NaN\n",
              "4     44.0\n",
              "Name: value, dtype: float64"
            ]
          },
          "metadata": {},
          "execution_count": 79
        }
      ],
      "source": [
        "s = pd.Series([100,23.4,100,None,44],name='value')\n",
        "s"
      ]
    },
    {
      "cell_type": "code",
      "execution_count": 80,
      "metadata": {
        "colab": {
          "base_uri": "https://localhost:8080/"
        },
        "id": "03H_mRGN-zlq",
        "outputId": "b2b022b6-3387-47f0-c5dd-89c720db2b11"
      },
      "outputs": [
        {
          "output_type": "execute_result",
          "data": {
            "text/plain": [
              "4"
            ]
          },
          "metadata": {},
          "execution_count": 80
        }
      ],
      "source": [
        "s.count()"
      ]
    },
    {
      "cell_type": "markdown",
      "metadata": {
        "id": "TVpuoF59-zlq"
      },
      "source": [
        "# .value_counts\n",
        "\n",
        "The .value_counts method returns a series indexed by the values found in the series."
      ]
    },
    {
      "cell_type": "code",
      "execution_count": 81,
      "metadata": {
        "colab": {
          "base_uri": "https://localhost:8080/"
        },
        "id": "HX3yQyUj-zls",
        "outputId": "cf49f9b8-ccf3-4549-fb79-ddae3cc67e3e"
      },
      "outputs": [
        {
          "output_type": "execute_result",
          "data": {
            "text/plain": [
              "100.0    2\n",
              "23.4     1\n",
              "44.0     1\n",
              "Name: value, dtype: int64"
            ]
          },
          "metadata": {},
          "execution_count": 81
        }
      ],
      "source": [
        "s.value_counts()"
      ]
    },
    {
      "cell_type": "markdown",
      "metadata": {
        "id": "fOm3bjIr-zlt"
      },
      "source": [
        "### To get the unique values or the count of non-NaN items use the .unique and .nunique methods respectively."
      ]
    },
    {
      "cell_type": "code",
      "execution_count": 82,
      "metadata": {
        "colab": {
          "base_uri": "https://localhost:8080/"
        },
        "id": "NvNGeoEU-zlu",
        "outputId": "002e5a7f-f7ce-45e4-bca9-578c597c8e7a"
      },
      "outputs": [
        {
          "output_type": "execute_result",
          "data": {
            "text/plain": [
              "array([100. ,  23.4,   nan,  44. ])"
            ]
          },
          "metadata": {},
          "execution_count": 82
        }
      ],
      "source": [
        "s.unique()"
      ]
    },
    {
      "cell_type": "code",
      "execution_count": 83,
      "metadata": {
        "colab": {
          "base_uri": "https://localhost:8080/"
        },
        "id": "ESfnUgYK-zlu",
        "outputId": "6a09b390-cc73-4ed9-f942-adb2a0ed20b9"
      },
      "outputs": [
        {
          "output_type": "execute_result",
          "data": {
            "text/plain": [
              "3"
            ]
          },
          "metadata": {},
          "execution_count": 83
        }
      ],
      "source": [
        "s.nunique()"
      ]
    },
    {
      "cell_type": "markdown",
      "metadata": {
        "id": "_8_ocBQ--zlv"
      },
      "source": [
        "### To drop duplicate values use the .drop_duplicates method."
      ]
    },
    {
      "cell_type": "code",
      "execution_count": 84,
      "metadata": {
        "colab": {
          "base_uri": "https://localhost:8080/"
        },
        "id": "-LLmu9T1-zlw",
        "outputId": "c04bdfe1-a173-4fc4-9460-38d4a708ecb9"
      },
      "outputs": [
        {
          "output_type": "execute_result",
          "data": {
            "text/plain": [
              "0    100.0\n",
              "1     23.4\n",
              "3      NaN\n",
              "4     44.0\n",
              "Name: value, dtype: float64"
            ]
          },
          "metadata": {},
          "execution_count": 84
        }
      ],
      "source": [
        "s.drop_duplicates()"
      ]
    },
    {
      "cell_type": "markdown",
      "metadata": {
        "id": "liN1bM0d-zlw"
      },
      "source": [
        "# To drop duplicate index entries"
      ]
    },
    {
      "cell_type": "code",
      "execution_count": 85,
      "metadata": {
        "id": "zIw6RIWs-zlx"
      },
      "outputs": [],
      "source": [
        "s = pd.Series([390., 350., 30., 20.],index=['Falcon', 'Falcon', 'Parrot', 'Parrot'], name=\"Max Speed\")"
      ]
    },
    {
      "cell_type": "code",
      "execution_count": 86,
      "metadata": {
        "colab": {
          "base_uri": "https://localhost:8080/"
        },
        "id": "vOepy5vw-zlx",
        "outputId": "e0381f93-3850-43ed-cf35-2bfacc324471"
      },
      "outputs": [
        {
          "output_type": "execute_result",
          "data": {
            "text/plain": [
              "Falcon    390.0\n",
              "Falcon    350.0\n",
              "Parrot     30.0\n",
              "Parrot     20.0\n",
              "Name: Max Speed, dtype: float64"
            ]
          },
          "metadata": {},
          "execution_count": 86
        }
      ],
      "source": [
        "s"
      ]
    },
    {
      "cell_type": "code",
      "execution_count": 87,
      "metadata": {
        "colab": {
          "base_uri": "https://localhost:8080/"
        },
        "id": "om5IP3Ru-zly",
        "outputId": "257ff1fa-4444-47ed-e222-3c21511aa4f4"
      },
      "outputs": [
        {
          "output_type": "execute_result",
          "data": {
            "text/plain": [
              "Falcon    370.0\n",
              "Parrot     25.0\n",
              "Name: Max Speed, dtype: float64"
            ]
          },
          "metadata": {},
          "execution_count": 87
        }
      ],
      "source": [
        "s.groupby(s.index).mean()"
      ]
    },
    {
      "cell_type": "code",
      "execution_count": 88,
      "metadata": {
        "colab": {
          "base_uri": "https://localhost:8080/"
        },
        "id": "9UinwsHw-zlz",
        "outputId": "08ac4b56-e464-4eb2-fe3d-fd8fc7dca5fb"
      },
      "outputs": [
        {
          "output_type": "execute_result",
          "data": {
            "text/plain": [
              "Falcon    390.0\n",
              "Parrot     30.0\n",
              "Name: Max Speed, dtype: float64"
            ]
          },
          "metadata": {},
          "execution_count": 88
        }
      ],
      "source": [
        "s.groupby(s.index).first()"
      ]
    },
    {
      "cell_type": "code",
      "execution_count": 89,
      "metadata": {
        "colab": {
          "base_uri": "https://localhost:8080/"
        },
        "id": "L643NxxI-zl0",
        "outputId": "3f58c442-d641-4d86-82d9-a150793e4ec2"
      },
      "outputs": [
        {
          "output_type": "execute_result",
          "data": {
            "text/plain": [
              "Falcon    350.0\n",
              "Parrot     20.0\n",
              "Name: Max Speed, dtype: float64"
            ]
          },
          "metadata": {},
          "execution_count": 89
        }
      ],
      "source": [
        "s.groupby(s.index).last()"
      ]
    },
    {
      "cell_type": "markdown",
      "metadata": {
        "id": "bZFAIAGh-zl0"
      },
      "source": [
        "## Statistics\n",
        "\n",
        "There are many basic statistical measures in a series object’s methods\n"
      ]
    },
    {
      "cell_type": "markdown",
      "metadata": {
        "id": "AV5vYmIH-zl1"
      },
      "source": [
        "# sum() , mean(), describe()"
      ]
    },
    {
      "cell_type": "code",
      "execution_count": 90,
      "metadata": {
        "colab": {
          "base_uri": "https://localhost:8080/"
        },
        "id": "K7sHgTTL-zl1",
        "outputId": "3df7b345-9a2d-4495-a21c-34694541733e"
      },
      "outputs": [
        {
          "output_type": "stream",
          "name": "stdout",
          "text": [
            "0       100.0\n",
            "1       110.0\n",
            "2       120.0\n",
            "3       130.0\n",
            "4       140.0\n",
            "5       150.0\n",
            "6       160.0\n",
            "7       170.0\n",
            "8       180.0\n",
            "9       190.0\n",
            "10      200.0\n",
            "11      210.0\n",
            "12      220.0\n",
            "13      230.0\n",
            "14      240.0\n",
            "15      250.0\n",
            "16      260.0\n",
            "17      270.0\n",
            "18      280.0\n",
            "19      290.0\n",
            "21    10000.0\n",
            "22        NaN\n",
            "Name: values, dtype: float64\n",
            "Total values  21\n"
          ]
        }
      ],
      "source": [
        "import numpy as np\n",
        "s = pd.Series(np.arange(100,300,10),name='values')\n",
        "s[21]=10000\n",
        "s[22]=np.nan\n",
        "print(s)\n",
        "print(\"Total values \",s.count())"
      ]
    },
    {
      "cell_type": "code",
      "execution_count": 91,
      "metadata": {
        "colab": {
          "base_uri": "https://localhost:8080/"
        },
        "id": "aRg_lYQQ-zl2",
        "outputId": "44644253-c37f-4c3d-b5ce-5edea5294f5b"
      },
      "outputs": [
        {
          "output_type": "execute_result",
          "data": {
            "text/plain": [
              "13900.0"
            ]
          },
          "metadata": {},
          "execution_count": 91
        }
      ],
      "source": [
        "# sum\n",
        "s.sum()"
      ]
    },
    {
      "cell_type": "code",
      "execution_count": 92,
      "metadata": {
        "colab": {
          "base_uri": "https://localhost:8080/"
        },
        "id": "4VJ67Fn9-zl2",
        "outputId": "fa10c7c0-8f19-40e4-9338-5a905d2250e3"
      },
      "outputs": [
        {
          "output_type": "execute_result",
          "data": {
            "text/plain": [
              "661.9047619047619"
            ]
          },
          "metadata": {},
          "execution_count": 92
        }
      ],
      "source": [
        "# Calculating the mean (the “expected value” or average)\n",
        "s.mean()"
      ]
    },
    {
      "cell_type": "code",
      "execution_count": 93,
      "metadata": {
        "colab": {
          "base_uri": "https://localhost:8080/"
        },
        "id": "8Ce8Bpsg-zl3",
        "outputId": "a2619046-7424-4d71-f2f1-b0d3eb956352"
      },
      "outputs": [
        {
          "output_type": "execute_result",
          "data": {
            "text/plain": [
              "200.0"
            ]
          },
          "metadata": {},
          "execution_count": 93
        }
      ],
      "source": [
        "# Calculating the median \n",
        "# the “middle” value at 50% that separates the lower values from the upper\n",
        "#values\n",
        "s.median()"
      ]
    },
    {
      "cell_type": "markdown",
      "metadata": {
        "id": "l-CeQL2e-zl5"
      },
      "source": [
        "# Note -\n",
        "both of these methods ( mean and median) ignore NaN (unless skipna is set to False) \n",
        "\n",
        "But in practice if you do not ignore NaN, the result is nan."
      ]
    },
    {
      "cell_type": "code",
      "execution_count": 94,
      "metadata": {
        "colab": {
          "base_uri": "https://localhost:8080/"
        },
        "id": "SxR6PM23-zl5",
        "outputId": "f1143067-dbb5-40cd-88b2-d17ab2462dd5"
      },
      "outputs": [
        {
          "output_type": "execute_result",
          "data": {
            "text/plain": [
              "nan"
            ]
          },
          "metadata": {},
          "execution_count": 94
        }
      ],
      "source": [
        "s.mean(skipna=False)"
      ]
    },
    {
      "cell_type": "code",
      "execution_count": 95,
      "metadata": {
        "colab": {
          "base_uri": "https://localhost:8080/"
        },
        "id": "Jck2dMh7-zl6",
        "outputId": "d8516a76-c77e-43c4-a165-3a2292555462"
      },
      "outputs": [
        {
          "output_type": "execute_result",
          "data": {
            "text/plain": [
              "nan"
            ]
          },
          "metadata": {},
          "execution_count": 95
        }
      ],
      "source": [
        "s.median(skipna=False)"
      ]
    },
    {
      "cell_type": "markdown",
      "metadata": {
        "id": "7t2Q1YsB-zl7"
      },
      "source": [
        "#  .describe method presents a good number of summary statistics and returns the result as a series.\n",
        "\n",
        "It includes the count of values, their mean, standard deviation, minimum and\n",
        "maximum values, and the 25%, 50%, and 75% quantiles.\n",
        "\n"
      ]
    },
    {
      "cell_type": "code",
      "execution_count": 96,
      "metadata": {
        "colab": {
          "base_uri": "https://localhost:8080/"
        },
        "id": "F9bZtRPl-zl8",
        "outputId": "f60db5f3-4f7a-4739-ee61-1cbf217cc5d6"
      },
      "outputs": [
        {
          "output_type": "execute_result",
          "data": {
            "text/plain": [
              "count       21.000000\n",
              "mean       661.904762\n",
              "std       2140.403278\n",
              "min        100.000000\n",
              "25%        150.000000\n",
              "50%        200.000000\n",
              "75%        250.000000\n",
              "max      10000.000000\n",
              "Name: values, dtype: float64"
            ]
          },
          "metadata": {},
          "execution_count": 96
        }
      ],
      "source": [
        "s.describe()"
      ]
    },
    {
      "cell_type": "markdown",
      "metadata": {
        "id": "BqUKNSZ--zl9"
      },
      "source": [
        "# Video about Quantiles\n",
        "https://www.youtube.com/watch?v=IFKQLDmRK0Y"
      ]
    },
    {
      "cell_type": "markdown",
      "metadata": {
        "id": "Ka1Dy5FB-zl-"
      },
      "source": [
        "#### series also has methods to find the minimum and maximum for the values, .min and .max."
      ]
    },
    {
      "cell_type": "code",
      "execution_count": 97,
      "metadata": {
        "colab": {
          "base_uri": "https://localhost:8080/"
        },
        "id": "XQOx2Rym-zl-",
        "outputId": "1ea57003-1010-4d53-afc9-4700b421c577"
      },
      "outputs": [
        {
          "output_type": "execute_result",
          "data": {
            "text/plain": [
              "100.0"
            ]
          },
          "metadata": {},
          "execution_count": 97
        }
      ],
      "source": [
        "s.min()"
      ]
    },
    {
      "cell_type": "code",
      "execution_count": 98,
      "metadata": {
        "colab": {
          "base_uri": "https://localhost:8080/"
        },
        "id": "k3rcTFwC-zl_",
        "outputId": "6dac6cde-3e00-47f1-fdce-2d170809b488"
      },
      "outputs": [
        {
          "output_type": "execute_result",
          "data": {
            "text/plain": [
              "10000.0"
            ]
          },
          "metadata": {},
          "execution_count": 98
        }
      ],
      "source": [
        "s.max()"
      ]
    },
    {
      "cell_type": "markdown",
      "metadata": {
        "id": "M7rB2eEZ-zl_"
      },
      "source": [
        "# Dealing with None"
      ]
    },
    {
      "cell_type": "code",
      "execution_count": 99,
      "metadata": {
        "colab": {
          "base_uri": "https://localhost:8080/"
        },
        "id": "HVoNdg4u-zmA",
        "outputId": "93f54da4-1dc6-4bbb-c2c7-0725e4b94280"
      },
      "outputs": [
        {
          "output_type": "execute_result",
          "data": {
            "text/plain": [
              "0       100.000000\n",
              "1       110.000000\n",
              "2       120.000000\n",
              "3       130.000000\n",
              "4       140.000000\n",
              "5       150.000000\n",
              "6       160.000000\n",
              "7       170.000000\n",
              "8       180.000000\n",
              "9       190.000000\n",
              "10      200.000000\n",
              "11      210.000000\n",
              "12      220.000000\n",
              "13      230.000000\n",
              "14      240.000000\n",
              "15      250.000000\n",
              "16      260.000000\n",
              "17      270.000000\n",
              "18      280.000000\n",
              "19      290.000000\n",
              "21    10000.000000\n",
              "22      661.904762\n",
              "Name: values, dtype: float64"
            ]
          },
          "metadata": {},
          "execution_count": 99
        }
      ],
      "source": [
        "# Fillna() \n",
        "s.fillna(s.mean())"
      ]
    },
    {
      "cell_type": "code",
      "execution_count": 100,
      "metadata": {
        "colab": {
          "base_uri": "https://localhost:8080/"
        },
        "id": "75eH2YlB-zmA",
        "outputId": "424cf056-9651-4586-87fd-d4f4e54fca11"
      },
      "outputs": [
        {
          "output_type": "execute_result",
          "data": {
            "text/plain": [
              "0       100.0\n",
              "1       110.0\n",
              "2       120.0\n",
              "3       130.0\n",
              "4       140.0\n",
              "5       150.0\n",
              "6       160.0\n",
              "7       170.0\n",
              "8       180.0\n",
              "9       190.0\n",
              "10      200.0\n",
              "11      210.0\n",
              "12      220.0\n",
              "13      230.0\n",
              "14      240.0\n",
              "15      250.0\n",
              "16      260.0\n",
              "17      270.0\n",
              "18      280.0\n",
              "19      290.0\n",
              "21    10000.0\n",
              "Name: values, dtype: float64"
            ]
          },
          "metadata": {},
          "execution_count": 100
        }
      ],
      "source": [
        "#dropna()\n",
        "s.dropna()"
      ]
    },
    {
      "cell_type": "code",
      "execution_count": 101,
      "metadata": {
        "colab": {
          "base_uri": "https://localhost:8080/"
        },
        "id": "rEeHLewy-zmB",
        "outputId": "350ac9b3-8274-4555-ef04-f0e02b7dcc6d"
      },
      "outputs": [
        {
          "output_type": "execute_result",
          "data": {
            "text/plain": [
              "0     False\n",
              "1     False\n",
              "2     False\n",
              "3     False\n",
              "4     False\n",
              "5     False\n",
              "6     False\n",
              "7     False\n",
              "8     False\n",
              "9     False\n",
              "10    False\n",
              "11    False\n",
              "12    False\n",
              "13    False\n",
              "14    False\n",
              "15    False\n",
              "16    False\n",
              "17    False\n",
              "18    False\n",
              "19    False\n",
              "21    False\n",
              "22     True\n",
              "Name: values, dtype: bool"
            ]
          },
          "metadata": {},
          "execution_count": 101
        }
      ],
      "source": [
        "# isnull()\n",
        "s.isnull()"
      ]
    },
    {
      "cell_type": "markdown",
      "metadata": {
        "id": "nwptx9NM-zmB"
      },
      "source": [
        "# Sorting\n",
        "    .sort_values()"
      ]
    },
    {
      "cell_type": "code",
      "execution_count": 102,
      "metadata": {
        "colab": {
          "base_uri": "https://localhost:8080/"
        },
        "id": "xLLbQoRl-zmC",
        "outputId": "bf358b83-6614-49fa-cdfe-cf746087cb36"
      },
      "outputs": [
        {
          "output_type": "execute_result",
          "data": {
            "text/plain": [
              "a1    23\n",
              "a2     3\n",
              "a3    21\n",
              "a4     4\n",
              "a5    34\n",
              "a6     5\n",
              "dtype: int64"
            ]
          },
          "metadata": {},
          "execution_count": 102
        }
      ],
      "source": [
        "s = pd.Series([23,3,21,4,34,5],index=['a1','a2','a3','a4','a5','a6'])\n",
        "s"
      ]
    },
    {
      "cell_type": "code",
      "execution_count": 103,
      "metadata": {
        "colab": {
          "base_uri": "https://localhost:8080/"
        },
        "id": "XyIkj7MI-zmC",
        "outputId": "40b76023-e55b-4270-a008-b04ce25df99b"
      },
      "outputs": [
        {
          "output_type": "execute_result",
          "data": {
            "text/plain": [
              "a2     3\n",
              "a4     4\n",
              "a6     5\n",
              "a3    21\n",
              "a1    23\n",
              "a5    34\n",
              "dtype: int64"
            ]
          },
          "metadata": {},
          "execution_count": 103
        }
      ],
      "source": [
        "s.sort_values()"
      ]
    },
    {
      "cell_type": "code",
      "execution_count": 104,
      "metadata": {
        "colab": {
          "base_uri": "https://localhost:8080/"
        },
        "id": "LYlNhwZx-zmD",
        "outputId": "a3ff5bc4-50df-472a-db05-c3ca80b81814"
      },
      "outputs": [
        {
          "output_type": "execute_result",
          "data": {
            "text/plain": [
              "a5    34\n",
              "a1    23\n",
              "a3    21\n",
              "a6     5\n",
              "a4     4\n",
              "a2     3\n",
              "dtype: int64"
            ]
          },
          "metadata": {},
          "execution_count": 104
        }
      ],
      "source": [
        "s.sort_values(ascending=False)"
      ]
    },
    {
      "cell_type": "code",
      "execution_count": 105,
      "metadata": {
        "colab": {
          "base_uri": "https://localhost:8080/"
        },
        "id": "YRddr34D-zmD",
        "outputId": "528a6b65-6b88-4d92-94ca-1fa0695461b3"
      },
      "outputs": [
        {
          "output_type": "execute_result",
          "data": {
            "text/plain": [
              "a5    34\n",
              "a1    23\n",
              "a3    21\n",
              "a6     5\n",
              "a4     4\n",
              "a2     3\n",
              "dtype: int64"
            ]
          },
          "metadata": {},
          "execution_count": 105
        }
      ],
      "source": [
        "s.sort_values(ascending=False , inplace=True)\n",
        "s"
      ]
    },
    {
      "cell_type": "markdown",
      "metadata": {
        "id": "cMmcM40Z-zmD"
      },
      "source": [
        "#### .sort_index()"
      ]
    },
    {
      "cell_type": "code",
      "execution_count": 106,
      "metadata": {
        "colab": {
          "base_uri": "https://localhost:8080/"
        },
        "id": "n3Of9Tny-zmE",
        "outputId": "bcf05fb3-dd5a-4e66-e02f-d6288b23849c"
      },
      "outputs": [
        {
          "output_type": "execute_result",
          "data": {
            "text/plain": [
              "a1    23\n",
              "a2     3\n",
              "a3    21\n",
              "a4     4\n",
              "a5    34\n",
              "a6     5\n",
              "dtype: int64"
            ]
          },
          "metadata": {},
          "execution_count": 106
        }
      ],
      "source": [
        "s.sort_index()"
      ]
    },
    {
      "cell_type": "markdown",
      "metadata": {
        "id": "EtObfvbQ-zmF"
      },
      "source": [
        "# Applying Function to every item in series\n",
        "\n",
        "The .map method applies a function to every item in the series."
      ]
    },
    {
      "cell_type": "code",
      "execution_count": 107,
      "metadata": {
        "colab": {
          "base_uri": "https://localhost:8080/"
        },
        "id": "YYa-S2NG-zmF",
        "outputId": "1001af92-2021-43e2-b82b-b5e82e644b3e"
      },
      "outputs": [
        {
          "output_type": "execute_result",
          "data": {
            "text/plain": [
              "printer      123\n",
              "mobile     200 $\n",
              "laptop     300 $\n",
              "Name: price, dtype: object"
            ]
          },
          "metadata": {},
          "execution_count": 107
        }
      ],
      "source": [
        "s = pd.Series(['123','200 $','300 $'],name='price',index=['printer','mobile','laptop'])\n",
        "s"
      ]
    },
    {
      "cell_type": "code",
      "execution_count": 108,
      "metadata": {
        "id": "xZ5SgCcm-zmF"
      },
      "outputs": [],
      "source": [
        "def remove_d(x):\n",
        "    if x.endswith('$'):\n",
        "        return int(x[:-2])\n",
        "    else:\n",
        "        return x"
      ]
    },
    {
      "cell_type": "code",
      "execution_count": 109,
      "metadata": {
        "colab": {
          "base_uri": "https://localhost:8080/"
        },
        "id": "OI7W3LtL-zmG",
        "outputId": "da65e713-88ae-434d-b496-6f5d1ed1baf9"
      },
      "outputs": [
        {
          "output_type": "execute_result",
          "data": {
            "text/plain": [
              "printer    123\n",
              "mobile     200\n",
              "laptop     300\n",
              "Name: price, dtype: object"
            ]
          },
          "metadata": {},
          "execution_count": 109
        }
      ],
      "source": [
        "s.map(remove_d)"
      ]
    },
    {
      "cell_type": "code",
      "execution_count": 110,
      "metadata": {
        "colab": {
          "base_uri": "https://localhost:8080/"
        },
        "id": "cb47LZwG-zmH",
        "outputId": "2b521d10-4a14-42d6-e625-a7707116d1b7"
      },
      "outputs": [
        {
          "output_type": "stream",
          "name": "stdout",
          "text": [
            "one      1\n",
            "two      2\n",
            "three    3\n",
            "dtype: int64\n",
            "1    foo\n",
            "2    bar\n",
            "3    baz\n",
            "dtype: object\n"
          ]
        }
      ],
      "source": [
        "# the . map function also accept a series.\n",
        "# Any value of the series that matches the passed in index value\n",
        "#will be updated to the corresponding value\n",
        "\n",
        "x = pd.Series([1,2,3], index=['one', 'two', 'three'])\n",
        "print(x)\n",
        "y = pd.Series(['foo', 'bar', 'baz'], index=[1,2,3])\n",
        "print(y)"
      ]
    },
    {
      "cell_type": "code",
      "execution_count": 111,
      "metadata": {
        "colab": {
          "base_uri": "https://localhost:8080/"
        },
        "id": "IUXxyBc--zmJ",
        "outputId": "fafb9422-a757-4a69-d840-c4e23efa36ec"
      },
      "outputs": [
        {
          "output_type": "execute_result",
          "data": {
            "text/plain": [
              "one      foo\n",
              "two      bar\n",
              "three    baz\n",
              "dtype: object"
            ]
          },
          "metadata": {},
          "execution_count": 111
        }
      ],
      "source": [
        "x.map(y)"
      ]
    },
    {
      "cell_type": "markdown",
      "metadata": {
        "id": "BqDw5nZU-zmL"
      },
      "source": [
        "# String operations\n",
        "\n",
        "A series that has string data can be manipulated by vectorized string\n",
        "operations. \n",
        "\n",
        "Though it is possible to accomplish these same operations via\n",
        "the .map method.\n",
        "\n",
        "Typically, built-in methods will be faster because they are vectorized and often implemented in Cython.\n",
        "\n",
        "To invoke the string operations, simply invoke them on the .str attribute of the series"
      ]
    },
    {
      "cell_type": "code",
      "execution_count": 112,
      "metadata": {
        "colab": {
          "base_uri": "https://localhost:8080/"
        },
        "id": "UNr_vTsJ-zmL",
        "outputId": "9a89177d-dd69-4368-a015-fef1dab42aab"
      },
      "outputs": [
        {
          "output_type": "execute_result",
          "data": {
            "text/plain": [
              "0    George\n",
              "1      John\n",
              "2      Paul\n",
              "dtype: object"
            ]
          },
          "metadata": {},
          "execution_count": 112
        }
      ],
      "source": [
        "names = pd.Series(['George', 'John', 'Paul'])\n",
        "names"
      ]
    },
    {
      "cell_type": "code",
      "execution_count": 113,
      "metadata": {
        "colab": {
          "base_uri": "https://localhost:8080/"
        },
        "id": "WXm3Q6gl-zmM",
        "outputId": "4ffa855c-6c50-4c25-ca5e-cbca381e18a8"
      },
      "outputs": [
        {
          "output_type": "execute_result",
          "data": {
            "text/plain": [
              "0    george\n",
              "1      john\n",
              "2      paul\n",
              "dtype: object"
            ]
          },
          "metadata": {},
          "execution_count": 113
        }
      ],
      "source": [
        "names.str.lower()"
      ]
    },
    {
      "cell_type": "markdown",
      "metadata": {
        "id": "yo9AvRkb-zmN"
      },
      "source": [
        "# The following vectorized string methods are available\n",
        "\n"
      ]
    },
    {
      "cell_type": "markdown",
      "source": [
        "Method, Result\n",
        "contains, pattern matching boolean result\n",
        "count, pattern occurrence count result\n",
        "decode, decode a codec encoding\n",
        "encode, encode a codec encoding\n",
        "startswith, pattern matching for string start with boolean result\n",
        "endswith, pattern matching for string end with boolean result\n",
        "findall, find pattern in string\n",
        "get, attribute access on items\n",
        "join, join items with a separator into a string\n",
        "len, total size of items\n",
        "lower, convert items to lowercase\n",
        "upper, convert items to uppercase\n",
        "lstrip, removes whitespaces to the left of items\n",
        "rstrip, removes whitespaces to the right of items\n",
        "strip, removes whitespaces to both sides of items\n",
        "repeat, repeat the string a certain number of times\n",
        "replace, change/replace a particular part of string\n",
        "slice, pull slices of string\n",
        "split, split items by pattern\n",
        "title, titlecase the items"
      ],
      "metadata": {
        "id": "6rUGO4nC_-06"
      }
    },
    {
      "cell_type": "code",
      "source": [
        ""
      ],
      "metadata": {
        "id": "hI7IWYOU__t1"
      },
      "execution_count": null,
      "outputs": []
    }
  ],
  "metadata": {
    "kernelspec": {
      "display_name": "Python 3",
      "language": "python",
      "name": "python3"
    },
    "language_info": {
      "codemirror_mode": {
        "name": "ipython",
        "version": 3
      },
      "file_extension": ".py",
      "mimetype": "text/x-python",
      "name": "python",
      "nbconvert_exporter": "python",
      "pygments_lexer": "ipython3",
      "version": "3.7.1"
    },
    "colab": {
      "name": "Lecture 6a Introduction, Pandas Data Structures; Series CRUD operations.ipynb",
      "provenance": [],
      "collapsed_sections": [
        "TizX_Ahe-zkW",
        "Bq2dR2eh-zkl",
        "ppZ21rng-zky",
        "tSMdoPbW-zlR",
        "1kJt_Iwd-zlT",
        "bZFAIAGh-zl0"
      ],
      "include_colab_link": true
    }
  },
  "nbformat": 4,
  "nbformat_minor": 0
}